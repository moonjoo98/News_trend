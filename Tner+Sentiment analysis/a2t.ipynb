{
 "cells": [
  {
   "cell_type": "markdown",
   "metadata": {},
   "source": [
    "# Realtion extraction\n",
    "\n",
    "Posline = 둘다 긍정\n",
    "\n",
    "Negline = 둘다 부정\n",
    "\n",
    "Under = 앞에 부정 뒤에 긍정\n",
    "\n",
    "Over= 앞에 긍정 뒤에 부정\n",
    "\n",
    "Pos = 앞에만 긍정\n",
    "\n",
    "Neg = 앞에만 부정\n",
    "\n",
    "No-rel : 연관없음"
   ]
  },
  {
   "cell_type": "code",
   "execution_count": 1,
   "metadata": {},
   "outputs": [],
   "source": [
    "# from a2t.data import Dataset\n",
    "from a2t.tasks import BinaryTask, BinaryFeatures\n",
    "import pandas as pd\n",
    "from itertools import combinations\n",
    "import numpy as np\n",
    "from tqdm import tqdm\n",
    "\n",
    "\n",
    "\n",
    "templates = {\n",
    "    ## Business (Found, Buy, Sell, Merge, Operate, IPO, Privatize, Invest, Cancel, Bid)\n",
    "    # Found (Posline)\n",
    "    \"Posline-Found\": [\n",
    "        \"{X} founded {Y}\",\n",
    "        \"{X} is founded by {Y}\"\n",
    "        ],     # \"A\" founded B / \"A\" is founded by B / 둘다 긍정\n",
    "    # Buy (Under, Posline, Pos)\n",
    "    \"Under-Buy\": [\n",
    "        \"{X} buys {Y}\"\n",
    "        ],            # \"A\" buys B / 앞에꺼 부정 뒤에꺼 긍정\n",
    "    \"Posline-Buy\": [\n",
    "        \"{X} and {Y} are bought\",\n",
    "        \"{X} buys {Y}\",\n",
    "        ],          # \"A\" buys B #돌다긍정\n",
    "    \"Pos-Buy\": [\n",
    "        \"{X} buys {Y}\"\n",
    "        ],    # \"A\" is bought by B #앞에꺼만 긍정\n",
    "    # Sell (Over, Under, Posline, Negline, Pos, Neg) - Distinction ?\n",
    "    \"Over-Sell\": [\n",
    "        \"{X} is sold to {Y}\"\n",
    "        ],    # \"A\" is sold to B # 앞에꺼만 긍정 뒤에꺼 부정 \n",
    "    \"Posline-Sell\": [ \n",
    "        \"{X} and {Y} are sold\",\n",
    "        \"{X} is sold to {Y}\",\n",
    "        \"{X} spuns {Y} off\"\n",
    "        ],        # \"A\" sells B # 둘다 긍정\n",
    "    \"Negline-Sell\": [\n",
    "        \"{X} winds down {Y}\"\n",
    "        ], # \"A\" is sold to B # 둘다 부정\n",
    "    \"Pos-Sell\": [\n",
    "        \"{X} sells {Y}\",\n",
    "        \"{X} is sold to {Y}\",\n",
    "        \"{X} divests {Y}\"],            # \"A\" sells B / \"A\" is sold to B # 앞에꺼만 긍정\n",
    "    \"Neg-Sell\": [\n",
    "        \"{X} sells {Y}\",\n",
    "        \"{X} leaves {Y}\",\n",
    "        \"{X} spinoffs {Y}\"],            # \"A\" sells B # 앞에꺼만 부정\n",
    "    # Merge (Posline)\n",
    "    \"Posline-Merge\": [\n",
    "        \"{X} merges with {Y}\"\n",
    "        ],    # \"A\" is merged with B #둘다 긍정\n",
    "    # Operate (Posline, Negline, Pos, Neg)\n",
    "    \"Posline-Operate\": [\n",
    "        \"{X} increases operation (of) {Y}\"\n",
    "        ],  # \"A\" increased operation of B #둘다 긍정 \n",
    "    \"Negline-Operate\": [\n",
    "        \"{X} decreases operation (of) {Y}\"\n",
    "        ],  # \"A\" decreased operation of B # 둘다 부정 \n",
    "    \"Pos-Operate\": [\n",
    "        \"{X} increases operation (in) {Y}\"\n",
    "        ],                   # \"A\" increased operation # 앞에꺼 긍정\n",
    "    \"Neg-Operate\": [\n",
    "        \"{X} decreases operation (in) {Y}\"\n",
    "        ],                   # \"A\" decreased operation (+ recall) # 뒤에꺼 부정\n",
    "    # IPO (Posline)\n",
    "    \"Posline-IPO\": [\n",
    "        \"{X} IPO {Y}\"\n",
    "        ],   # \"A\" IPO # 둘다 긍정 \n",
    "    # Privatize (Over, Under, Posline)\n",
    "    \"Over-Privatize\": [\n",
    "        \"{X} is taken private by {Y}\"\n",
    "        ],  # \"A\" is taken private by B # 앞에꺼만 긍정 뒤에꺼 부정\n",
    "    \"Under-Privatize\": [ \n",
    "        \"{X} privatizes {Y}\"\n",
    "        ],            # \"A\" privatizes B #앞에꺼마 부정 뒤에꺼 긍정\n",
    "    \"Posline-Privatize\": [\n",
    "        \"{X} and {Y} are privatized\"\n",
    "        ],          # \"A\" privatizes # 둘다 긍정\n",
    "    # Invest (Posline)\n",
    "    \"Posline-Invest\": [\n",
    "        \"{X} invests (in) {Y}\",\n",
    "        \"{X} is invested (by) {Y}\"\n",
    "        ], # \"A\" invested in B / \"A\" is invested by B ? # 둘다 긍정\n",
    "    # Cancel (Neg, Over)\n",
    "    \"Neg-Cancel\": [\n",
    "        \"{X} cancels {Y}\"\n",
    "        ],        # \"A\" cancels B / \"A\" is canceled by B / \"A\" rejects (denies) \"B\" # 앞에꺼만 부정\n",
    "    \"Over-Cancel\": [\n",
    "        \"{X} rejects {Y}\"\n",
    "        ],       # \"A\" cancels B (\"A\" doesn't support B) / \"A\" leaves B # 앞에꺼만 긍정 뒤에꺼 부정\n",
    "    # Bid (Over, Under, Pos)\n",
    "    \"Over-Bid\": [\n",
    "        \"{X} wins the bid (against) {Y}\"\n",
    "        ],   # \"A\" wins the bid against B #앞에꺼 긍정 뒤에꺼 부정\n",
    "    \"Under-Bid\": [\n",
    "        \"{X} loses the bid (to) {Y}\"\n",
    "        ],      # \"A\" loses the bid to B #앞에께 부정 뒤에꼐 긍정\n",
    "    \"Pos-Bid\": [\n",
    "        \"{X} wins the bid (in) {Y}\"\n",
    "        ],         # \"A\" wins the bid in B #앞에꺼만 긍정\n",
    "    \n",
    "    ## Family / Ownership\n",
    "    \"Posline-Family\": [\n",
    "        \"{X} same family as {Y}\"\n",
    "        ],     # \"A\" Same Family as B #둘다 긍정\n",
    "    \n",
    "    ## Cooperation (win-win)\n",
    "    \"Posline-Cooperate\": [\n",
    "        \"{X} cooperates with {Y}\"\n",
    "        ], # \"A\" cooperates with B / \"A\" uses B #둘다 긍정\n",
    "    \n",
    "    ## Performance (Outperform, Underperform, Inline, Rate)\n",
    "    # Perform (Over, Under, Pos, Neg)\n",
    "    \"Over-Perform\": [\n",
    "        \"{X} outperforms {Y}\"\n",
    "        ],          # \"A\" outperforms B 앞에꺼 긍정 뒤에꺼 부정\n",
    "    \"Under-Perform\": [\n",
    "        \"{X} underperforms {Y}\"\n",
    "        ],       # \"A\" underperforms B 앞에꺼 부정 뒤에꺼 긍정\n",
    "    \"Pos-Perform\": [\n",
    "        \"{X} Performs well (in) {Y}\"\n",
    "        ],         # \"A\" performs well 앞에만 긍정\n",
    "    \"Neg-Perform\": [\n",
    "        \"{X} Performs bad (in) {Y}\"\n",
    "        ],          # \"A\" performs bad 앞에만 부정\n",
    "    # Inline (Posline, Negline)\n",
    "    \"Posline-Inline\": [\n",
    "        \"{X} performs positively as {Y}\"\n",
    "        ],   # \"A\" performs positively as B\n",
    "    \"Negline-Inline\": [\n",
    "        \"{X} performs negatively as {Y}\"\n",
    "        ],   # \"A\" performs negatively as B\n",
    "    # Rate (Over, Under, Posline, Negline, Pos, Neg)\n",
    "    \"Over-Rate\": [\n",
    "        \"{X} undervalues {Y}\",\n",
    "        \"{X} is skeptical of {Y}\"],              # \"A\" undervalues B\n",
    "    \"Posline-Rate\": [\n",
    "        \"{X} recognizes {Y}\",\n",
    "        \"{X} retains its rating on {Y}\",\n",
    "        \"{X} upgrades its rating on {Y}\"],           # \"A\" recognizes B\n",
    "    \"Negline-Rate\": [\n",
    "        \"{X} is undervalued as {Y}\",\n",
    "        \"{X} and {Y} are undervalued\"\n",
    "        ],    # \"A\" is undervalued as B\n",
    "    \"Pos-Rate\": [\n",
    "        \"{X} is recognized (by) {Y}\",\n",
    "        \"{X} positive analysis (by) {Y}\"\n",
    "        \"{X} is awarded (by) {Y}\",\n",
    "        \"{X} is named (to) {Y}\",\n",
    "        \"{X} earns {Y}\"],       # \"A\" is recognized by B\n",
    "    \"Neg-Rate\": [\n",
    "        \"{X} is undervalued (by) {Y}\",\n",
    "        \"{X} is downgraded its rating (by) {Y}\"\n",
    "        \"{X} is rejected (by) {Y}\",\n",
    "        \"{X} is invalidated (by) {Y}\"\n",
    "        ],      # \"A\" is undervalued by B\n",
    "    \n",
    "    ## Recruitment (Hire, Fire, Quit, Lose)\n",
    "    # Hire (Over, Posline)\n",
    "    \"Over-Hire\": [\n",
    "        \"{X} hires from {Y}\",\n",
    "        \"{X} poaches from {Y}\"\n",
    "        ],  # \"A\" hires from B\n",
    "    \"Posline-Hire\": [\n",
    "        \"{X} hires {Y}\",\n",
    "        \"{X} poaches {Y}\"\n",
    "        ],    # \"A\" hires B\n",
    "    # Fire\n",
    "    \"Over-Fire\": [\n",
    "        \"{X} fires {Y}\"\n",
    "        ],   # \"A\" fires B\n",
    "    # Quit\n",
    "    \"Over-Quit\": [\n",
    "        \"{X} quits {Y}\",\n",
    "        \"{X} retires (from) {Y}\"\n",
    "        ],   # \"A\" quits B\n",
    "    # Lose\n",
    "    \"Under-Lose\": [\n",
    "        \"{X} loses (to) {Y}\"\n",
    "        ], # \"A\" loses (to) B\n",
    "\n",
    "    ## Legal (Allege, Regulate, Verdict)\n",
    "    # Allege (Over, Under, Negline, Neg)\n",
    "    \"Over-Allege\": [\n",
    "        \"{X} files a lawsuit (against) {Y}\",\n",
    "        \"{X} sues {Y}\",\n",
    "        \"{X} persues a legal challenge (against) {Y}\",\n",
    "        \"{X} appels the ruling (against) {Y}\",\n",
    "        \"{X} alleges {Y}\",\n",
    "        \"{X} accuses {Y}\",\n",
    "        \"{X} urges {Y}\",\n",
    "        \"{X} lashes out at {Y}\"\n",
    "        ],           # \"A\" is alleged (by) B\n",
    "    \"Under-Allege\": [\n",
    "        \"{X} is alleged by {Y}\",\n",
    "        \"{X} is sued by {Y}\",\n",
    "        \"{X} is indicted by {Y}\",\n",
    "        \"{X} is accused by {Y}\"\n",
    "        ],           # \"A\" is alleged by B\n",
    "    \"Negline-Allege\": [\n",
    "        \"{X} is alleged as {Y}\",\n",
    "        \"{X} is accused of {Y}\"\n",
    "        ],       # \"A\" is alleged as B\n",
    "    \"Neg-Allege\": [\n",
    "        \"{X} angers {Y}\"],           # \"A\" is alleged (by) B\n",
    "    # Regulate (Over, Neg)\n",
    "    \"Over-Regulate\": [\n",
    "        \"{X} regulates {Y}\",\n",
    "        \"{X} orders {Y}\",\n",
    "        \"{X} investigates {Y}\",\n",
    "        \"{X} probes {Y}\",\n",
    "        \"{X} requires {Y}\"\n",
    "        ],               # \"A\" regulates B\n",
    "    \"Neg-Regulate\": [\n",
    "        \"{X} is subponaed (by) {Y}\"\n",
    "        ],\n",
    "    # Verdict (Over, Under, Posline, Negline, Pos, Neg)\n",
    "    \"Over-Verdict\": [\n",
    "        \"{X} wins against {Y}\",\n",
    "        \"{X} disallows {Y}\",\n",
    "        \"{X} fined {Y}\",\n",
    "        \"{X} sentences {Y}\"\n",
    "        ],                 # \"A\" wins against B\n",
    "    \"Under-Verdict\": [\n",
    "        \"{X} loses to {Y}\"\n",
    "        ],                   # \"A\" loses to B\n",
    "    \"Posline-Verdict\": [\n",
    "        \"{X} allows {Y}\",\n",
    "        \"{X} settles (with) {Y}\"],                # \"A\" allows B \n",
    "    \"Negline-Verdict\": [\n",
    "        \"{X} is order by {Y}\"\n",
    "        ],                   # \"A\" loses (in) B\n",
    "    \"Pos-Verdict\": [\n",
    "        \"{X} wins (in) {Y}\",\n",
    "        \"{X} settles {Y}\"\n",
    "        ],                     # \"A\" wins (in) B\n",
    "    \"Neg-Verdict\": [\n",
    "        \"{X} loses (in) {Y}\",\n",
    "        \"{X} is ordered as {Y}\"\n",
    "        ],                   # \"A\" loses (in) B\n",
    "\n",
    "    ## News release (Launch, Patent, Authorize)\n",
    "    # Launch\n",
    "    \"Posline-Launch\": [\n",
    "        \"{X} launches (as) {Y}\"\n",
    "        ],          # \"A\" launches (as) B\n",
    "    # Patent\n",
    "    \"Posline-Patent\": [\n",
    "        \"{X} files a patent (for) {Y}\"\n",
    "        ],   # \"A\" files a patent for B\n",
    "    # Authorize (Pos, Neg)\n",
    "    \"Pos-Authorize\": [\n",
    "        \"{X} is authorized (by) {Y}\"\n",
    "        ],      # \"A\" is authorized by B [Medecin]\n",
    "    \"Neg-Authorize\": [\n",
    "        \"{X} not authorized (by) {Y}\"\n",
    "        ],     # \"A\" not authorized by B [Medecin]\n",
    "\n",
    "    ## Bankruptcy\n",
    "    \"Pos-Bankruptcy\": [\n",
    "        \"{X} exits bankruptcy {Y}\"\n",
    "        ], # \"A\" exits bankrupt\n",
    "    \"Neg-Bankruptcy\": [\n",
    "        \"{X} goes bankrupt {Y}\"\n",
    "        ],  # \"A\" goes bankrupt\n",
    "    # \"No-rel\": \"Unrelated\",\n",
    "}\n",
    "\n",
    "labels = list(templates.keys())"
   ]
  },
  {
   "cell_type": "code",
   "execution_count": 2,
   "metadata": {},
   "outputs": [],
   "source": [
    "valid_conditions = {key:['ORGANIZATION:ORGANIZATION'] for key in labels}"
   ]
  },
  {
   "cell_type": "code",
   "execution_count": 3,
   "metadata": {},
   "outputs": [],
   "source": [
    "labels = list(dict.fromkeys(['No-rel']+labels))"
   ]
  },
  {
   "cell_type": "code",
   "execution_count": 4,
   "metadata": {},
   "outputs": [],
   "source": [
    "task = BinaryTask(\n",
    "    name=\"Relation Classification task\",\n",
    "    required_variables=[\"X\", \"Y\"],\n",
    "    additional_variables=[\"inst_type\"],\n",
    "    labels=labels,\n",
    "    templates=templates,\n",
    "    valid_conditions=valid_conditions,\n",
    "    negative_label_id=0,\n",
    "    multi_label=True,\n",
    "    features_class=BinaryFeatures\n",
    ")"
   ]
  },
  {
   "cell_type": "code",
   "execution_count": 5,
   "metadata": {},
   "outputs": [],
   "source": [
    "from a2t.base import EntailmentClassifier\n",
    "\n",
    "nlp = EntailmentClassifier(\n",
    "    # \"microsoft/deberta-v2-xlarge-mnli\",\n",
    "    \"roberta-large-mnli\",\n",
    "    use_tqdm=False,\n",
    "    use_cuda=True, \n",
    "    half=True\n",
    ")"
   ]
  },
  {
   "cell_type": "code",
   "execution_count": 6,
   "metadata": {},
   "outputs": [],
   "source": [
    "ticker_df=pd.read_csv('C:/Users/Quantec/finBERT-master_pro/notebooks/0811_finner.csv',encoding='utf-8-sig')\n",
    "ticker_df.drop(columns=['Unnamed: 0'],inplace=True)\n",
    "ticker_df.drop('prediction',axis=1,inplace=True)\n",
    "\n",
    "ticker_df.entity_list=ticker_df.entity_list.astype(str)\n",
    "ticker_df.entity_list=ticker_df['entity_list'].str.replace('[',\"\",regex=True)\n",
    "ticker_df.entity_list=ticker_df['entity_list'].str.replace(']',\"\",regex=True)\n",
    "ticker_df.entity_list=ticker_df['entity_list'].str.replace('\"',\"\",regex=True)\n",
    "ticker_df.entity_list=ticker_df['entity_list'].str.replace('\\'',\"\",regex=True)"
   ]
  },
  {
   "cell_type": "code",
   "execution_count": 54,
   "metadata": {},
   "outputs": [],
   "source": [
    "# symbol_df=pd.read_csv('symbol_dictionary.csv')\n",
    "# symbol_df=symbol_df.drop(columns='Unnamed: 0')\n",
    "\n",
    "# symbol_df.text=symbol_df.text.astype(str)\n",
    "# symbol_df.text=symbol_df['text'].str.replace('[',\"\",regex=True)\n",
    "# symbol_df.text=symbol_df['text'].str.replace(']',\"\",regex=True)\n",
    "# symbol_df.text=symbol_df['text'].str.replace('\"',\"\",regex=True)\n",
    "# symbol_df.text=symbol_df['text'].str.replace('\\'',\"\",regex=True)"
   ]
  },
  {
   "cell_type": "code",
   "execution_count": 7,
   "metadata": {},
   "outputs": [],
   "source": [
    "#티커 변환 사전 load\n",
    "import pickle\n",
    "with open('symbol_dict.pickle', 'rb') as fr:\n",
    "    symbol_dict = pickle.load(fr)\n",
    "    \n",
    "def ticker_change(x):\n",
    "    for symbol, names in symbol_dict.items():\n",
    "        if x in names:\n",
    "            return symbol\n",
    "    return np.nan\n"
   ]
  },
  {
   "cell_type": "code",
   "execution_count": 8,
   "metadata": {},
   "outputs": [],
   "source": [
    "# entity_list 2개이상인것만 추출\n",
    "Relation_df=ticker_df[ticker_df.entity_list.apply(lambda x: True if len(x.split(', ')) >=2 else False)].reset_index(drop=True)"
   ]
  },
  {
   "cell_type": "code",
   "execution_count": 9,
   "metadata": {},
   "outputs": [],
   "source": [
    "# ticker_dfticker_df.entity_list.apply(lambda x : list(dict.fromkeys(x.split(', '))))"
   ]
  },
  {
   "cell_type": "code",
   "execution_count": 10,
   "metadata": {},
   "outputs": [],
   "source": [
    "#entity_list 1개인것 추출\n",
    "no_Relation_df=ticker_df[ticker_df.entity_list.apply(lambda x: False if len(x.split(', ')) >=2 else True)]"
   ]
  },
  {
   "cell_type": "code",
   "execution_count": 11,
   "metadata": {},
   "outputs": [],
   "source": [
    "x_list=[]\n",
    "y_list=[]\n",
    "index_list=[]\n",
    "\n",
    "for i in range(Relation_df.shape[0]):\n",
    "    items=[i for i in range(len(Relation_df.entity_list[i].split(', ')))]\n",
    "    items_tuple=list(combinations(items, 2))\n",
    "    for j,k in items_tuple:\n",
    "        X=Relation_df.entity_list[i].split(', ')[j]\n",
    "        Y=Relation_df.entity_list[i].split(', ')[k]\n",
    "        x_list.append(X)\n",
    "        y_list.append(Y)\n",
    "        index_list.append(i)\n",
    "\n",
    "                       \n",
    "        "
   ]
  },
  {
   "cell_type": "code",
   "execution_count": 12,
   "metadata": {},
   "outputs": [],
   "source": [
    "text_list=[]\n",
    "news_label_list=[]\n",
    "#ticker_list=[]\n",
    "sentiment_score=[]\n",
    "for i in range(len(index_list)):\n",
    "    idx=index_list[i]\n",
    "    text=Relation_df.contents[idx]\n",
    "    text_list.append(text)\n",
    "    label=Relation_df.news_label[idx]\n",
    "    news_label_list.append(label)\n",
    "    #ticker=ticker_df.ticker[idx]\n",
    "    #ticker_list.append(ticker)\n",
    "    score=Relation_df.sentiment_score[idx]\n",
    "    sentiment_score.append(score)"
   ]
  },
  {
   "cell_type": "code",
   "execution_count": 13,
   "metadata": {},
   "outputs": [],
   "source": [
    "x_y_df=pd.DataFrame([news_label_list,text_list,x_list,y_list,sentiment_score]).T\n",
    "x_y_df.columns=['news_label','contents','X','Y','sentiment_score']"
   ]
  },
  {
   "cell_type": "code",
   "execution_count": 14,
   "metadata": {},
   "outputs": [],
   "source": [
    "same_x_y=x_y_df[x_y_df.X == x_y_df.Y]#.loc[:,['index','score']]\n",
    "same_x_y=same_x_y.drop('Y',axis=1).rename(columns={'X':'entity_list'})"
   ]
  },
  {
   "cell_type": "code",
   "execution_count": 15,
   "metadata": {},
   "outputs": [],
   "source": [
    "no_Relation_df=pd.concat([no_Relation_df,same_x_y])\n",
    "no_Relation_df.reset_index(drop=True,inplace=True)"
   ]
  },
  {
   "cell_type": "code",
   "execution_count": 16,
   "metadata": {},
   "outputs": [],
   "source": [
    "no_Relation_df['entity_list'] = no_Relation_df['entity_list'].apply(ticker_change)\n",
    "no_relation_ticker_change=no_Relation_df.dropna(how='any',axis=0).reset_index(drop=True)"
   ]
  },
  {
   "cell_type": "code",
   "execution_count": 17,
   "metadata": {},
   "outputs": [
    {
     "data": {
      "text/html": [
       "<div>\n",
       "<style scoped>\n",
       "    .dataframe tbody tr th:only-of-type {\n",
       "        vertical-align: middle;\n",
       "    }\n",
       "\n",
       "    .dataframe tbody tr th {\n",
       "        vertical-align: top;\n",
       "    }\n",
       "\n",
       "    .dataframe thead th {\n",
       "        text-align: right;\n",
       "    }\n",
       "</style>\n",
       "<table border=\"1\" class=\"dataframe\">\n",
       "  <thead>\n",
       "    <tr style=\"text-align: right;\">\n",
       "      <th></th>\n",
       "      <th>news_label</th>\n",
       "      <th>contents</th>\n",
       "      <th>entity_list</th>\n",
       "      <th>sentiment_score</th>\n",
       "    </tr>\n",
       "  </thead>\n",
       "  <tbody>\n",
       "    <tr>\n",
       "      <th>0</th>\n",
       "      <td>0</td>\n",
       "      <td>DDOG reported revenue growth that significantl...</td>\n",
       "      <td>DD</td>\n",
       "      <td>0.940325</td>\n",
       "    </tr>\n",
       "    <tr>\n",
       "      <th>1</th>\n",
       "      <td>0</td>\n",
       "      <td>Barclays analyst Raimo Lenschow maintained an ...</td>\n",
       "      <td>BCS</td>\n",
       "      <td>-0.039824</td>\n",
       "    </tr>\n",
       "    <tr>\n",
       "      <th>2</th>\n",
       "      <td>2</td>\n",
       "      <td>Ball Corp management has indicated that the de...</td>\n",
       "      <td>BLL</td>\n",
       "      <td>-0.963595</td>\n",
       "    </tr>\n",
       "    <tr>\n",
       "      <th>3</th>\n",
       "      <td>2</td>\n",
       "      <td>Deutsche Bank analyst Kyle White downgraded Ba...</td>\n",
       "      <td>DB</td>\n",
       "      <td>-0.78644</td>\n",
       "    </tr>\n",
       "    <tr>\n",
       "      <th>4</th>\n",
       "      <td>4</td>\n",
       "      <td>It was business as usual at Tesla’s (TSLA) ann...</td>\n",
       "      <td>TSLA</td>\n",
       "      <td>0.006504</td>\n",
       "    </tr>\n",
       "    <tr>\n",
       "      <th>...</th>\n",
       "      <td>...</td>\n",
       "      <td>...</td>\n",
       "      <td>...</td>\n",
       "      <td>...</td>\n",
       "    </tr>\n",
       "    <tr>\n",
       "      <th>1199</th>\n",
       "      <td>443</td>\n",
       "      <td>Why tech workers are quitting great jobs at co...</td>\n",
       "      <td>GOOG</td>\n",
       "      <td>-0.377019</td>\n",
       "    </tr>\n",
       "    <tr>\n",
       "      <th>1200</th>\n",
       "      <td>443</td>\n",
       "      <td>Why tech workers are quitting great jobs at co...</td>\n",
       "      <td>GOOG</td>\n",
       "      <td>-0.377019</td>\n",
       "    </tr>\n",
       "    <tr>\n",
       "      <th>1201</th>\n",
       "      <td>443</td>\n",
       "      <td>Why tech workers are quitting great jobs at co...</td>\n",
       "      <td>GOOG</td>\n",
       "      <td>-0.377019</td>\n",
       "    </tr>\n",
       "    <tr>\n",
       "      <th>1202</th>\n",
       "      <td>443</td>\n",
       "      <td>Why tech workers are quitting great jobs at co...</td>\n",
       "      <td>CVX</td>\n",
       "      <td>-0.377019</td>\n",
       "    </tr>\n",
       "    <tr>\n",
       "      <th>1203</th>\n",
       "      <td>443</td>\n",
       "      <td>Why tech workers are quitting great jobs at co...</td>\n",
       "      <td>GOOG</td>\n",
       "      <td>-0.377019</td>\n",
       "    </tr>\n",
       "  </tbody>\n",
       "</table>\n",
       "<p>1204 rows × 4 columns</p>\n",
       "</div>"
      ],
      "text/plain": [
       "     news_label                                           contents  \\\n",
       "0             0  DDOG reported revenue growth that significantl...   \n",
       "1             0  Barclays analyst Raimo Lenschow maintained an ...   \n",
       "2             2  Ball Corp management has indicated that the de...   \n",
       "3             2  Deutsche Bank analyst Kyle White downgraded Ba...   \n",
       "4             4  It was business as usual at Tesla’s (TSLA) ann...   \n",
       "...         ...                                                ...   \n",
       "1199        443  Why tech workers are quitting great jobs at co...   \n",
       "1200        443  Why tech workers are quitting great jobs at co...   \n",
       "1201        443  Why tech workers are quitting great jobs at co...   \n",
       "1202        443  Why tech workers are quitting great jobs at co...   \n",
       "1203        443  Why tech workers are quitting great jobs at co...   \n",
       "\n",
       "     entity_list sentiment_score  \n",
       "0             DD        0.940325  \n",
       "1            BCS       -0.039824  \n",
       "2            BLL       -0.963595  \n",
       "3             DB        -0.78644  \n",
       "4           TSLA        0.006504  \n",
       "...          ...             ...  \n",
       "1199        GOOG       -0.377019  \n",
       "1200        GOOG       -0.377019  \n",
       "1201        GOOG       -0.377019  \n",
       "1202         CVX       -0.377019  \n",
       "1203        GOOG       -0.377019  \n",
       "\n",
       "[1204 rows x 4 columns]"
      ]
     },
     "execution_count": 17,
     "metadata": {},
     "output_type": "execute_result"
    }
   ],
   "source": [
    "#단일 티커 socre\n",
    "no_relation_ticker_change"
   ]
  },
  {
   "cell_type": "code",
   "execution_count": 18,
   "metadata": {},
   "outputs": [],
   "source": [
    "filter_Relation=x_y_df[x_y_df.X !=x_y_df.Y]\n",
    "filter_Relation.reset_index(drop=True,inplace=True)"
   ]
  },
  {
   "cell_type": "code",
   "execution_count": 19,
   "metadata": {},
   "outputs": [],
   "source": [
    "BinaryFeatures_list=[]\n",
    "\n",
    "for i in range(filter_Relation.shape[0]):\n",
    "    \n",
    "    Binarytext=BinaryFeatures(X=filter_Relation.X[i],Y=filter_Relation.Y[i],inst_type=\"ORGANIZATION:ORGANIZATION\",context=filter_Relation.contents[i])\n",
    "    BinaryFeatures_list.append(Binarytext)"
   ]
  },
  {
   "cell_type": "code",
   "execution_count": 20,
   "metadata": {},
   "outputs": [
    {
     "name": "stderr",
     "output_type": "stream",
     "text": [
      "100%|██████████| 37/37 [41:40<00:00, 67.57s/it]  \n"
     ]
    }
   ],
   "source": [
    "output_list=[]\n",
    "for i in tqdm(range(0,filter_Relation.shape[0],100)):\n",
    "    test_sample=BinaryFeatures_list[i:i+100]\n",
    "    output=nlp(task=task,features=test_sample,return_labels=True, return_confidencces=True)\n",
    "    output_list.append(output)"
   ]
  },
  {
   "cell_type": "code",
   "execution_count": 21,
   "metadata": {},
   "outputs": [],
   "source": [
    "result=sum(output_list,[])"
   ]
  },
  {
   "cell_type": "code",
   "execution_count": 22,
   "metadata": {},
   "outputs": [
    {
     "name": "stderr",
     "output_type": "stream",
     "text": [
      "C:\\Users\\Quantec\\AppData\\Local\\Temp\\ipykernel_9328\\3258425615.py:1: SettingWithCopyWarning: \n",
      "A value is trying to be set on a copy of a slice from a DataFrame.\n",
      "Try using .loc[row_indexer,col_indexer] = value instead\n",
      "\n",
      "See the caveats in the documentation: https://pandas.pydata.org/pandas-docs/stable/user_guide/indexing.html#returning-a-view-versus-a-copy\n",
      "  filter_Relation['RE']=result\n"
     ]
    }
   ],
   "source": [
    "filter_Relation['RE']=result"
   ]
  },
  {
   "cell_type": "code",
   "execution_count": 23,
   "metadata": {},
   "outputs": [],
   "source": [
    "filter_Relation=filter_Relation[filter_Relation.X!='Inc']\n",
    "filter_Relation=filter_Relation[filter_Relation.Y!='Inc']\n",
    "filter_Relation.reset_index(drop=True,inplace=True)"
   ]
  },
  {
   "cell_type": "code",
   "execution_count": 25,
   "metadata": {},
   "outputs": [],
   "source": [
    "filter_Relation.to_csv('중간RE_0811.csv',encoding='utf-8-sig')"
   ]
  },
  {
   "cell_type": "code",
   "execution_count": 74,
   "metadata": {},
   "outputs": [],
   "source": [
    "import pickle\n",
    "with open('symbol_dict.pickle', 'rb') as fr:\n",
    "    symbol_dict = pickle.load(fr)\n",
    "    \n",
    "def ticker_change(x):\n",
    "    for symbol, names in symbol_dict.items():\n",
    "        if x in names:\n",
    "            return symbol\n",
    "    return np.nan\n",
    "\n",
    "filter_Relation_cp = filter_Relation.copy()\n",
    "filter_Relation[['X','Y']] = filter_Relation[['X','Y']].applymap(ticker_change)"
   ]
  },
  {
   "cell_type": "code",
   "execution_count": 73,
   "metadata": {},
   "outputs": [],
   "source": [
    "#위의 데이터 저장한거 불러오기\n",
    "filter_Relation=pd.read_csv('중간RE_0811.csv')\n",
    "filter_Relation.drop('Unnamed: 0',axis=1,inplace=True)"
   ]
  },
  {
   "cell_type": "code",
   "execution_count": 75,
   "metadata": {},
   "outputs": [],
   "source": [
    "def sentiment_score(x):\n",
    "    if 'Pos' == x.split('-')[0]:\n",
    "        return 1\n",
    "    elif 'Posline' == x.split('-')[0]:\n",
    "        return 2\n",
    "    elif 'No' == x.split('-')[0]:\n",
    "        return 0 \n",
    "    elif 'Neg' == x.split('-')[0]:\n",
    "        return -1\n",
    "    elif 'Negline' == x.split('-')[0]:\n",
    "        return -2\n",
    "    elif 'Over' == x.split('-')[0]:\n",
    "        return 3\n",
    "    elif 'Under' == x.split('-')[0]:\n",
    "        return 4\n",
    "    "
   ]
  },
  {
   "cell_type": "code",
   "execution_count": 76,
   "metadata": {},
   "outputs": [],
   "source": [
    "filter_Relation['RE_label']=filter_Relation.RE.apply(sentiment_score)"
   ]
  },
  {
   "cell_type": "code",
   "execution_count": 77,
   "metadata": {},
   "outputs": [],
   "source": [
    "#x_y_df.to_csv('week_RE.csv',encoding='utf-8-sig')"
   ]
  },
  {
   "cell_type": "code",
   "execution_count": 78,
   "metadata": {},
   "outputs": [],
   "source": [
    "#pd.read_csv('week_RE.csv',encoding='utf-8-sig')"
   ]
  },
  {
   "cell_type": "code",
   "execution_count": 79,
   "metadata": {},
   "outputs": [],
   "source": [
    "def RE_sentiment_X(RE):\n",
    "\n",
    "    if RE == 0 :\n",
    "        X= 0\n",
    "        Y= 0\n",
    "        return X\n",
    "\n",
    "    elif RE == 1 :\n",
    "        X= 1\n",
    "        Y= 0\n",
    "        return X\n",
    "\n",
    "    elif RE == 2 :\n",
    "        X= 1\n",
    "        Y= 1\n",
    "        return X\n",
    "\n",
    "    elif RE == 3 :\n",
    "        X= 1\n",
    "        Y= -1\n",
    "        return X\n",
    "\n",
    "    elif RE == 4 :\n",
    "        X= -1\n",
    "        Y= 1\n",
    "        return X\n",
    "\n",
    "    elif RE == -1 :\n",
    "        X= -1\n",
    "        Y= 0\n",
    "        return X\n",
    "\n",
    "    elif RE == -2 :\n",
    "        X= -1\n",
    "        Y= -1\n",
    "        return X\n",
    "\n",
    "    \n",
    "    \n",
    "    \n",
    "    \n",
    "    "
   ]
  },
  {
   "cell_type": "code",
   "execution_count": 80,
   "metadata": {},
   "outputs": [],
   "source": [
    "def RE_sentiment_Y(RE):\n",
    "\n",
    "    if RE == 0 :\n",
    "        X= 0\n",
    "        Y= 0\n",
    "        return Y\n",
    "\n",
    "    elif RE == 1 :\n",
    "        X= 1\n",
    "        Y= 0\n",
    "        return Y\n",
    "\n",
    "    elif RE == 2 :\n",
    "        X= 1\n",
    "        Y= 1\n",
    "        return Y\n",
    "\n",
    "    elif RE == 3 :\n",
    "        X= 1\n",
    "        Y= -1\n",
    "        return Y\n",
    "\n",
    "    elif RE == 4 :\n",
    "        X= -1\n",
    "        Y= 1\n",
    "        return Y\n",
    "\n",
    "    elif RE == -1 :\n",
    "        X= -1\n",
    "        Y= 0\n",
    "        return Y\n",
    "\n",
    "    elif RE == -2 :\n",
    "        X= -1\n",
    "        Y= -1\n",
    "        return Y\n",
    "\n",
    "    \n",
    "    \n",
    "    \n",
    "    \n",
    "    "
   ]
  },
  {
   "cell_type": "code",
   "execution_count": 81,
   "metadata": {},
   "outputs": [],
   "source": [
    "filter_Relation['X_sentiment']=filter_Relation['RE_label'].apply(RE_sentiment_X)\n",
    "filter_Relation['Y_sentiment']=filter_Relation['RE_label'].apply(RE_sentiment_Y)\n"
   ]
  },
  {
   "cell_type": "code",
   "execution_count": 82,
   "metadata": {},
   "outputs": [],
   "source": [
    "from sklearn.preprocessing import minmax_scale\n",
    "filter_Relation['scale']=abs(filter_Relation.sentiment_score)\n"
   ]
  },
  {
   "cell_type": "code",
   "execution_count": 83,
   "metadata": {},
   "outputs": [],
   "source": [
    "filter_Relation['X_score']=filter_Relation.scale * filter_Relation.X_sentiment\n",
    "\n",
    "filter_Relation['Y_score']=filter_Relation.scale * filter_Relation.Y_sentiment\n"
   ]
  },
  {
   "cell_type": "code",
   "execution_count": 84,
   "metadata": {},
   "outputs": [
    {
     "data": {
      "text/html": [
       "<div>\n",
       "<style scoped>\n",
       "    .dataframe tbody tr th:only-of-type {\n",
       "        vertical-align: middle;\n",
       "    }\n",
       "\n",
       "    .dataframe tbody tr th {\n",
       "        vertical-align: top;\n",
       "    }\n",
       "\n",
       "    .dataframe thead th {\n",
       "        text-align: right;\n",
       "    }\n",
       "</style>\n",
       "<table border=\"1\" class=\"dataframe\">\n",
       "  <thead>\n",
       "    <tr style=\"text-align: right;\">\n",
       "      <th></th>\n",
       "      <th>news_label</th>\n",
       "      <th>contents</th>\n",
       "      <th>symbol</th>\n",
       "      <th>sentiment_score</th>\n",
       "    </tr>\n",
       "  </thead>\n",
       "  <tbody>\n",
       "    <tr>\n",
       "      <th>0</th>\n",
       "      <td>0</td>\n",
       "      <td>DDOG reported revenue growth that significantl...</td>\n",
       "      <td>DD</td>\n",
       "      <td>0.940325</td>\n",
       "    </tr>\n",
       "    <tr>\n",
       "      <th>1</th>\n",
       "      <td>0</td>\n",
       "      <td>Barclays analyst Raimo Lenschow maintained an ...</td>\n",
       "      <td>BCS</td>\n",
       "      <td>-0.039824</td>\n",
       "    </tr>\n",
       "    <tr>\n",
       "      <th>2</th>\n",
       "      <td>2</td>\n",
       "      <td>Ball Corp management has indicated that the de...</td>\n",
       "      <td>BLL</td>\n",
       "      <td>-0.963595</td>\n",
       "    </tr>\n",
       "    <tr>\n",
       "      <th>3</th>\n",
       "      <td>2</td>\n",
       "      <td>Deutsche Bank analyst Kyle White downgraded Ba...</td>\n",
       "      <td>DB</td>\n",
       "      <td>-0.78644</td>\n",
       "    </tr>\n",
       "    <tr>\n",
       "      <th>4</th>\n",
       "      <td>4</td>\n",
       "      <td>It was business as usual at Tesla’s (TSLA) ann...</td>\n",
       "      <td>TSLA</td>\n",
       "      <td>0.006504</td>\n",
       "    </tr>\n",
       "    <tr>\n",
       "      <th>...</th>\n",
       "      <td>...</td>\n",
       "      <td>...</td>\n",
       "      <td>...</td>\n",
       "      <td>...</td>\n",
       "    </tr>\n",
       "    <tr>\n",
       "      <th>1199</th>\n",
       "      <td>443</td>\n",
       "      <td>Why tech workers are quitting great jobs at co...</td>\n",
       "      <td>GOOG</td>\n",
       "      <td>-0.377019</td>\n",
       "    </tr>\n",
       "    <tr>\n",
       "      <th>1200</th>\n",
       "      <td>443</td>\n",
       "      <td>Why tech workers are quitting great jobs at co...</td>\n",
       "      <td>GOOG</td>\n",
       "      <td>-0.377019</td>\n",
       "    </tr>\n",
       "    <tr>\n",
       "      <th>1201</th>\n",
       "      <td>443</td>\n",
       "      <td>Why tech workers are quitting great jobs at co...</td>\n",
       "      <td>GOOG</td>\n",
       "      <td>-0.377019</td>\n",
       "    </tr>\n",
       "    <tr>\n",
       "      <th>1202</th>\n",
       "      <td>443</td>\n",
       "      <td>Why tech workers are quitting great jobs at co...</td>\n",
       "      <td>CVX</td>\n",
       "      <td>-0.377019</td>\n",
       "    </tr>\n",
       "    <tr>\n",
       "      <th>1203</th>\n",
       "      <td>443</td>\n",
       "      <td>Why tech workers are quitting great jobs at co...</td>\n",
       "      <td>GOOG</td>\n",
       "      <td>-0.377019</td>\n",
       "    </tr>\n",
       "  </tbody>\n",
       "</table>\n",
       "<p>1204 rows × 4 columns</p>\n",
       "</div>"
      ],
      "text/plain": [
       "     news_label                                           contents symbol  \\\n",
       "0             0  DDOG reported revenue growth that significantl...     DD   \n",
       "1             0  Barclays analyst Raimo Lenschow maintained an ...    BCS   \n",
       "2             2  Ball Corp management has indicated that the de...    BLL   \n",
       "3             2  Deutsche Bank analyst Kyle White downgraded Ba...     DB   \n",
       "4             4  It was business as usual at Tesla’s (TSLA) ann...   TSLA   \n",
       "...         ...                                                ...    ...   \n",
       "1199        443  Why tech workers are quitting great jobs at co...   GOOG   \n",
       "1200        443  Why tech workers are quitting great jobs at co...   GOOG   \n",
       "1201        443  Why tech workers are quitting great jobs at co...   GOOG   \n",
       "1202        443  Why tech workers are quitting great jobs at co...    CVX   \n",
       "1203        443  Why tech workers are quitting great jobs at co...   GOOG   \n",
       "\n",
       "     sentiment_score  \n",
       "0           0.940325  \n",
       "1          -0.039824  \n",
       "2          -0.963595  \n",
       "3           -0.78644  \n",
       "4           0.006504  \n",
       "...              ...  \n",
       "1199       -0.377019  \n",
       "1200       -0.377019  \n",
       "1201       -0.377019  \n",
       "1202       -0.377019  \n",
       "1203       -0.377019  \n",
       "\n",
       "[1204 rows x 4 columns]"
      ]
     },
     "execution_count": 84,
     "metadata": {},
     "output_type": "execute_result"
    }
   ],
   "source": [
    "no_relation_ticker_change"
   ]
  },
  {
   "cell_type": "code",
   "execution_count": 85,
   "metadata": {},
   "outputs": [],
   "source": [
    "ticker_df=pd.read_csv('C:/Users/Quantec/quantec/0811_unique_topics.csv',encoding='utf-8-sig')\n",
    "ticker_df.rename(columns={'Unnamed: 0':'news_labels'},inplace=True)\n",
    "only_ticker=ticker_df.loc[:,['news_labels','topics','Name']]"
   ]
  },
  {
   "cell_type": "code",
   "execution_count": 86,
   "metadata": {},
   "outputs": [],
   "source": [
    "Re_topic_df=pd.merge(filter_Relation,only_ticker,how='left',left_on='news_label',right_on='news_labels')\n",
    "No_Re_topic_df=pd.merge(no_relation_ticker_change,only_ticker,how='left',left_on='news_label',right_on='news_labels')\n",
    "No_Re_topic_df.rename(columns={'entity_list':'symbol','Name':'theme'},inplace=True)"
   ]
  },
  {
   "cell_type": "code",
   "execution_count": 87,
   "metadata": {},
   "outputs": [],
   "source": [
    "X_last=Re_topic_df.loc[:,['X','X_score','Name']]\n",
    "X_last.columns=['symbol','sentiment_score','theme']\n",
    "Y_last=Re_topic_df.loc[:,['Y','Y_score','Name']]\n",
    "Y_last.columns=['symbol','sentiment_score','theme']\n",
    "\n",
    "symbol_df=pd.concat([X_last,Y_last]).reset_index(drop=True)"
   ]
  },
  {
   "cell_type": "code",
   "execution_count": 88,
   "metadata": {},
   "outputs": [],
   "source": [
    "all_topic_no_re=No_Re_topic_df.loc[:,['symbol','sentiment_score','theme']]"
   ]
  },
  {
   "cell_type": "code",
   "execution_count": 89,
   "metadata": {},
   "outputs": [],
   "source": [
    "sum_all_topic=pd.concat([symbol_df,all_topic_no_re]).dropna(axis=0).reset_index(drop=True)"
   ]
  },
  {
   "cell_type": "code",
   "execution_count": 90,
   "metadata": {},
   "outputs": [
    {
     "data": {
      "text/html": [
       "<div>\n",
       "<style scoped>\n",
       "    .dataframe tbody tr th:only-of-type {\n",
       "        vertical-align: middle;\n",
       "    }\n",
       "\n",
       "    .dataframe tbody tr th {\n",
       "        vertical-align: top;\n",
       "    }\n",
       "\n",
       "    .dataframe thead th {\n",
       "        text-align: right;\n",
       "    }\n",
       "</style>\n",
       "<table border=\"1\" class=\"dataframe\">\n",
       "  <thead>\n",
       "    <tr style=\"text-align: right;\">\n",
       "      <th></th>\n",
       "      <th>symbol</th>\n",
       "      <th>sentiment_score</th>\n",
       "      <th>theme</th>\n",
       "    </tr>\n",
       "  </thead>\n",
       "  <tbody>\n",
       "    <tr>\n",
       "      <th>0</th>\n",
       "      <td>DDOG</td>\n",
       "      <td>-0.938656</td>\n",
       "      <td>15_target_suisse_mizuho_rating</td>\n",
       "    </tr>\n",
       "    <tr>\n",
       "      <th>1</th>\n",
       "      <td>GS</td>\n",
       "      <td>0.170234</td>\n",
       "      <td>15_target_suisse_mizuho_rating</td>\n",
       "    </tr>\n",
       "    <tr>\n",
       "      <th>2</th>\n",
       "      <td>MS</td>\n",
       "      <td>0.170234</td>\n",
       "      <td>15_target_suisse_mizuho_rating</td>\n",
       "    </tr>\n",
       "    <tr>\n",
       "      <th>3</th>\n",
       "      <td>PFE</td>\n",
       "      <td>0.061066</td>\n",
       "      <td>8_pfizer_gbt_sickle_cell</td>\n",
       "    </tr>\n",
       "    <tr>\n",
       "      <th>4</th>\n",
       "      <td>PFE</td>\n",
       "      <td>-0.061066</td>\n",
       "      <td>8_pfizer_gbt_sickle_cell</td>\n",
       "    </tr>\n",
       "    <tr>\n",
       "      <th>...</th>\n",
       "      <td>...</td>\n",
       "      <td>...</td>\n",
       "      <td>...</td>\n",
       "    </tr>\n",
       "    <tr>\n",
       "      <th>4235</th>\n",
       "      <td>GOOG</td>\n",
       "      <td>-0.377019</td>\n",
       "      <td>3_vehicle_tesla_chip_baidu</td>\n",
       "    </tr>\n",
       "    <tr>\n",
       "      <th>4236</th>\n",
       "      <td>GOOG</td>\n",
       "      <td>-0.377019</td>\n",
       "      <td>3_vehicle_tesla_chip_baidu</td>\n",
       "    </tr>\n",
       "    <tr>\n",
       "      <th>4237</th>\n",
       "      <td>GOOG</td>\n",
       "      <td>-0.377019</td>\n",
       "      <td>3_vehicle_tesla_chip_baidu</td>\n",
       "    </tr>\n",
       "    <tr>\n",
       "      <th>4238</th>\n",
       "      <td>CVX</td>\n",
       "      <td>-0.377019</td>\n",
       "      <td>3_vehicle_tesla_chip_baidu</td>\n",
       "    </tr>\n",
       "    <tr>\n",
       "      <th>4239</th>\n",
       "      <td>GOOG</td>\n",
       "      <td>-0.377019</td>\n",
       "      <td>3_vehicle_tesla_chip_baidu</td>\n",
       "    </tr>\n",
       "  </tbody>\n",
       "</table>\n",
       "<p>4240 rows × 3 columns</p>\n",
       "</div>"
      ],
      "text/plain": [
       "     symbol sentiment_score                           theme\n",
       "0      DDOG       -0.938656  15_target_suisse_mizuho_rating\n",
       "1        GS        0.170234  15_target_suisse_mizuho_rating\n",
       "2        MS        0.170234  15_target_suisse_mizuho_rating\n",
       "3       PFE        0.061066        8_pfizer_gbt_sickle_cell\n",
       "4       PFE       -0.061066        8_pfizer_gbt_sickle_cell\n",
       "...     ...             ...                             ...\n",
       "4235   GOOG       -0.377019      3_vehicle_tesla_chip_baidu\n",
       "4236   GOOG       -0.377019      3_vehicle_tesla_chip_baidu\n",
       "4237   GOOG       -0.377019      3_vehicle_tesla_chip_baidu\n",
       "4238    CVX       -0.377019      3_vehicle_tesla_chip_baidu\n",
       "4239   GOOG       -0.377019      3_vehicle_tesla_chip_baidu\n",
       "\n",
       "[4240 rows x 3 columns]"
      ]
     },
     "execution_count": 90,
     "metadata": {},
     "output_type": "execute_result"
    }
   ],
   "source": [
    "sum_all_topic"
   ]
  },
  {
   "cell_type": "code",
   "execution_count": 91,
   "metadata": {},
   "outputs": [],
   "source": [
    "all_theme_count_symbol=pd.DataFrame(sum_all_topic.groupby('theme')['symbol'].value_counts())\n",
    "all_theme_count_symbol.rename(columns={'symbol':'count'},inplace=True)\n",
    "all_theme_count_symbol.reset_index(inplace=True)"
   ]
  },
  {
   "cell_type": "code",
   "execution_count": 92,
   "metadata": {},
   "outputs": [],
   "source": [
    "all_real_last=sum_all_topic.groupby(['theme','symbol'])['sentiment_score'].agg(['mean'])\n",
    "#real_last.rename(columns={'mean':'count'},inplace=True)\n",
    "all_real_last.reset_index(inplace=True)"
   ]
  },
  {
   "cell_type": "code",
   "execution_count": 93,
   "metadata": {},
   "outputs": [],
   "source": [
    "all_last=pd.merge(all_real_last,all_theme_count_symbol,how='left',left_on=['theme','symbol'],right_on=['theme','symbol'])\n"
   ]
  },
  {
   "cell_type": "code",
   "execution_count": 94,
   "metadata": {},
   "outputs": [],
   "source": [
    "all_last=all_last.sort_values(by=['theme','count'],ascending=False)"
   ]
  },
  {
   "cell_type": "code",
   "execution_count": 97,
   "metadata": {},
   "outputs": [],
   "source": [
    "all_last.to_csv('last_test_all_0811.csv',encoding='utf-8-sig')"
   ]
  },
  {
   "cell_type": "code",
   "execution_count": 98,
   "metadata": {},
   "outputs": [
    {
     "data": {
      "text/html": [
       "<div>\n",
       "<style scoped>\n",
       "    .dataframe tbody tr th:only-of-type {\n",
       "        vertical-align: middle;\n",
       "    }\n",
       "\n",
       "    .dataframe tbody tr th {\n",
       "        vertical-align: top;\n",
       "    }\n",
       "\n",
       "    .dataframe thead th {\n",
       "        text-align: right;\n",
       "    }\n",
       "</style>\n",
       "<table border=\"1\" class=\"dataframe\">\n",
       "  <thead>\n",
       "    <tr style=\"text-align: right;\">\n",
       "      <th></th>\n",
       "      <th>theme</th>\n",
       "      <th>symbol</th>\n",
       "      <th>mean</th>\n",
       "      <th>count</th>\n",
       "    </tr>\n",
       "  </thead>\n",
       "  <tbody>\n",
       "    <tr>\n",
       "      <th>557</th>\n",
       "      <td>9_monkeypox_vaccine_shot_novavax</td>\n",
       "      <td>NVAX</td>\n",
       "      <td>-0.320314</td>\n",
       "      <td>37</td>\n",
       "    </tr>\n",
       "    <tr>\n",
       "      <th>558</th>\n",
       "      <td>9_monkeypox_vaccine_shot_novavax</td>\n",
       "      <td>PFE</td>\n",
       "      <td>0.534511</td>\n",
       "      <td>16</td>\n",
       "    </tr>\n",
       "    <tr>\n",
       "      <th>553</th>\n",
       "      <td>9_monkeypox_vaccine_shot_novavax</td>\n",
       "      <td>BNTX</td>\n",
       "      <td>0.268434</td>\n",
       "      <td>14</td>\n",
       "    </tr>\n",
       "    <tr>\n",
       "      <th>556</th>\n",
       "      <td>9_monkeypox_vaccine_shot_novavax</td>\n",
       "      <td>MRNA</td>\n",
       "      <td>-0.274427</td>\n",
       "      <td>11</td>\n",
       "    </tr>\n",
       "    <tr>\n",
       "      <th>554</th>\n",
       "      <td>9_monkeypox_vaccine_shot_novavax</td>\n",
       "      <td>GILD</td>\n",
       "      <td>0.075286</td>\n",
       "      <td>7</td>\n",
       "    </tr>\n",
       "    <tr>\n",
       "      <th>...</th>\n",
       "      <td>...</td>\n",
       "      <td>...</td>\n",
       "      <td>...</td>\n",
       "      <td>...</td>\n",
       "    </tr>\n",
       "    <tr>\n",
       "      <th>102</th>\n",
       "      <td>0_berkshire_inflation_rate_amc</td>\n",
       "      <td>TWLO</td>\n",
       "      <td>-0.966292</td>\n",
       "      <td>1</td>\n",
       "    </tr>\n",
       "    <tr>\n",
       "      <th>104</th>\n",
       "      <td>0_berkshire_inflation_rate_amc</td>\n",
       "      <td>UNP</td>\n",
       "      <td>-0.946144</td>\n",
       "      <td>1</td>\n",
       "    </tr>\n",
       "    <tr>\n",
       "      <th>110</th>\n",
       "      <td>0_berkshire_inflation_rate_amc</td>\n",
       "      <td>XP</td>\n",
       "      <td>-0.151251</td>\n",
       "      <td>1</td>\n",
       "    </tr>\n",
       "    <tr>\n",
       "      <th>111</th>\n",
       "      <td>0_berkshire_inflation_rate_amc</td>\n",
       "      <td>Y</td>\n",
       "      <td>0.728947</td>\n",
       "      <td>1</td>\n",
       "    </tr>\n",
       "    <tr>\n",
       "      <th>113</th>\n",
       "      <td>0_berkshire_inflation_rate_amc</td>\n",
       "      <td>ZM</td>\n",
       "      <td>0.906938</td>\n",
       "      <td>1</td>\n",
       "    </tr>\n",
       "  </tbody>\n",
       "</table>\n",
       "<p>559 rows × 4 columns</p>\n",
       "</div>"
      ],
      "text/plain": [
       "                                theme symbol      mean  count\n",
       "557  9_monkeypox_vaccine_shot_novavax   NVAX -0.320314     37\n",
       "558  9_monkeypox_vaccine_shot_novavax    PFE  0.534511     16\n",
       "553  9_monkeypox_vaccine_shot_novavax   BNTX  0.268434     14\n",
       "556  9_monkeypox_vaccine_shot_novavax   MRNA -0.274427     11\n",
       "554  9_monkeypox_vaccine_shot_novavax   GILD  0.075286      7\n",
       "..                                ...    ...       ...    ...\n",
       "102    0_berkshire_inflation_rate_amc   TWLO -0.966292      1\n",
       "104    0_berkshire_inflation_rate_amc    UNP -0.946144      1\n",
       "110    0_berkshire_inflation_rate_amc     XP -0.151251      1\n",
       "111    0_berkshire_inflation_rate_amc      Y  0.728947      1\n",
       "113    0_berkshire_inflation_rate_amc     ZM  0.906938      1\n",
       "\n",
       "[559 rows x 4 columns]"
      ]
     },
     "execution_count": 98,
     "metadata": {},
     "output_type": "execute_result"
    }
   ],
   "source": [
    "all_last"
   ]
  },
  {
   "cell_type": "code",
   "execution_count": null,
   "metadata": {},
   "outputs": [],
   "source": []
  },
  {
   "cell_type": "markdown",
   "metadata": {},
   "source": [
    "# 끝"
   ]
  },
  {
   "cell_type": "code",
   "execution_count": 50,
   "metadata": {},
   "outputs": [],
   "source": [
    "topic_re_sa=pd.DataFrame(symbol_df.groupby(['symbol','theme'])['sentiment_score'].mean())"
   ]
  },
  {
   "cell_type": "code",
   "execution_count": 51,
   "metadata": {},
   "outputs": [],
   "source": [
    "topic_sa=pd.DataFrame(No_Re_topic_df.groupby(['symbol','theme'])['sentiment_score'].mean())"
   ]
  },
  {
   "cell_type": "code",
   "execution_count": 52,
   "metadata": {},
   "outputs": [],
   "source": [
    "ri_topic_sa=topic_sa.reset_index()"
   ]
  },
  {
   "cell_type": "code",
   "execution_count": 53,
   "metadata": {},
   "outputs": [],
   "source": [
    "ri_topic_re_sa=topic_re_sa.reset_index()"
   ]
  },
  {
   "cell_type": "code",
   "execution_count": 54,
   "metadata": {},
   "outputs": [],
   "source": [
    "symbol_theme_sum=pd.concat([ri_topic_sa,ri_topic_re_sa])\n"
   ]
  },
  {
   "cell_type": "code",
   "execution_count": 55,
   "metadata": {},
   "outputs": [],
   "source": [
    "last_df=pd.DataFrame(symbol_theme_sum.groupby(['symbol','theme'])['sentiment_score'].mean())"
   ]
  },
  {
   "cell_type": "code",
   "execution_count": 56,
   "metadata": {},
   "outputs": [],
   "source": [
    "theme_count_symbol=pd.DataFrame(symbol_theme_sum.groupby('theme')['symbol'].value_counts())\n",
    "theme_count_symbol.rename(columns={'symbol':'count'},inplace=True)\n",
    "theme_count_symbol.reset_index(inplace=True)"
   ]
  },
  {
   "cell_type": "code",
   "execution_count": 57,
   "metadata": {},
   "outputs": [],
   "source": [
    "test=last_df.reset_index()"
   ]
  },
  {
   "cell_type": "code",
   "execution_count": 58,
   "metadata": {},
   "outputs": [],
   "source": [
    "real_last=test.groupby(['theme','symbol'])['sentiment_score'].agg(['mean'])\n",
    "#real_last.rename(columns={'mean':'count'},inplace=True)\n",
    "real_last.reset_index(inplace=True)"
   ]
  },
  {
   "cell_type": "code",
   "execution_count": 59,
   "metadata": {},
   "outputs": [],
   "source": [
    "last_mean_count=pd.merge(real_last,theme_count_symbol,how='left',left_on=['theme','symbol'],right_on=['theme','symbol'])"
   ]
  },
  {
   "cell_type": "code",
   "execution_count": 61,
   "metadata": {},
   "outputs": [],
   "source": [
    "last_mean_count.to_csv('last_test0811.csv',encoding='utf-8-sig')"
   ]
  },
  {
   "cell_type": "code",
   "execution_count": 62,
   "metadata": {},
   "outputs": [
    {
     "data": {
      "text/html": [
       "<div>\n",
       "<style scoped>\n",
       "    .dataframe tbody tr th:only-of-type {\n",
       "        vertical-align: middle;\n",
       "    }\n",
       "\n",
       "    .dataframe tbody tr th {\n",
       "        vertical-align: top;\n",
       "    }\n",
       "\n",
       "    .dataframe thead th {\n",
       "        text-align: right;\n",
       "    }\n",
       "</style>\n",
       "<table border=\"1\" class=\"dataframe\">\n",
       "  <thead>\n",
       "    <tr style=\"text-align: right;\">\n",
       "      <th></th>\n",
       "      <th>theme</th>\n",
       "      <th>symbol</th>\n",
       "      <th>count</th>\n",
       "    </tr>\n",
       "  </thead>\n",
       "  <tbody>\n",
       "    <tr>\n",
       "      <th>0</th>\n",
       "      <td>0_berkshire_inflation_rate_amc</td>\n",
       "      <td>A</td>\n",
       "      <td>2</td>\n",
       "    </tr>\n",
       "    <tr>\n",
       "      <th>1</th>\n",
       "      <td>0_berkshire_inflation_rate_amc</td>\n",
       "      <td>AAPL</td>\n",
       "      <td>2</td>\n",
       "    </tr>\n",
       "    <tr>\n",
       "      <th>2</th>\n",
       "      <td>0_berkshire_inflation_rate_amc</td>\n",
       "      <td>AIG</td>\n",
       "      <td>2</td>\n",
       "    </tr>\n",
       "    <tr>\n",
       "      <th>3</th>\n",
       "      <td>0_berkshire_inflation_rate_amc</td>\n",
       "      <td>AMC</td>\n",
       "      <td>2</td>\n",
       "    </tr>\n",
       "    <tr>\n",
       "      <th>4</th>\n",
       "      <td>0_berkshire_inflation_rate_amc</td>\n",
       "      <td>BAC</td>\n",
       "      <td>2</td>\n",
       "    </tr>\n",
       "    <tr>\n",
       "      <th>...</th>\n",
       "      <td>...</td>\n",
       "      <td>...</td>\n",
       "      <td>...</td>\n",
       "    </tr>\n",
       "    <tr>\n",
       "      <th>2355</th>\n",
       "      <td>9_monkeypox_vaccine_shot_novavax</td>\n",
       "      <td>The Human Rights Campaign (HRC</td>\n",
       "      <td>1</td>\n",
       "    </tr>\n",
       "    <tr>\n",
       "      <th>2356</th>\n",
       "      <td>9_monkeypox_vaccine_shot_novavax</td>\n",
       "      <td>World Health Organization</td>\n",
       "      <td>1</td>\n",
       "    </tr>\n",
       "    <tr>\n",
       "      <th>2357</th>\n",
       "      <td>9_monkeypox_vaccine_shot_novavax</td>\n",
       "      <td>the National Black Justice Coalition</td>\n",
       "      <td>1</td>\n",
       "    </tr>\n",
       "    <tr>\n",
       "      <th>2358</th>\n",
       "      <td>9_monkeypox_vaccine_shot_novavax</td>\n",
       "      <td>the National Center for Lesbian Rights</td>\n",
       "      <td>1</td>\n",
       "    </tr>\n",
       "    <tr>\n",
       "      <th>2359</th>\n",
       "      <td>9_monkeypox_vaccine_shot_novavax</td>\n",
       "      <td>the National Minority AIDS Coalition</td>\n",
       "      <td>1</td>\n",
       "    </tr>\n",
       "  </tbody>\n",
       "</table>\n",
       "<p>2360 rows × 3 columns</p>\n",
       "</div>"
      ],
      "text/plain": [
       "                                 theme  \\\n",
       "0       0_berkshire_inflation_rate_amc   \n",
       "1       0_berkshire_inflation_rate_amc   \n",
       "2       0_berkshire_inflation_rate_amc   \n",
       "3       0_berkshire_inflation_rate_amc   \n",
       "4       0_berkshire_inflation_rate_amc   \n",
       "...                                ...   \n",
       "2355  9_monkeypox_vaccine_shot_novavax   \n",
       "2356  9_monkeypox_vaccine_shot_novavax   \n",
       "2357  9_monkeypox_vaccine_shot_novavax   \n",
       "2358  9_monkeypox_vaccine_shot_novavax   \n",
       "2359  9_monkeypox_vaccine_shot_novavax   \n",
       "\n",
       "                                      symbol  count  \n",
       "0                                          A      2  \n",
       "1                                       AAPL      2  \n",
       "2                                        AIG      2  \n",
       "3                                        AMC      2  \n",
       "4                                        BAC      2  \n",
       "...                                      ...    ...  \n",
       "2355          The Human Rights Campaign (HRC      1  \n",
       "2356               World Health Organization      1  \n",
       "2357    the National Black Justice Coalition      1  \n",
       "2358  the National Center for Lesbian Rights      1  \n",
       "2359    the National Minority AIDS Coalition      1  \n",
       "\n",
       "[2360 rows x 3 columns]"
      ]
     },
     "execution_count": 62,
     "metadata": {},
     "output_type": "execute_result"
    }
   ],
   "source": [
    "theme_count_symbol"
   ]
  },
  {
   "cell_type": "code",
   "execution_count": null,
   "metadata": {},
   "outputs": [],
   "source": []
  },
  {
   "cell_type": "code",
   "execution_count": 63,
   "metadata": {},
   "outputs": [],
   "source": [
    "symbol_df=symbol_df.dropna(how='any',axis=0).reset_index(drop=True)"
   ]
  },
  {
   "cell_type": "code",
   "execution_count": 64,
   "metadata": {},
   "outputs": [],
   "source": [
    "no_relation_ticker_change=no_relation_ticker_change.rename(columns={'entity_list':'symbol'})"
   ]
  },
  {
   "cell_type": "code",
   "execution_count": 65,
   "metadata": {},
   "outputs": [],
   "source": [
    "no_re_symbol=no_relation_ticker_change.loc[:,['symbol','sentiment_score']]"
   ]
  },
  {
   "cell_type": "code",
   "execution_count": 66,
   "metadata": {},
   "outputs": [],
   "source": [
    "sum_sentiment_df=pd.concat([symbol_df,no_re_symbol])"
   ]
  },
  {
   "cell_type": "code",
   "execution_count": 67,
   "metadata": {},
   "outputs": [],
   "source": [
    "week_re_sentiment_mean=pd.DataFrame(sum_sentiment_df.groupby('symbol')['sentiment_score'].mean()).reset_index()"
   ]
  },
  {
   "cell_type": "code",
   "execution_count": 338,
   "metadata": {},
   "outputs": [],
   "source": [
    "week_re_sentiment_mean.to_csv('0729_ticker_sentiment.csv',encoding='utf-8-sig')"
   ]
  },
  {
   "cell_type": "code",
   "execution_count": 68,
   "metadata": {},
   "outputs": [
    {
     "data": {
      "text/html": [
       "<div>\n",
       "<style scoped>\n",
       "    .dataframe tbody tr th:only-of-type {\n",
       "        vertical-align: middle;\n",
       "    }\n",
       "\n",
       "    .dataframe tbody tr th {\n",
       "        vertical-align: top;\n",
       "    }\n",
       "\n",
       "    .dataframe thead th {\n",
       "        text-align: right;\n",
       "    }\n",
       "</style>\n",
       "<table border=\"1\" class=\"dataframe\">\n",
       "  <thead>\n",
       "    <tr style=\"text-align: right;\">\n",
       "      <th></th>\n",
       "      <th>symbol</th>\n",
       "      <th>sentiment_score</th>\n",
       "    </tr>\n",
       "  </thead>\n",
       "  <tbody>\n",
       "    <tr>\n",
       "      <th>0</th>\n",
       "      <td>(AMZN</td>\n",
       "      <td>0.851448</td>\n",
       "    </tr>\n",
       "    <tr>\n",
       "      <th>1</th>\n",
       "      <td>) Ford India Private Limited</td>\n",
       "      <td>0.303740</td>\n",
       "    </tr>\n",
       "    <tr>\n",
       "      <th>2</th>\n",
       "      <td>. Mersana</td>\n",
       "      <td>0.139378</td>\n",
       "    </tr>\n",
       "    <tr>\n",
       "      <th>3</th>\n",
       "      <td>.S. Treasury Department</td>\n",
       "      <td>0.009806</td>\n",
       "    </tr>\n",
       "    <tr>\n",
       "      <th>4</th>\n",
       "      <td>1Life Healthcare</td>\n",
       "      <td>0.081598</td>\n",
       "    </tr>\n",
       "    <tr>\n",
       "      <th>...</th>\n",
       "      <td>...</td>\n",
       "      <td>...</td>\n",
       "    </tr>\n",
       "    <tr>\n",
       "      <th>1836</th>\n",
       "      <td>the US Department of Commerce</td>\n",
       "      <td>0.035542</td>\n",
       "    </tr>\n",
       "    <tr>\n",
       "      <th>1837</th>\n",
       "      <td>the University of Chicago</td>\n",
       "      <td>0.020437</td>\n",
       "    </tr>\n",
       "    <tr>\n",
       "      <th>1838</th>\n",
       "      <td>the Vision Fund</td>\n",
       "      <td>-0.739225</td>\n",
       "    </tr>\n",
       "    <tr>\n",
       "      <th>1839</th>\n",
       "      <td>the Wall Street Journal</td>\n",
       "      <td>0.394289</td>\n",
       "    </tr>\n",
       "    <tr>\n",
       "      <th>1840</th>\n",
       "      <td>the White House</td>\n",
       "      <td>0.016351</td>\n",
       "    </tr>\n",
       "  </tbody>\n",
       "</table>\n",
       "<p>1841 rows × 2 columns</p>\n",
       "</div>"
      ],
      "text/plain": [
       "                             symbol  sentiment_score\n",
       "0                             (AMZN         0.851448\n",
       "1      ) Ford India Private Limited         0.303740\n",
       "2                         . Mersana         0.139378\n",
       "3           .S. Treasury Department         0.009806\n",
       "4                  1Life Healthcare         0.081598\n",
       "...                             ...              ...\n",
       "1836  the US Department of Commerce         0.035542\n",
       "1837      the University of Chicago         0.020437\n",
       "1838                the Vision Fund        -0.739225\n",
       "1839        the Wall Street Journal         0.394289\n",
       "1840                the White House         0.016351\n",
       "\n",
       "[1841 rows x 2 columns]"
      ]
     },
     "execution_count": 68,
     "metadata": {},
     "output_type": "execute_result"
    }
   ],
   "source": [
    "week_re_sentiment_mean"
   ]
  },
  {
   "cell_type": "markdown",
   "metadata": {},
   "source": [
    "# 생성된 데이터 라벨링"
   ]
  },
  {
   "cell_type": "code",
   "execution_count": 18,
   "metadata": {},
   "outputs": [],
   "source": [
    "import pandas as pd\n",
    "sentiment_df=pd.read_csv('C:/Users/Quantec/finBERT-master_pro/notebooks/finber.csv',encoding='utf-8-sig')\n",
    "sentiment_df.drop('Unnamed: 0',axis=1,inplace=True)"
   ]
  },
  {
   "cell_type": "code",
   "execution_count": 19,
   "metadata": {},
   "outputs": [],
   "source": [
    "import pandas as pd\n",
    "x_y_df=pd.read_csv('week_RE.csv',encoding='utf-8-sig',usecols=[idx for idx in range(1,7)])"
   ]
  },
  {
   "cell_type": "code",
   "execution_count": 248,
   "metadata": {},
   "outputs": [],
   "source": [
    "import pickle\n",
    "with open('symbol_dict.pickle', 'rb') as fr:\n",
    "    symbol_dict = pickle.load(fr)"
   ]
  },
  {
   "cell_type": "code",
   "execution_count": 249,
   "metadata": {},
   "outputs": [],
   "source": [
    "def ticker_change(x):\n",
    "    for symbol, names in symbol_dict.items():\n",
    "        if x in names:\n",
    "            return symbol\n",
    "    return np.nan"
   ]
  },
  {
   "cell_type": "code",
   "execution_count": 251,
   "metadata": {},
   "outputs": [],
   "source": [
    "x_y_df_cp = x_y_df.copy()\n",
    "x_y_df[['X','Y']] = x_y_df[['X','Y']].applymap(ticker_change)"
   ]
  },
  {
   "cell_type": "code",
   "execution_count": 252,
   "metadata": {},
   "outputs": [],
   "source": [
    "def sentiment_score(x):\n",
    "    if 'Pos' == x.split('-')[0]:\n",
    "        return 1\n",
    "    elif 'Posline' == x.split('-')[0]:\n",
    "        return 2\n",
    "    elif 'No' == x.split('-')[0]:\n",
    "        return 0 \n",
    "    elif 'Neg' == x.split('-')[0]:\n",
    "        return -1\n",
    "    elif 'Negline' == x.split('-')[0]:\n",
    "        return -2\n",
    "    elif 'Over' == x.split('-')[0]:\n",
    "        return 3\n",
    "    elif 'Under' == x.split('-')[0]:\n",
    "        return 4\n",
    "    "
   ]
  },
  {
   "cell_type": "code",
   "execution_count": 253,
   "metadata": {},
   "outputs": [],
   "source": [
    "x_y_df.RE=x_y_df.RE.apply(sentiment_score)"
   ]
  },
  {
   "cell_type": "code",
   "execution_count": 254,
   "metadata": {},
   "outputs": [],
   "source": [
    "def RE_sentiment_X(RE):\n",
    "\n",
    "    if RE == 0 :\n",
    "        X= 0\n",
    "        Y= 0\n",
    "        return X\n",
    "\n",
    "    elif RE == 1 :\n",
    "        X= 1\n",
    "        Y= 0\n",
    "        return X\n",
    "\n",
    "    elif RE == 2 :\n",
    "        X= 1\n",
    "        Y= 1\n",
    "        return X\n",
    "\n",
    "    elif RE == 3 :\n",
    "        X= 1\n",
    "        Y= -1\n",
    "        return X\n",
    "\n",
    "    elif RE == 4 :\n",
    "        X= -1\n",
    "        Y= 1\n",
    "        return X\n",
    "\n",
    "    elif RE == -1 :\n",
    "        X= -1\n",
    "        Y= 0\n",
    "        return X\n",
    "\n",
    "    elif RE == -2 :\n",
    "        X= -1\n",
    "        Y= -1\n",
    "        return X\n",
    "\n",
    "    \n",
    "    \n",
    "    \n",
    "    \n",
    "    "
   ]
  },
  {
   "cell_type": "code",
   "execution_count": 255,
   "metadata": {},
   "outputs": [],
   "source": [
    "def RE_sentiment_Y(RE):\n",
    "\n",
    "    if RE == 0 :\n",
    "        X= 0\n",
    "        Y= 0\n",
    "        return Y\n",
    "\n",
    "    elif RE == 1 :\n",
    "        X= 1\n",
    "        Y= 0\n",
    "        return Y\n",
    "\n",
    "    elif RE == 2 :\n",
    "        X= 1\n",
    "        Y= 1\n",
    "        return Y\n",
    "\n",
    "    elif RE == 3 :\n",
    "        X= 1\n",
    "        Y= -1\n",
    "        return Y\n",
    "\n",
    "    elif RE == 4 :\n",
    "        X= -1\n",
    "        Y= 1\n",
    "        return Y\n",
    "\n",
    "    elif RE == -1 :\n",
    "        X= -1\n",
    "        Y= 0\n",
    "        return Y\n",
    "\n",
    "    elif RE == -2 :\n",
    "        X= -1\n",
    "        Y= -1\n",
    "        return Y\n",
    "\n",
    "    \n",
    "    \n",
    "    \n",
    "    \n",
    "    "
   ]
  },
  {
   "cell_type": "code",
   "execution_count": 256,
   "metadata": {},
   "outputs": [],
   "source": [
    "x_y_df['X_sentiment']=x_y_df['RE'].apply(RE_sentiment_X)\n",
    "x_y_df['Y_sentiment']=x_y_df['RE'].apply(RE_sentiment_Y)\n"
   ]
  },
  {
   "cell_type": "code",
   "execution_count": 257,
   "metadata": {},
   "outputs": [],
   "source": [
    "from sklearn.preprocessing import minmax_scale\n",
    "x_y_df['scale']=minmax_scale(x_y_df.score)\n"
   ]
  },
  {
   "cell_type": "code",
   "execution_count": 258,
   "metadata": {},
   "outputs": [],
   "source": [
    "x_y_df['X_score']=x_y_df.scale * x_y_df.X_sentiment\n",
    "\n",
    "x_y_df['Y_score']=x_y_df.scale * x_y_df.Y_sentiment\n"
   ]
  },
  {
   "cell_type": "code",
   "execution_count": 259,
   "metadata": {},
   "outputs": [],
   "source": [
    "X_last=x_y_df.loc[:,['X','X_score']]\n",
    "X_last.columns=['symbol','sentiment_score']\n",
    "Y_last=x_y_df.loc[:,['Y','Y_score']]\n",
    "Y_last.columns=['symbol','sentiment_score']\n",
    "\n",
    "symbol_df=pd.concat([X_last,Y_last]).reset_index(drop=True)"
   ]
  },
  {
   "cell_type": "code",
   "execution_count": 264,
   "metadata": {},
   "outputs": [],
   "source": [
    "symbol_df=symbol_df.dropna(how='any',axis=0).reset_index(drop=True)"
   ]
  },
  {
   "cell_type": "code",
   "execution_count": 272,
   "metadata": {},
   "outputs": [],
   "source": [
    "week_re_sentiment=pd.DataFrame(symbol_df.groupby('symbol')['sentiment_score'].mean()).reset_index()"
   ]
  },
  {
   "cell_type": "code",
   "execution_count": 280,
   "metadata": {},
   "outputs": [],
   "source": [
    "week_re_sentiment.to_csv('week_re_sa.csv',encoding='utf-8-sig')"
   ]
  },
  {
   "cell_type": "code",
   "execution_count": 281,
   "metadata": {},
   "outputs": [],
   "source": [
    "x_y_df.to_csv('week_re_sum.csv',encoding='utf-8-sig')"
   ]
  },
  {
   "cell_type": "markdown",
   "metadata": {},
   "source": [
    "# example"
   ]
  },
  {
   "cell_type": "code",
   "execution_count": 38,
   "metadata": {},
   "outputs": [
    {
     "data": {
      "text/plain": [
       "[('Posline-Launch', 0.7734375), ('Negline-Operate', 0.97021484375)]"
      ]
     },
     "execution_count": 38,
     "metadata": {},
     "output_type": "execute_result"
    }
   ],
   "source": [
    "test_examples = [\n",
    "    BinaryFeatures(X='Apple', Y='Watch', inst_type='ORGANIZATION:ORGANIZATION', context='Apple launched a new edition of Watch on WWDC 2020'),\n",
    "    BinaryFeatures(X='GM', Y='Chevrolet', inst_type='ORGANIZATION:ORGANIZATION', context='GM halted production of Chevrolet due to mechanical failure.'),\n",
    "    # BinaryFeatures(X='He', Y='University of Maryland in College Park', inst_type='PERSON:ORGANIZATION', context='He received an undergraduate degree from Morgan State University in 1950 and applied for admission to graduate school at the University of Maryland in College Park.', label='no_relation')\n",
    "]\n",
    "\n",
    "nlp(task=task, features=test_examples, return_labels=True, return_confidences=True)"
   ]
  },
  {
   "cell_type": "code",
   "execution_count": null,
   "metadata": {},
   "outputs": [],
   "source": []
  }
 ],
 "metadata": {
  "kernelspec": {
   "display_name": "Python 3 (ipykernel)",
   "language": "python",
   "name": "python3"
  },
  "language_info": {
   "codemirror_mode": {
    "name": "ipython",
    "version": 3
   },
   "file_extension": ".py",
   "mimetype": "text/x-python",
   "name": "python",
   "nbconvert_exporter": "python",
   "pygments_lexer": "ipython3",
   "version": "3.9.12"
  },
  "vscode": {
   "interpreter": {
    "hash": "0f0aa8122934235810ee3916c97648a3592085986c528de29576cd1c75347e93"
   }
  }
 },
 "nbformat": 4,
 "nbformat_minor": 2
}
