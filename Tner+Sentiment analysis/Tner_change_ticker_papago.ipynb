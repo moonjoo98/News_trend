{
 "cells": [
  {
   "cell_type": "markdown",
   "id": "18ae147c",
   "metadata": {},
   "source": [
    "# Tner Trainer \n",
    "\n",
    "trainer를 활용해 fine-tuning가능\n",
    "\n",
    "Task에 맞는 데이터셋 or 직접 라벨링한 데이터셋을 활용한다면 더 좋은 결과를 얻을 수 있을 것이라 예상"
   ]
  },
  {
   "cell_type": "code",
   "execution_count": 59,
   "id": "5d5275cc",
   "metadata": {},
   "outputs": [],
   "source": [
    "import tner\n",
    "import pandas as pd\n",
    "from nltk.tokenize import sent_tokenize\n",
    "import string\n",
    "import numpy as np"
   ]
  },
  {
   "cell_type": "code",
   "execution_count": 5,
   "id": "1c0adc19",
   "metadata": {},
   "outputs": [
    {
     "name": "stderr",
     "output_type": "stream",
     "text": [
      "2022-07-11 10:06:26 INFO     *** initialize network ***\n",
      "2022-07-11 10:06:26 INFO     create new checkpoint\n",
      "2022-07-11 10:06:26 INFO     checkpoint: ./ckpt_merged_ba09202a5419c735668d527d68bebfa4\n",
      "2022-07-11 10:06:26 INFO      - [arg] dataset: ['ontonotes5', 'conll2003']\n",
      "2022-07-11 10:06:26 INFO      - [arg] transformers_model: xlm-roberta-base\n",
      "2022-07-11 10:06:26 INFO      - [arg] random_seed: 1234\n",
      "2022-07-11 10:06:26 INFO      - [arg] lr: 1e-05\n",
      "2022-07-11 10:06:26 INFO      - [arg] total_step: 5000\n",
      "2022-07-11 10:06:26 INFO      - [arg] warmup_step: 700\n",
      "2022-07-11 10:06:26 INFO      - [arg] weight_decay: 1e-07\n",
      "2022-07-11 10:06:26 INFO      - [arg] batch_size: 32\n",
      "2022-07-11 10:06:26 INFO      - [arg] max_seq_length: 128\n",
      "2022-07-11 10:06:26 INFO      - [arg] fp16: False\n",
      "2022-07-11 10:06:26 INFO      - [arg] max_grad_norm: 1.0\n",
      "2022-07-11 10:06:26 INFO      - [arg] lower_case: False\n"
     ]
    }
   ],
   "source": [
    "trainer = tner.TrainTransformersNER(checkpoint_dir='./ckpt_merged', dataset=[\"ontonotes5\", \"conll2003\"], transformers_model=\"xlm-roberta-base\")"
   ]
  },
  {
   "cell_type": "code",
   "execution_count": null,
   "id": "1f7a4fa3",
   "metadata": {},
   "outputs": [],
   "source": [
    "trainer.train(monitor_validation=True) #인코딩 에러가 날시 수정해주면 정상 작동"
   ]
  },
  {
   "cell_type": "markdown",
   "id": "d6913e3f",
   "metadata": {},
   "source": [
    "# START"
   ]
  },
  {
   "cell_type": "markdown",
   "id": "04b3388a",
   "metadata": {},
   "source": [
    "# Pretrained-model 불러오기"
   ]
  },
  {
   "cell_type": "code",
   "execution_count": 10,
   "id": "eac3f5bb",
   "metadata": {},
   "outputs": [
    {
     "name": "stderr",
     "output_type": "stream",
     "text": [
      "2022-07-11 10:09:40 INFO     *** initialize network ***\n"
     ]
    },
    {
     "data": {
      "application/vnd.jupyter.widget-view+json": {
       "model_id": "898173d0983f42389b69b32d9e5a50f6",
       "version_major": 2,
       "version_minor": 0
      },
      "text/plain": [
       "Downloading:   0%|          | 0.00/3.10k [00:00<?, ?B/s]"
      ]
     },
     "metadata": {},
     "output_type": "display_data"
    },
    {
     "data": {
      "application/vnd.jupyter.widget-view+json": {
       "model_id": "7ecf312698b248b6a50806af7cbcabc4",
       "version_major": 2,
       "version_minor": 0
      },
      "text/plain": [
       "Downloading:   0%|          | 0.00/1.11G [00:00<?, ?B/s]"
      ]
     },
     "metadata": {},
     "output_type": "display_data"
    },
    {
     "data": {
      "application/vnd.jupyter.widget-view+json": {
       "model_id": "aadb18f78f26457eb87b924ad0bb7a6c",
       "version_major": 2,
       "version_minor": 0
      },
      "text/plain": [
       "Downloading:   0%|          | 0.00/5.07M [00:00<?, ?B/s]"
      ]
     },
     "metadata": {},
     "output_type": "display_data"
    },
    {
     "data": {
      "application/vnd.jupyter.widget-view+json": {
       "model_id": "fc253a11397c44a4970242b2495c4041",
       "version_major": 2,
       "version_minor": 0
      },
      "text/plain": [
       "Downloading:   0%|          | 0.00/150 [00:00<?, ?B/s]"
      ]
     },
     "metadata": {},
     "output_type": "display_data"
    },
    {
     "data": {
      "application/vnd.jupyter.widget-view+json": {
       "model_id": "3c78763a596b4f8e98ab15e31eba0586",
       "version_major": 2,
       "version_minor": 0
      },
      "text/plain": [
       "Downloading:   0%|          | 0.00/211 [00:00<?, ?B/s]"
      ]
     },
     "metadata": {},
     "output_type": "display_data"
    }
   ],
   "source": [
    "#모든 데이터셋 사전학습된 모델 (이게 성능이 더좋음 채택)\n",
    "model = tner.TransformersNER(\"asahi417/tner-xlm-roberta-base-all-english\")"
   ]
  },
  {
   "cell_type": "code",
   "execution_count": 1,
   "id": "a0450d21",
   "metadata": {},
   "outputs": [
    {
     "name": "stderr",
     "output_type": "stream",
     "text": [
      "2022-05-31 16:02:55 INFO     NumExpr defaulting to 4 threads.\n",
      "2022-05-31 16:02:56 INFO     *** initialize network ***\n"
     ]
    }
   ],
   "source": [
    "#fine-tuning 진행한 모델\n",
    "classifier = tner.TransformersNER('./ckpt_merged_openote5')"
   ]
  },
  {
   "cell_type": "markdown",
   "id": "53c2c9ec",
   "metadata": {},
   "source": [
    "# 데이터 불러오기 및 간단한 전처리"
   ]
  },
  {
   "cell_type": "code",
   "execution_count": 11,
   "id": "2dc02eb3",
   "metadata": {},
   "outputs": [],
   "source": [
    "import os\n",
    "folders=os.listdir('C:/Users/Quantec/quantec/data/week_news')"
   ]
  },
  {
   "cell_type": "code",
   "execution_count": 12,
   "id": "f3b42ab1",
   "metadata": {},
   "outputs": [],
   "source": [
    "df_all_news=pd.DataFrame()\n",
    "\n",
    "for files in folders:\n",
    "    df=pd.read_csv('C:/Users/Quantec/quantec/data/week_news/'+files)\n",
    "    df_all_news=pd.concat([df_all_news,df])"
   ]
  },
  {
   "cell_type": "code",
   "execution_count": 13,
   "id": "84cc044c",
   "metadata": {},
   "outputs": [],
   "source": [
    "df_all_news=df_all_news.drop_duplicates(['date','contents'],keep='first') #중복제거"
   ]
  },
  {
   "cell_type": "code",
   "execution_count": 15,
   "id": "b817705d",
   "metadata": {},
   "outputs": [],
   "source": [
    "#뉴스 데이터 중 특정 날짜만 뽑아내기 위함\n",
    "df_all_news['date']=df_all_news.date.astype(str)\n",
    "\n",
    "df_all_news['date']=pd.to_datetime(df_all_news['date'])\n",
    "\n",
    "df_all_news=df_all_news[df_all_news.date.between('2022-05-01','2022-05-10')].sort_values('date') #테스트를 위해 날짜 짧게 조정\n",
    "\n",
    "df_all_news.reset_index(drop=True,inplace=True)\n",
    "\n",
    "text=df_all_news"
   ]
  },
  {
   "cell_type": "code",
   "execution_count": 16,
   "id": "79a8baf9",
   "metadata": {},
   "outputs": [
    {
     "data": {
      "text/html": [
       "<div>\n",
       "<style scoped>\n",
       "    .dataframe tbody tr th:only-of-type {\n",
       "        vertical-align: middle;\n",
       "    }\n",
       "\n",
       "    .dataframe tbody tr th {\n",
       "        vertical-align: top;\n",
       "    }\n",
       "\n",
       "    .dataframe thead th {\n",
       "        text-align: right;\n",
       "    }\n",
       "</style>\n",
       "<table border=\"1\" class=\"dataframe\">\n",
       "  <thead>\n",
       "    <tr style=\"text-align: right;\">\n",
       "      <th></th>\n",
       "      <th>date</th>\n",
       "      <th>symbol</th>\n",
       "      <th>link</th>\n",
       "      <th>contents</th>\n",
       "      <th>summary</th>\n",
       "      <th>keywords_pki</th>\n",
       "      <th>sentiment_score</th>\n",
       "      <th>sentiment_list</th>\n",
       "      <th>name</th>\n",
       "      <th>provider</th>\n",
       "    </tr>\n",
       "  </thead>\n",
       "  <tbody>\n",
       "    <tr>\n",
       "      <th>0</th>\n",
       "      <td>2022-05-06</td>\n",
       "      <td>IHG</td>\n",
       "      <td>https://finance.yahoo.com/news/ihg-hotels-reso...</td>\n",
       "      <td>InterContinental Hotels Group PLC (NYSE: IHG) ...</td>\n",
       "      <td>InterContinental Hotels Group PLC (NYSE: IHG) ...</td>\n",
       "      <td>InterContinental_Hotels_Group,IHG,Hotels,Resor...</td>\n",
       "      <td>0.0</td>\n",
       "      <td>{}</td>\n",
       "      <td>NaN</td>\n",
       "      <td>NaN</td>\n",
       "    </tr>\n",
       "    <tr>\n",
       "      <th>1</th>\n",
       "      <td>2022-05-06</td>\n",
       "      <td>C</td>\n",
       "      <td>https://finance.yahoo.com/news/citigroup-court...</td>\n",
       "      <td>Citigroup Inc. wants a bigger piece of that de...</td>\n",
       "      <td>Citigroup Inc. wants a bigger piece of that de...</td>\n",
       "      <td>Citigroup,piece,Wall,Street,buyout,bank,busine...</td>\n",
       "      <td>0.0</td>\n",
       "      <td>{'-crisis': 1, '+opportunity': 1}</td>\n",
       "      <td>NaN</td>\n",
       "      <td>NaN</td>\n",
       "    </tr>\n",
       "    <tr>\n",
       "      <th>2</th>\n",
       "      <td>2022-05-06</td>\n",
       "      <td>CI</td>\n",
       "      <td>https://finance.yahoo.com/news/cigna-reports-q...</td>\n",
       "      <td>Health insurer Cigna Corp raised its annual ad...</td>\n",
       "      <td>Health insurer Cigna Corp raised its annual ad...</td>\n",
       "      <td>health,insurer,Cigna,profit,forecast,decline,C...</td>\n",
       "      <td>0.0</td>\n",
       "      <td>{'-decline': 1, '+strength': 1}</td>\n",
       "      <td>NaN</td>\n",
       "      <td>NaN</td>\n",
       "    </tr>\n",
       "    <tr>\n",
       "      <th>3</th>\n",
       "      <td>2022-05-06</td>\n",
       "      <td>ENB</td>\n",
       "      <td>https://finance.yahoo.com/news/enbridge-first-...</td>\n",
       "      <td>Canadian energy pipeline company Enbridge Inc ...</td>\n",
       "      <td>Canadian energy pipeline company Enbridge Inc ...</td>\n",
       "      <td>canadian,energy,pipeline,company,Enbridge,rise...</td>\n",
       "      <td>1.0</td>\n",
       "      <td>{'+opportunity': 1}</td>\n",
       "      <td>NaN</td>\n",
       "      <td>NaN</td>\n",
       "    </tr>\n",
       "    <tr>\n",
       "      <th>4</th>\n",
       "      <td>2022-05-06</td>\n",
       "      <td>DB</td>\n",
       "      <td>https://finance.yahoo.com/news/italy-appeals-c...</td>\n",
       "      <td>An Italian appeals court on Friday acquitted a...</td>\n",
       "      <td>An Italian appeals court on Friday acquitted a...</td>\n",
       "      <td>italian,appeal,court,defendant,Deutsche_Bank,N...</td>\n",
       "      <td>-4.0</td>\n",
       "      <td>{'-defendant': 1, '-loss': 1, '-verdict': 2}</td>\n",
       "      <td>NaN</td>\n",
       "      <td>NaN</td>\n",
       "    </tr>\n",
       "  </tbody>\n",
       "</table>\n",
       "</div>"
      ],
      "text/plain": [
       "        date symbol                                               link  \\\n",
       "0 2022-05-06    IHG  https://finance.yahoo.com/news/ihg-hotels-reso...   \n",
       "1 2022-05-06      C  https://finance.yahoo.com/news/citigroup-court...   \n",
       "2 2022-05-06     CI  https://finance.yahoo.com/news/cigna-reports-q...   \n",
       "3 2022-05-06    ENB  https://finance.yahoo.com/news/enbridge-first-...   \n",
       "4 2022-05-06     DB  https://finance.yahoo.com/news/italy-appeals-c...   \n",
       "\n",
       "                                            contents  \\\n",
       "0  InterContinental Hotels Group PLC (NYSE: IHG) ...   \n",
       "1  Citigroup Inc. wants a bigger piece of that de...   \n",
       "2  Health insurer Cigna Corp raised its annual ad...   \n",
       "3  Canadian energy pipeline company Enbridge Inc ...   \n",
       "4  An Italian appeals court on Friday acquitted a...   \n",
       "\n",
       "                                             summary  \\\n",
       "0  InterContinental Hotels Group PLC (NYSE: IHG) ...   \n",
       "1  Citigroup Inc. wants a bigger piece of that de...   \n",
       "2  Health insurer Cigna Corp raised its annual ad...   \n",
       "3  Canadian energy pipeline company Enbridge Inc ...   \n",
       "4  An Italian appeals court on Friday acquitted a...   \n",
       "\n",
       "                                        keywords_pki  sentiment_score  \\\n",
       "0  InterContinental_Hotels_Group,IHG,Hotels,Resor...              0.0   \n",
       "1  Citigroup,piece,Wall,Street,buyout,bank,busine...              0.0   \n",
       "2  health,insurer,Cigna,profit,forecast,decline,C...              0.0   \n",
       "3  canadian,energy,pipeline,company,Enbridge,rise...              1.0   \n",
       "4  italian,appeal,court,defendant,Deutsche_Bank,N...             -4.0   \n",
       "\n",
       "                                 sentiment_list name provider  \n",
       "0                                            {}  NaN      NaN  \n",
       "1             {'-crisis': 1, '+opportunity': 1}  NaN      NaN  \n",
       "2               {'-decline': 1, '+strength': 1}  NaN      NaN  \n",
       "3                           {'+opportunity': 1}  NaN      NaN  \n",
       "4  {'-defendant': 1, '-loss': 1, '-verdict': 2}  NaN      NaN  "
      ]
     },
     "execution_count": 16,
     "metadata": {},
     "output_type": "execute_result"
    }
   ],
   "source": [
    "text.head(5)"
   ]
  },
  {
   "cell_type": "code",
   "execution_count": 98,
   "id": "c792be3a",
   "metadata": {},
   "outputs": [],
   "source": [
    "# 주차 단위로 구할 때 활용\n",
    "# text=pd.read_csv('C:/Users/Quantec/quantec/data/20220623_news.csv')\n",
    "\n",
    "# text=text.drop_duplicates(['date','contents'],keep='first')\n",
    "\n",
    "# text['date']=text.date.astype(str)\n",
    "\n",
    "# text['date']=text['date'].apply(lambda x : x[:8])\n",
    "\n",
    "\n",
    "# text['date']=pd.to_datetime(text['date'])\n",
    "\n",
    "# text=text[text.date.between('2022-06-17','2022-06-30')].sort_values('date')\n",
    "\n",
    "# text.reset_index(drop=True,inplace=True)\n"
   ]
  },
  {
   "cell_type": "markdown",
   "id": "ec23314a",
   "metadata": {},
   "source": [
    "# 뉴스 문서 Sent_tokenize로 문장단위 토큰화"
   ]
  },
  {
   "cell_type": "code",
   "execution_count": 17,
   "id": "eb7e7c5c",
   "metadata": {},
   "outputs": [
    {
     "name": "stderr",
     "output_type": "stream",
     "text": [
      "100%|██████████| 472/472 [00:13<00:00, 33.82it/s]\n"
     ]
    }
   ],
   "source": [
    "\n",
    "from tqdm import tqdm\n",
    "sentence_list=[]\n",
    "\n",
    "index_list=[]\n",
    "for i in tqdm(range(len(text.contents))):\n",
    "    count=len(sent_tokenize(text.contents[i]))\n",
    "    for k in range(count):\n",
    "        word=sent_tokenize(text.contents[i])[k].split()\n",
    "        sent=sent_tokenize(text.contents[i])[k]\n",
    "        sentence_list.append(sent)\n",
    "        index_list.append(i)"
   ]
  },
  {
   "cell_type": "markdown",
   "id": "ad31f9f6",
   "metadata": {},
   "source": [
    "### NER 추출\n",
    "\n",
    "문장내에서 Ticker만 추출해야 하기 때문에 기본 모델 구조에서 output부분을 수정했음\n",
    "\n",
    "entity -> organzation만 추출\n",
    "\n",
    "데이터 단위가 문장단위 이기 때문에 tner tokenizer를 그대로 사용\n"
   ]
  },
  {
   "cell_type": "code",
   "execution_count": 18,
   "id": "0215df36",
   "metadata": {
    "scrolled": true
   },
   "outputs": [
    {
     "name": "stderr",
     "output_type": "stream",
     "text": [
      "100%|██████████| 25/25 [05:45<00:00, 13.81s/it]\n"
     ]
    }
   ],
   "source": [
    "#메모리 에러로 400개씩만 input으로 predict.\n",
    "output_list=[]\n",
    "for i in tqdm(range(0,len(sentence_list),400)):\n",
    "    s_text=sentence_list[i:i+400]\n",
    "    output=model.predict(s_text)\n",
    "    output_list.append(output)\n",
    "    \n",
    "#outputs=classifier.predict(test)\n"
   ]
  },
  {
   "cell_type": "code",
   "execution_count": 19,
   "id": "626aa02f",
   "metadata": {},
   "outputs": [],
   "source": [
    "result=sum(output_list,[])"
   ]
  },
  {
   "cell_type": "code",
   "execution_count": 20,
   "id": "8bcabff9",
   "metadata": {},
   "outputs": [],
   "source": [
    "entity_list=[]\n",
    "for i in range(len(result)):\n",
    "    entity=list(result[i].values())[0]\n",
    "    entity_list.append(entity)\n",
    "    \n",
    "symbol_news=pd.DataFrame([index_list,sentence_list,entity_list]).T\n",
    "symbol_news.columns=['news_label','contents','entity_list']"
   ]
  },
  {
   "cell_type": "code",
   "execution_count": 21,
   "id": "baf0271d",
   "metadata": {},
   "outputs": [
    {
     "data": {
      "text/html": [
       "<div>\n",
       "<style scoped>\n",
       "    .dataframe tbody tr th:only-of-type {\n",
       "        vertical-align: middle;\n",
       "    }\n",
       "\n",
       "    .dataframe tbody tr th {\n",
       "        vertical-align: top;\n",
       "    }\n",
       "\n",
       "    .dataframe thead th {\n",
       "        text-align: right;\n",
       "    }\n",
       "</style>\n",
       "<table border=\"1\" class=\"dataframe\">\n",
       "  <thead>\n",
       "    <tr style=\"text-align: right;\">\n",
       "      <th></th>\n",
       "      <th>news_label</th>\n",
       "      <th>contents</th>\n",
       "      <th>entity_list</th>\n",
       "    </tr>\n",
       "  </thead>\n",
       "  <tbody>\n",
       "    <tr>\n",
       "      <th>0</th>\n",
       "      <td>0</td>\n",
       "      <td>InterContinental Hotels Group PLC (NYSE: IHG) ...</td>\n",
       "      <td>[InterContinental Hotels Group PLC, IHG Hotels...</td>\n",
       "    </tr>\n",
       "    <tr>\n",
       "      <th>1</th>\n",
       "      <td>0</td>\n",
       "      <td>Rise in demand for hotel stays in the U.S. spr...</td>\n",
       "      <td>[Reuters]</td>\n",
       "    </tr>\n",
       "    <tr>\n",
       "      <th>2</th>\n",
       "      <td>0</td>\n",
       "      <td>Q1 RevPAR, or revenue per available room, was ...</td>\n",
       "      <td>[]</td>\n",
       "    </tr>\n",
       "    <tr>\n",
       "      <th>3</th>\n",
       "      <td>0</td>\n",
       "      <td>The company noted Americas and EMEAA saw seque...</td>\n",
       "      <td>[Americas, EMEAA]</td>\n",
       "    </tr>\n",
       "    <tr>\n",
       "      <th>4</th>\n",
       "      <td>0</td>\n",
       "      <td>Meanwhile, China's trading in March was impact...</td>\n",
       "      <td>[]</td>\n",
       "    </tr>\n",
       "  </tbody>\n",
       "</table>\n",
       "</div>"
      ],
      "text/plain": [
       "  news_label                                           contents  \\\n",
       "0          0  InterContinental Hotels Group PLC (NYSE: IHG) ...   \n",
       "1          0  Rise in demand for hotel stays in the U.S. spr...   \n",
       "2          0  Q1 RevPAR, or revenue per available room, was ...   \n",
       "3          0  The company noted Americas and EMEAA saw seque...   \n",
       "4          0  Meanwhile, China's trading in March was impact...   \n",
       "\n",
       "                                         entity_list  \n",
       "0  [InterContinental Hotels Group PLC, IHG Hotels...  \n",
       "1                                          [Reuters]  \n",
       "2                                                 []  \n",
       "3                                  [Americas, EMEAA]  \n",
       "4                                                 []  "
      ]
     },
     "execution_count": 21,
     "metadata": {},
     "output_type": "execute_result"
    }
   ],
   "source": [
    "symbol_news.head(5)"
   ]
  },
  {
   "cell_type": "code",
   "execution_count": 26,
   "id": "bbb62e35",
   "metadata": {},
   "outputs": [],
   "source": [
    "#entity가 추출되지 않은 문장은 제거\n",
    "df_list=[]\n",
    "for i in range(symbol_news.shape[0]):\n",
    "    symbol_list=entity_list[i]\n",
    "    if len(symbol_list) > 0:\n",
    "        df_list.append(symbol_news.iloc[i])\n",
    "        "
   ]
  },
  {
   "cell_type": "code",
   "execution_count": 27,
   "id": "a748d14a",
   "metadata": {},
   "outputs": [],
   "source": [
    "ner_df=pd.DataFrame(df_list)"
   ]
  },
  {
   "cell_type": "code",
   "execution_count": 28,
   "id": "e9279b5a",
   "metadata": {},
   "outputs": [],
   "source": [
    "ner_df.reset_index(inplace=True,drop=True)"
   ]
  },
  {
   "cell_type": "code",
   "execution_count": 31,
   "id": "044234bd",
   "metadata": {},
   "outputs": [],
   "source": [
    "ner_df.to_csv('sentiment_05_06.csv',encoding='utf-8-sig') #한번 저장"
   ]
  },
  {
   "cell_type": "code",
   "execution_count": 32,
   "id": "2ef07d5e",
   "metadata": {},
   "outputs": [],
   "source": [
    "#전처리\n",
    "# ner_df.entity_list=ner_df.entity_list.astype(str)\n",
    "# ner_df.entity_list=ner_df['entity_list'].str.replace('[',\"\",regex=True)\n",
    "# ner_df.entity_list=ner_df['entity_list'].str.replace(']',\"\",regex=True)\n",
    "# ner_df.entity_list=ner_df['entity_list'].str.replace('\"',\"\",regex=True)\n",
    "# ner_df.entity_list=ner_df['entity_list'].str.replace('\\'',\"\",regex=True)\n",
    "\n",
    "# ner_df.entity_list=ner_df.entity_list.str.replace(\",\",\" \",regex=True)\n",
    "# ner_df.entity_list=ner_df.entity_list.str.replace(\"  \",\" \",regex=True)"
   ]
  },
  {
   "cell_type": "code",
   "execution_count": 656,
   "id": "2eca2bed",
   "metadata": {},
   "outputs": [],
   "source": [
    "# quotes=pd.read_csv('data/US_topics_quotes.csv')"
   ]
  },
  {
   "cell_type": "code",
   "execution_count": 657,
   "id": "6b052b69",
   "metadata": {},
   "outputs": [],
   "source": [
    "# for i in range(quotes.summary.shape[0]):\n",
    "#     quotes.loc[i,'summary']=quotes.summary[i].replace('company',quotes.symbol[i])\n",
    "#     quotes.loc[i,'summary']=quotes.summary[i].split('\\'execs\\'')[0]\n",
    "#     quotes.loc[i,'summary']=quotes.summary[i].replace('],','')\n",
    "#     sub=quotes.summary[i].split('\\'details\\': [')\n",
    "#     sub[0]=sub[0].rstrip()\n",
    "#     quotes.loc[i,'summary']=', '.join(sub)\n",
    "#     quotes.loc[i,'summary']=quotes.summary[i].rstrip()\n",
    "#     quotes.loc[i,'summary']=quotes.summary[i].split(': [')[1]\n",
    "#     #quotes.summary[i]+']}'\n",
    "# for i in range(quotes.summary.shape[0]):\n",
    "#     quotes.loc[i,'summary']=quotes.summary[i].split('\\'execs\\'')[0]+']}'\n",
    "    \n",
    "# for i in range(quotes.summary.shape[0]):\n",
    "#     quotes.loc[i,'summary']=quotes.summary[i].replace('],','')\n",
    "    \n",
    "#quotes.to_csv('data/US_topic_quotes_gaja.csv')"
   ]
  },
  {
   "cell_type": "markdown",
   "id": "33cabb0c",
   "metadata": {},
   "source": [
    "# 추출된 organzation word-> Ticker 변환\n",
    "\n",
    "우선 기존에 정의한 ticker 사전에 추가로 filter 해야하는 경우의 수 추가\n",
    "\n",
    "모든 organzation을 ticker로 변환하지 않는 이유는 사전 정의한 리스트에서 제외 대상이기 때문"
   ]
  },
  {
   "cell_type": "code",
   "execution_count": 30,
   "id": "a7170492",
   "metadata": {},
   "outputs": [],
   "source": [
    "#사전 정의한 ticker 사전 \n",
    "quotes=pd.read_csv('data/US_topic_quotes_gaja.csv')\n",
    "quotes.drop('Unnamed: 0', axis=1,inplace=True)\n",
    "\n",
    "\n",
    "for i in range(quotes.shape[0]):\n",
    "    quotes.loc[i,'summary']=quotes.summary[i].replace(\"\\\"\",\"\\'\")"
   ]
  },
  {
   "cell_type": "code",
   "execution_count": 31,
   "id": "b12aba4e",
   "metadata": {},
   "outputs": [],
   "source": [
    "www=pd.read_csv('data/US_topics_quotes.csv')"
   ]
  },
  {
   "cell_type": "code",
   "execution_count": 34,
   "id": "92a97f1c",
   "metadata": {},
   "outputs": [
    {
     "data": {
      "text/html": [
       "<div>\n",
       "<style scoped>\n",
       "    .dataframe tbody tr th:only-of-type {\n",
       "        vertical-align: middle;\n",
       "    }\n",
       "\n",
       "    .dataframe tbody tr th {\n",
       "        vertical-align: top;\n",
       "    }\n",
       "\n",
       "    .dataframe thead th {\n",
       "        text-align: right;\n",
       "    }\n",
       "</style>\n",
       "<table border=\"1\" class=\"dataframe\">\n",
       "  <thead>\n",
       "    <tr style=\"text-align: right;\">\n",
       "      <th></th>\n",
       "      <th>region</th>\n",
       "      <th>asset</th>\n",
       "      <th>listed</th>\n",
       "      <th>name</th>\n",
       "      <th>symbol</th>\n",
       "      <th>update_dttm</th>\n",
       "      <th>last_page</th>\n",
       "      <th>summary</th>\n",
       "    </tr>\n",
       "  </thead>\n",
       "  <tbody>\n",
       "    <tr>\n",
       "      <th>0</th>\n",
       "      <td>US</td>\n",
       "      <td>Topics</td>\n",
       "      <td>US</td>\n",
       "      <td>Agilent Technologies, Inc.</td>\n",
       "      <td>A</td>\n",
       "      <td>20220509 141504</td>\n",
       "      <td>NaN</td>\n",
       "      <td>{'company': ['Agilent Technologies, Inc.'], 'd...</td>\n",
       "    </tr>\n",
       "    <tr>\n",
       "      <th>1</th>\n",
       "      <td>US</td>\n",
       "      <td>Topics</td>\n",
       "      <td>US</td>\n",
       "      <td>Alcoa Corporation</td>\n",
       "      <td>AA</td>\n",
       "      <td>20220509 153715</td>\n",
       "      <td>NaN</td>\n",
       "      <td>{'company': ['Alcoa Corporation'], 'details': ...</td>\n",
       "    </tr>\n",
       "    <tr>\n",
       "      <th>2</th>\n",
       "      <td>US</td>\n",
       "      <td>Topics</td>\n",
       "      <td>US</td>\n",
       "      <td>American Airlines Group Inc.</td>\n",
       "      <td>AAL</td>\n",
       "      <td>20220509 163844</td>\n",
       "      <td>NaN</td>\n",
       "      <td>{'company': ['American Airlines Group Inc.'], ...</td>\n",
       "    </tr>\n",
       "    <tr>\n",
       "      <th>3</th>\n",
       "      <td>US</td>\n",
       "      <td>Topics</td>\n",
       "      <td>US</td>\n",
       "      <td>Advance Auto Parts, Inc.</td>\n",
       "      <td>AAP</td>\n",
       "      <td>20220510 160456</td>\n",
       "      <td>NaN</td>\n",
       "      <td>{'company': ['Advance Auto Parts, Inc.'], 'det...</td>\n",
       "    </tr>\n",
       "    <tr>\n",
       "      <th>4</th>\n",
       "      <td>US</td>\n",
       "      <td>Topics</td>\n",
       "      <td>US</td>\n",
       "      <td>Apple Inc.</td>\n",
       "      <td>AAPL</td>\n",
       "      <td>20220511 150807</td>\n",
       "      <td>NaN</td>\n",
       "      <td>{'company': ['Apple Inc.'], 'details': ['Mac',...</td>\n",
       "    </tr>\n",
       "    <tr>\n",
       "      <th>...</th>\n",
       "      <td>...</td>\n",
       "      <td>...</td>\n",
       "      <td>...</td>\n",
       "      <td>...</td>\n",
       "      <td>...</td>\n",
       "      <td>...</td>\n",
       "      <td>...</td>\n",
       "      <td>...</td>\n",
       "    </tr>\n",
       "    <tr>\n",
       "      <th>931</th>\n",
       "      <td>US</td>\n",
       "      <td>Topics</td>\n",
       "      <td>US</td>\n",
       "      <td>Zynga Inc.</td>\n",
       "      <td>ZNGA</td>\n",
       "      <td>20220512 113031</td>\n",
       "      <td>NaN</td>\n",
       "      <td>{'company': ['Zynga Inc.', 'Zynga'], 'details'...</td>\n",
       "    </tr>\n",
       "    <tr>\n",
       "      <th>932</th>\n",
       "      <td>US</td>\n",
       "      <td>Topics</td>\n",
       "      <td>US</td>\n",
       "      <td>China Southern Airlines Company Limited</td>\n",
       "      <td>ZNH</td>\n",
       "      <td>20220513 092955</td>\n",
       "      <td>NaN</td>\n",
       "      <td>{'company': ['China Southern Airlines Company ...</td>\n",
       "    </tr>\n",
       "    <tr>\n",
       "      <th>933</th>\n",
       "      <td>US</td>\n",
       "      <td>Topics</td>\n",
       "      <td>US</td>\n",
       "      <td>Zscaler, Inc.</td>\n",
       "      <td>ZS</td>\n",
       "      <td>20220509 142429</td>\n",
       "      <td>NaN</td>\n",
       "      <td>{'company': ['Zscaler, Inc.', 'Zscaler'], 'det...</td>\n",
       "    </tr>\n",
       "    <tr>\n",
       "      <th>934</th>\n",
       "      <td>US</td>\n",
       "      <td>Topics</td>\n",
       "      <td>US</td>\n",
       "      <td>ZTO Express (Cayman) Inc.</td>\n",
       "      <td>ZTO</td>\n",
       "      <td>20220509 154647</td>\n",
       "      <td>NaN</td>\n",
       "      <td>{'company': ['ZTO Express', 'Cayman'], 'detail...</td>\n",
       "    </tr>\n",
       "    <tr>\n",
       "      <th>935</th>\n",
       "      <td>US</td>\n",
       "      <td>Topics</td>\n",
       "      <td>US</td>\n",
       "      <td>Zoetis Inc.</td>\n",
       "      <td>ZTS</td>\n",
       "      <td>20220509 164814</td>\n",
       "      <td>NaN</td>\n",
       "      <td>{'company': ['Zoetis Inc.'], 'details': ['Zoet...</td>\n",
       "    </tr>\n",
       "  </tbody>\n",
       "</table>\n",
       "<p>936 rows × 8 columns</p>\n",
       "</div>"
      ],
      "text/plain": [
       "    region   asset listed                                     name symbol  \\\n",
       "0       US  Topics     US               Agilent Technologies, Inc.      A   \n",
       "1       US  Topics     US                        Alcoa Corporation     AA   \n",
       "2       US  Topics     US             American Airlines Group Inc.    AAL   \n",
       "3       US  Topics     US                 Advance Auto Parts, Inc.    AAP   \n",
       "4       US  Topics     US                               Apple Inc.   AAPL   \n",
       "..     ...     ...    ...                                      ...    ...   \n",
       "931     US  Topics     US                               Zynga Inc.   ZNGA   \n",
       "932     US  Topics     US  China Southern Airlines Company Limited    ZNH   \n",
       "933     US  Topics     US                            Zscaler, Inc.     ZS   \n",
       "934     US  Topics     US                ZTO Express (Cayman) Inc.    ZTO   \n",
       "935     US  Topics     US                              Zoetis Inc.    ZTS   \n",
       "\n",
       "         update_dttm  last_page  \\\n",
       "0    20220509 141504        NaN   \n",
       "1    20220509 153715        NaN   \n",
       "2    20220509 163844        NaN   \n",
       "3    20220510 160456        NaN   \n",
       "4    20220511 150807        NaN   \n",
       "..               ...        ...   \n",
       "931  20220512 113031        NaN   \n",
       "932  20220513 092955        NaN   \n",
       "933  20220509 142429        NaN   \n",
       "934  20220509 154647        NaN   \n",
       "935  20220509 164814        NaN   \n",
       "\n",
       "                                               summary  \n",
       "0    {'company': ['Agilent Technologies, Inc.'], 'd...  \n",
       "1    {'company': ['Alcoa Corporation'], 'details': ...  \n",
       "2    {'company': ['American Airlines Group Inc.'], ...  \n",
       "3    {'company': ['Advance Auto Parts, Inc.'], 'det...  \n",
       "4    {'company': ['Apple Inc.'], 'details': ['Mac',...  \n",
       "..                                                 ...  \n",
       "931  {'company': ['Zynga Inc.', 'Zynga'], 'details'...  \n",
       "932  {'company': ['China Southern Airlines Company ...  \n",
       "933  {'company': ['Zscaler, Inc.', 'Zscaler'], 'det...  \n",
       "934  {'company': ['ZTO Express', 'Cayman'], 'detail...  \n",
       "935  {'company': ['Zoetis Inc.'], 'details': ['Zoet...  \n",
       "\n",
       "[936 rows x 8 columns]"
      ]
     },
     "execution_count": 34,
     "metadata": {},
     "output_type": "execute_result"
    }
   ],
   "source": [
    "www"
   ]
  },
  {
   "cell_type": "code",
   "execution_count": 36,
   "id": "38b4f940",
   "metadata": {},
   "outputs": [],
   "source": [
    "#이름 제거\n",
    "www['name']=www['name'].apply(lambda x : ''.join([k for k in x if k not in string.punctuation]))"
   ]
  },
  {
   "cell_type": "code",
   "execution_count": 37,
   "id": "897dc391",
   "metadata": {},
   "outputs": [],
   "source": [
    "#name + , . 추가\n",
    "all_list=[]\n",
    "for i in range(www.shape[0]):\n",
    "    www_list=[]\n",
    "    aa=www.name[i]+'.'\n",
    "    corp_sum=www.name[i].split()[0:len(www.name[i].split())-1]\n",
    "    corp_sum_=' '.join(corp_sum)+' '+'Corp'\n",
    "    corp_sum__=' '.join(corp_sum)+' '+'Corp.'\n",
    "    co_sum_=' '.join(corp_sum)+' '+'Co'\n",
    "    co_sum__=' '.join(corp_sum)+' '+'Co.'\n",
    "    Ltd_sum_=' '.join(corp_sum)+' '+'Ltd'\n",
    "    Ltd_sum__=' '.join(corp_sum)+' '+'Ltd.'\n",
    "    www_list.append(corp_sum_)\n",
    "    www_list.append(corp_sum__)\n",
    "    www_list.append(co_sum_)\n",
    "    www_list.append(co_sum__)\n",
    "    www_list.append(Ltd_sum_)\n",
    "    www_list.append(Ltd_sum__)\n",
    "            \n",
    "    if len(www.name[i].split()) == 2 :\n",
    "        ee=', '.join(www.name[i].split())\n",
    "        ee_=ee+'.'\n",
    "        www_list.append(ee)\n",
    "        www_list.append(ee_)\n",
    "    elif len(www.name[i].split()) >2 :\n",
    "        ss=www.name[i].split()[len(www.name[i].split())-2:len(www.name[i].split())]\n",
    "        et=', '.join(ss)\n",
    "        rq=www.name[i].replace(' '.join(www.name[i].split()[len(www.name[i].split())-2:len(www.name[i].split())]),et)\n",
    "        rq_=rq+'.'\n",
    "        www_list.append(rq)\n",
    "        www_list.append(rq_)\n",
    "    www_list.append(www.name[i])\n",
    "    www_list.append(aa)\n",
    "\n",
    "\n",
    "    if len(www.name[i].split()) == 2 :\n",
    "        one=www.name[i].split()[0]\n",
    "        www_list.append(one)\n",
    "        \n",
    "    elif len(www.name[i].split()) > 2:\n",
    "        for count in range(len(www.name[i].split())):\n",
    "            bi=www.name[i].split()[0:count]\n",
    "            bi_sum=' '.join(bi)\n",
    "            \n",
    "            if len(bi_sum) > 0:\n",
    "                www_list.append(bi_sum)\n",
    "                \n",
    "    all_list.append(www_list)\n"
   ]
  },
  {
   "cell_type": "code",
   "execution_count": 38,
   "id": "f8358bb5",
   "metadata": {},
   "outputs": [],
   "source": [
    "st_list=[]\n",
    "for i in range(quotes.shape[0]):\n",
    "    st=quotes.summary[i].split(\"\\', \")\n",
    "    for j in range(len(st)):\n",
    "        st[j]=st[j].replace(\"\\'\",'')\n",
    "    st.extend(all_list[i])\n",
    "    st.append(quotes.symbol[i])\n",
    "    st_list.append(st)\n",
    "    \n",
    "    "
   ]
  },
  {
   "cell_type": "code",
   "execution_count": 39,
   "id": "a67115e2",
   "metadata": {},
   "outputs": [],
   "source": [
    "#중복제거\n",
    "for i in range(len(st_list)):\n",
    "    new_list=list(set(st_list[i]))\n",
    "    st_list[i]=new_list"
   ]
  },
  {
   "cell_type": "code",
   "execution_count": 40,
   "id": "d91c3c81",
   "metadata": {},
   "outputs": [],
   "source": [
    "#AAL -> American을 제외한 나머지 ticker에서 American 제거\n",
    "for i in range(3,936):\n",
    "    try:\n",
    "        st_list[i].remove('American')\n",
    "    except:\n",
    "        pass\n",
    "    \n",
    "    "
   ]
  },
  {
   "cell_type": "code",
   "execution_count": 41,
   "id": "1f44f931",
   "metadata": {},
   "outputs": [],
   "source": [
    "symbol_dict=dict(zip(quotes.symbol,st_list))"
   ]
  },
  {
   "cell_type": "code",
   "execution_count": 52,
   "id": "522517ec",
   "metadata": {},
   "outputs": [
    {
     "data": {
      "text/plain": [
       "['Apple Co',\n",
       " 'Apple Co.',\n",
       " 'iPod',\n",
       " 'Mac',\n",
       " 'Apple TV',\n",
       " 'Apple TV+',\n",
       " 'iCloud',\n",
       " 'Siri',\n",
       " 'iPad',\n",
       " 'Apple Ltd.',\n",
       " 'HomePod',\n",
       " 'iOS',\n",
       " 'Apple Inc.',\n",
       " 'AppleCare',\n",
       " 'Apple Inc',\n",
       " 'AppStore',\n",
       " 'Apple Home',\n",
       " 'macOS',\n",
       " 'Apple Watch',\n",
       " 'AirPods',\n",
       " 'Apple',\n",
       " 'Apple Ltd',\n",
       " 'Apple, Inc.',\n",
       " 'iPhone',\n",
       " 'Apple Corp',\n",
       " 'Apple, Inc',\n",
       " 'AAPL',\n",
       " 'AirTag',\n",
       " 'iPadOS',\n",
       " 'Apple Corp.']"
      ]
     },
     "execution_count": 52,
     "metadata": {},
     "output_type": "execute_result"
    }
   ],
   "source": [
    "symbol_dict['AAPL']"
   ]
  },
  {
   "cell_type": "code",
   "execution_count": 168,
   "id": "d466a404",
   "metadata": {},
   "outputs": [],
   "source": [
    "#ner_df=pd.read_csv('sentiment_05_06.csv',encoding='utf-8-sig')#위에서 생성된 ner_df 활용하면 됨."
   ]
  },
  {
   "cell_type": "code",
   "execution_count": 53,
   "id": "76014c19",
   "metadata": {},
   "outputs": [],
   "source": [
    "#전처리\n",
    "ner_df.entity_list=ner_df.entity_list.astype(str)\n",
    "ner_df.entity_list=ner_df['entity_list'].str.replace('[',\"\",regex=True)\n",
    "ner_df.entity_list=ner_df['entity_list'].str.replace(']',\"\",regex=True)\n",
    "ner_df.entity_list=ner_df['entity_list'].str.replace('\"',\"\",regex=True)\n",
    "ner_df.entity_list=ner_df['entity_list'].str.replace('\\'',\"\",regex=True)"
   ]
  },
  {
   "cell_type": "code",
   "execution_count": 54,
   "id": "9214b6d1",
   "metadata": {},
   "outputs": [
    {
     "name": "stderr",
     "output_type": "stream",
     "text": [
      "100%|██████████| 4723/4723 [15:25<00:00,  5.11it/s]  \n"
     ]
    }
   ],
   "source": [
    "#정의한 사전을 활용해 추출된 entity -> ticker 변환\n",
    "from tqdm import tqdm\n",
    "last_list=[]\n",
    "for count in tqdm(range(ner_df.shape[0])):\n",
    "    change_list=[]\n",
    "    for i in range(len(ner_df.entity_list[count].split(', '))):\n",
    "        for key in symbol_dict.keys():\n",
    "            for j in range(len(symbol_dict[key])):\n",
    "                if symbol_dict[key][j] == ner_df.entity_list[count].split(', ')[i]:\n",
    "                    change=ner_df.entity_list[count].split(', ')[i].replace(symbol_dict[key][j],key)\n",
    "                    change_list.append(change)\n",
    "    last_list.append(change_list)\n",
    "                    #ner_df.loc[count,'entity_list']=change_list\n",
    "\n",
    "        "
   ]
  },
  {
   "cell_type": "code",
   "execution_count": 55,
   "id": "63525a88",
   "metadata": {},
   "outputs": [],
   "source": [
    "ner_df['ticker']=last_list"
   ]
  },
  {
   "cell_type": "code",
   "execution_count": 56,
   "id": "df2f6691",
   "metadata": {},
   "outputs": [],
   "source": [
    "ner_df.ticker=ner_df.ticker.astype(str)\n",
    "ner_df.ticker=ner_df['ticker'].str.replace('[',\"\",regex=True)\n",
    "ner_df.ticker=ner_df['ticker'].str.replace(']',\"\",regex=True)\n",
    "ner_df.ticker=ner_df['ticker'].str.replace('\"',\"\",regex=True)\n",
    "ner_df.ticker=ner_df['ticker'].str.replace('\\'',\"\",regex=True)"
   ]
  },
  {
   "cell_type": "code",
   "execution_count": 60,
   "id": "74d536a1",
   "metadata": {},
   "outputs": [],
   "source": [
    "\n",
    "#결측치 제거 \n",
    "ner_df.ticker=ner_df.ticker.replace('',np.nan)\n",
    "\n",
    "ner_df=ner_df.dropna(subset=['ticker'],how='any').reset_index(drop=True)"
   ]
  },
  {
   "cell_type": "code",
   "execution_count": 62,
   "id": "a2e9623a",
   "metadata": {},
   "outputs": [
    {
     "data": {
      "text/html": [
       "<div>\n",
       "<style scoped>\n",
       "    .dataframe tbody tr th:only-of-type {\n",
       "        vertical-align: middle;\n",
       "    }\n",
       "\n",
       "    .dataframe tbody tr th {\n",
       "        vertical-align: top;\n",
       "    }\n",
       "\n",
       "    .dataframe thead th {\n",
       "        text-align: right;\n",
       "    }\n",
       "</style>\n",
       "<table border=\"1\" class=\"dataframe\">\n",
       "  <thead>\n",
       "    <tr style=\"text-align: right;\">\n",
       "      <th></th>\n",
       "      <th>news_label</th>\n",
       "      <th>contents</th>\n",
       "      <th>entity_list</th>\n",
       "      <th>ticker</th>\n",
       "    </tr>\n",
       "  </thead>\n",
       "  <tbody>\n",
       "    <tr>\n",
       "      <th>0</th>\n",
       "      <td>0</td>\n",
       "      <td>InterContinental Hotels Group PLC (NYSE: IHG) ...</td>\n",
       "      <td>InterContinental Hotels Group PLC, IHG Hotels ...</td>\n",
       "      <td>IHG</td>\n",
       "    </tr>\n",
       "    <tr>\n",
       "      <th>1</th>\n",
       "      <td>1</td>\n",
       "      <td>Citigroup Inc. wants a bigger piece of that de...</td>\n",
       "      <td>Citigroup Inc.</td>\n",
       "      <td>C</td>\n",
       "    </tr>\n",
       "    <tr>\n",
       "      <th>2</th>\n",
       "      <td>1</td>\n",
       "      <td>The bank is looking to drum up more business w...</td>\n",
       "      <td>Citigroup</td>\n",
       "      <td>C</td>\n",
       "    </tr>\n",
       "    <tr>\n",
       "      <th>3</th>\n",
       "      <td>1</td>\n",
       "      <td>Citigroup even dispatched almost a dozen banke...</td>\n",
       "      <td>Citigroup</td>\n",
       "      <td>C</td>\n",
       "    </tr>\n",
       "    <tr>\n",
       "      <th>4</th>\n",
       "      <td>1</td>\n",
       "      <td>Heading into the financial crisis, Citigroup w...</td>\n",
       "      <td>Citigroup</td>\n",
       "      <td>C</td>\n",
       "    </tr>\n",
       "  </tbody>\n",
       "</table>\n",
       "</div>"
      ],
      "text/plain": [
       "   news_label                                           contents  \\\n",
       "0           0  InterContinental Hotels Group PLC (NYSE: IHG) ...   \n",
       "1           1  Citigroup Inc. wants a bigger piece of that de...   \n",
       "2           1  The bank is looking to drum up more business w...   \n",
       "3           1  Citigroup even dispatched almost a dozen banke...   \n",
       "4           1  Heading into the financial crisis, Citigroup w...   \n",
       "\n",
       "                                         entity_list ticker  \n",
       "0  InterContinental Hotels Group PLC, IHG Hotels ...    IHG  \n",
       "1                                     Citigroup Inc.      C  \n",
       "2                                          Citigroup      C  \n",
       "3                                          Citigroup      C  \n",
       "4                                          Citigroup      C  "
      ]
     },
     "execution_count": 62,
     "metadata": {},
     "output_type": "execute_result"
    }
   ],
   "source": [
    "ner_df.head(5)"
   ]
  },
  {
   "cell_type": "markdown",
   "id": "54fa379d",
   "metadata": {},
   "source": [
    "# 랜덤으로 데이터를 섞어서 fine-tuning을 위한 데이터셋 구성을 위해.."
   ]
  },
  {
   "cell_type": "code",
   "execution_count": 63,
   "id": "69b27c43",
   "metadata": {},
   "outputs": [],
   "source": [
    "ner_df=ner_df.sample(frac=1).reset_index(drop=True)"
   ]
  },
  {
   "cell_type": "code",
   "execution_count": 64,
   "id": "bea8ddf7",
   "metadata": {},
   "outputs": [
    {
     "data": {
      "text/html": [
       "<div>\n",
       "<style scoped>\n",
       "    .dataframe tbody tr th:only-of-type {\n",
       "        vertical-align: middle;\n",
       "    }\n",
       "\n",
       "    .dataframe tbody tr th {\n",
       "        vertical-align: top;\n",
       "    }\n",
       "\n",
       "    .dataframe thead th {\n",
       "        text-align: right;\n",
       "    }\n",
       "</style>\n",
       "<table border=\"1\" class=\"dataframe\">\n",
       "  <thead>\n",
       "    <tr style=\"text-align: right;\">\n",
       "      <th></th>\n",
       "      <th>news_label</th>\n",
       "      <th>contents</th>\n",
       "      <th>entity_list</th>\n",
       "      <th>ticker</th>\n",
       "    </tr>\n",
       "  </thead>\n",
       "  <tbody>\n",
       "    <tr>\n",
       "      <th>0</th>\n",
       "      <td>316</td>\n",
       "      <td>For instance, Generac has worked on finding se...</td>\n",
       "      <td>Generac</td>\n",
       "      <td>GNRC</td>\n",
       "    </tr>\n",
       "    <tr>\n",
       "      <th>1</th>\n",
       "      <td>432</td>\n",
       "      <td>Roblox generates revenue from sales of its vir...</td>\n",
       "      <td>Roblox</td>\n",
       "      <td>RBLX</td>\n",
       "    </tr>\n",
       "    <tr>\n",
       "      <th>2</th>\n",
       "      <td>46</td>\n",
       "      <td>After the closure of the deal, Musk is expecte...</td>\n",
       "      <td>Twitter, Reuters</td>\n",
       "      <td>TWTR</td>\n",
       "    </tr>\n",
       "    <tr>\n",
       "      <th>3</th>\n",
       "      <td>159</td>\n",
       "      <td>Tyson earned $2.29 per share, compared to a $1...</td>\n",
       "      <td>Tyson</td>\n",
       "      <td>TSN</td>\n",
       "    </tr>\n",
       "    <tr>\n",
       "      <th>4</th>\n",
       "      <td>267</td>\n",
       "      <td>If you then take into consideration next year,...</td>\n",
       "      <td>Netflix, Aston Martin’</td>\n",
       "      <td>NFLX</td>\n",
       "    </tr>\n",
       "  </tbody>\n",
       "</table>\n",
       "</div>"
      ],
      "text/plain": [
       "   news_label                                           contents  \\\n",
       "0         316  For instance, Generac has worked on finding se...   \n",
       "1         432  Roblox generates revenue from sales of its vir...   \n",
       "2          46  After the closure of the deal, Musk is expecte...   \n",
       "3         159  Tyson earned $2.29 per share, compared to a $1...   \n",
       "4         267  If you then take into consideration next year,...   \n",
       "\n",
       "              entity_list ticker  \n",
       "0                 Generac   GNRC  \n",
       "1                  Roblox   RBLX  \n",
       "2        Twitter, Reuters   TWTR  \n",
       "3                   Tyson    TSN  \n",
       "4  Netflix, Aston Martin’   NFLX  "
      ]
     },
     "execution_count": 64,
     "metadata": {},
     "output_type": "execute_result"
    }
   ],
   "source": [
    "ner_df.head(5)"
   ]
  },
  {
   "cell_type": "code",
   "execution_count": 74,
   "id": "07dc7328",
   "metadata": {},
   "outputs": [],
   "source": [
    "ner_df.to_csv('ticker_processing_05_06.csv',encoding='utf-8-sig')"
   ]
  },
  {
   "cell_type": "code",
   "execution_count": 83,
   "id": "99b43980",
   "metadata": {},
   "outputs": [],
   "source": [
    "# import pandas as pd\n",
    "\n",
    "# tt=pd.read_csv('ticker_processing_0623.csv')\n",
    "\n",
    "# tt=tt.dropna(subset=['ticker'],how='any').iloc[:,2:].reset_index(drop=True)"
   ]
  },
  {
   "cell_type": "markdown",
   "id": "cdfa941a",
   "metadata": {},
   "source": [
    "# papago 번역을 통한 데이터 라벨링 쉽게쉽게\n",
    "\n",
    "하지만.. 파파고 10000자 제한.. 못쓰겠당"
   ]
  },
  {
   "cell_type": "code",
   "execution_count": 65,
   "id": "27ca0323",
   "metadata": {},
   "outputs": [],
   "source": [
    "import requests\n",
    "\n",
    "def get_translate(text):\n",
    "    client_id = \"Client ID\" # 개발자센터에서 발급받은 Client ID 값\n",
    "    client_secret = \"Client_secret\" # <-- client_secret 기입\n",
    "\n",
    "    data = {'text' : text,\n",
    "            'source' : 'en',\n",
    "            'target': 'ko'}\n",
    "\n",
    "    url = \"https://openapi.naver.com/v1/papago/n2mt\"\n",
    "\n",
    "    header = {\"X-Naver-Client-Id\":client_id,\n",
    "              \"X-Naver-Client-Secret\":client_secret}\n",
    "\n",
    "    response = requests.post(url, headers=header, data=data)\n",
    "    rescode = response.status_code\n",
    "\n",
    "    if(rescode==200):\n",
    "        send_data = response.json()\n",
    "        trans_data = (send_data['message']['result']['translatedText'])\n",
    "        return trans_data\n",
    "    else:\n",
    "        print(\"Error Code:\" , rescode)\n"
   ]
  },
  {
   "cell_type": "code",
   "execution_count": 66,
   "id": "8ac4f1ab",
   "metadata": {},
   "outputs": [],
   "source": [
    "import pandas as pd\n",
    "new_ner=pd.read_csv('shuffle_ner_df.csv')"
   ]
  },
  {
   "cell_type": "code",
   "execution_count": 67,
   "id": "86d3e714",
   "metadata": {},
   "outputs": [
    {
     "name": "stdout",
     "output_type": "stream",
     "text": [
      "두 회사는 지난해 8월 아마존 문서를 토대로 로이터 조사 결과 미국 회사가 인도 법을 우회하는 데 사용한 클라우드테일 등 소수 판매업체에 수년간 특혜를 줬다는 사실이 드러나면서 2022년 5월 이후 파트너십을 연장하지 않겠다고 발표했다.\n",
      "-------------------------------------------------------------------------------------------------------------------------------------\n",
      "텍스트 내 ticker : AMZN\n",
      "-------------------------------------------------------------------------------------------------------------------------------------\n",
      "라벨을 입력하세요 : 0\n",
      "-------------------------------------------------------------------------------------------------------------------------------------\n",
      "0번째 텍스트 라벨은neutral입니다.\n",
      "!!!!!!!!!!!!!!!!!!!!!!!!!!!!!!!!!!!!!!!!!!!!!!!!!!!!!!!!!!!!!!!!!!!!!!!!!!!!!!!!!!!!!!!!!!!!!!!!!!!!!!!!!!!!!!!!!!!!!!!!!!!!!!!!!!!!!\n",
      "애플은 또한 내년에 더 큰 버전의 아이패드 프로를 출시할 계획이라고 블룸버그 통신이 보도했다.\n",
      "-------------------------------------------------------------------------------------------------------------------------------------\n",
      "텍스트 내 ticker : AAPL\n",
      "-------------------------------------------------------------------------------------------------------------------------------------\n",
      "라벨을 입력하세요 : 1\n",
      "-------------------------------------------------------------------------------------------------------------------------------------\n",
      "1번째 텍스트 라벨은positive입니다.\n",
      "!!!!!!!!!!!!!!!!!!!!!!!!!!!!!!!!!!!!!!!!!!!!!!!!!!!!!!!!!!!!!!!!!!!!!!!!!!!!!!!!!!!!!!!!!!!!!!!!!!!!!!!!!!!!!!!!!!!!!!!!!!!!!!!!!!!!!\n",
      "보스턴에 본사를 둔 스테이트 스트리트는 3일(현지시간) 이메일 성명을 통해 \"시장 루머에 대한 근거는 없다\"고 밝혔다.\n",
      "-------------------------------------------------------------------------------------------------------------------------------------\n",
      "텍스트 내 ticker : STT\n",
      "-------------------------------------------------------------------------------------------------------------------------------------\n"
     ]
    },
    {
     "ename": "KeyboardInterrupt",
     "evalue": "Interrupted by user",
     "output_type": "error",
     "traceback": [
      "\u001b[1;31m---------------------------------------------------------------------------\u001b[0m",
      "\u001b[1;31mKeyboardInterrupt\u001b[0m                         Traceback (most recent call last)",
      "Input \u001b[1;32mIn [67]\u001b[0m, in \u001b[0;36m<cell line: 4>\u001b[1;34m()\u001b[0m\n\u001b[0;32m      8\u001b[0m \u001b[38;5;28mprint\u001b[39m(\u001b[38;5;124m'\u001b[39m\u001b[38;5;124m텍스트 내 ticker : \u001b[39m\u001b[38;5;124m'\u001b[39m\u001b[38;5;241m+\u001b[39m new_ner\u001b[38;5;241m.\u001b[39mticker[count])\n\u001b[0;32m      9\u001b[0m \u001b[38;5;28mprint\u001b[39m(\u001b[38;5;124m'\u001b[39m\u001b[38;5;124m-------------------------------------------------------------------------------------------------------------------------------------\u001b[39m\u001b[38;5;124m'\u001b[39m)\n\u001b[1;32m---> 10\u001b[0m label_num\u001b[38;5;241m=\u001b[39m\u001b[38;5;28mstr\u001b[39m(\u001b[38;5;28;43minput\u001b[39;49m\u001b[43m(\u001b[49m\u001b[38;5;124;43m\"\u001b[39;49m\u001b[38;5;124;43m라벨을 입력하세요 : \u001b[39;49m\u001b[38;5;124;43m\"\u001b[39;49m\u001b[43m)\u001b[49m)\n\u001b[0;32m     11\u001b[0m label_text\u001b[38;5;241m=\u001b[39msentiment_dict[label_num]\n\u001b[0;32m     12\u001b[0m label_list\u001b[38;5;241m.\u001b[39mappend(label_text)\n",
      "File \u001b[1;32m~\\anaconda3\\lib\\site-packages\\ipykernel\\kernelbase.py:1075\u001b[0m, in \u001b[0;36mKernel.raw_input\u001b[1;34m(self, prompt)\u001b[0m\n\u001b[0;32m   1071\u001b[0m \u001b[38;5;28;01mif\u001b[39;00m \u001b[38;5;129;01mnot\u001b[39;00m \u001b[38;5;28mself\u001b[39m\u001b[38;5;241m.\u001b[39m_allow_stdin:\n\u001b[0;32m   1072\u001b[0m     \u001b[38;5;28;01mraise\u001b[39;00m StdinNotImplementedError(\n\u001b[0;32m   1073\u001b[0m         \u001b[38;5;124m\"\u001b[39m\u001b[38;5;124mraw_input was called, but this frontend does not support input requests.\u001b[39m\u001b[38;5;124m\"\u001b[39m\n\u001b[0;32m   1074\u001b[0m     )\n\u001b[1;32m-> 1075\u001b[0m \u001b[38;5;28;01mreturn\u001b[39;00m \u001b[38;5;28;43mself\u001b[39;49m\u001b[38;5;241;43m.\u001b[39;49m\u001b[43m_input_request\u001b[49m\u001b[43m(\u001b[49m\n\u001b[0;32m   1076\u001b[0m \u001b[43m    \u001b[49m\u001b[38;5;28;43mstr\u001b[39;49m\u001b[43m(\u001b[49m\u001b[43mprompt\u001b[49m\u001b[43m)\u001b[49m\u001b[43m,\u001b[49m\n\u001b[0;32m   1077\u001b[0m \u001b[43m    \u001b[49m\u001b[38;5;28;43mself\u001b[39;49m\u001b[38;5;241;43m.\u001b[39;49m\u001b[43m_parent_ident\u001b[49m\u001b[43m[\u001b[49m\u001b[38;5;124;43m\"\u001b[39;49m\u001b[38;5;124;43mshell\u001b[39;49m\u001b[38;5;124;43m\"\u001b[39;49m\u001b[43m]\u001b[49m\u001b[43m,\u001b[49m\n\u001b[0;32m   1078\u001b[0m \u001b[43m    \u001b[49m\u001b[38;5;28;43mself\u001b[39;49m\u001b[38;5;241;43m.\u001b[39;49m\u001b[43mget_parent\u001b[49m\u001b[43m(\u001b[49m\u001b[38;5;124;43m\"\u001b[39;49m\u001b[38;5;124;43mshell\u001b[39;49m\u001b[38;5;124;43m\"\u001b[39;49m\u001b[43m)\u001b[49m\u001b[43m,\u001b[49m\n\u001b[0;32m   1079\u001b[0m \u001b[43m    \u001b[49m\u001b[43mpassword\u001b[49m\u001b[38;5;241;43m=\u001b[39;49m\u001b[38;5;28;43;01mFalse\u001b[39;49;00m\u001b[43m,\u001b[49m\n\u001b[0;32m   1080\u001b[0m \u001b[43m\u001b[49m\u001b[43m)\u001b[49m\n",
      "File \u001b[1;32m~\\anaconda3\\lib\\site-packages\\ipykernel\\kernelbase.py:1120\u001b[0m, in \u001b[0;36mKernel._input_request\u001b[1;34m(self, prompt, ident, parent, password)\u001b[0m\n\u001b[0;32m   1117\u001b[0m             \u001b[38;5;28;01mbreak\u001b[39;00m\n\u001b[0;32m   1118\u001b[0m \u001b[38;5;28;01mexcept\u001b[39;00m \u001b[38;5;167;01mKeyboardInterrupt\u001b[39;00m:\n\u001b[0;32m   1119\u001b[0m     \u001b[38;5;66;03m# re-raise KeyboardInterrupt, to truncate traceback\u001b[39;00m\n\u001b[1;32m-> 1120\u001b[0m     \u001b[38;5;28;01mraise\u001b[39;00m \u001b[38;5;167;01mKeyboardInterrupt\u001b[39;00m(\u001b[38;5;124m\"\u001b[39m\u001b[38;5;124mInterrupted by user\u001b[39m\u001b[38;5;124m\"\u001b[39m) \u001b[38;5;28;01mfrom\u001b[39;00m \u001b[38;5;28mNone\u001b[39m\n\u001b[0;32m   1121\u001b[0m \u001b[38;5;28;01mexcept\u001b[39;00m \u001b[38;5;167;01mException\u001b[39;00m:\n\u001b[0;32m   1122\u001b[0m     \u001b[38;5;28mself\u001b[39m\u001b[38;5;241m.\u001b[39mlog\u001b[38;5;241m.\u001b[39mwarning(\u001b[38;5;124m\"\u001b[39m\u001b[38;5;124mInvalid Message:\u001b[39m\u001b[38;5;124m\"\u001b[39m, exc_info\u001b[38;5;241m=\u001b[39m\u001b[38;5;28;01mTrue\u001b[39;00m)\n",
      "\u001b[1;31mKeyboardInterrupt\u001b[0m: Interrupted by user"
     ]
    }
   ],
   "source": [
    "sentiment_dict={'0' : 'neutral','1' : 'positive', '2': 'negative'}\n",
    "label_list=[]\n",
    "count=0\n",
    "for text in new_ner.contents:\n",
    "    trans_text=get_translate(text)\n",
    "    print(trans_text)\n",
    "    print('-------------------------------------------------------------------------------------------------------------------------------------')\n",
    "    print('텍스트 내 ticker : '+ new_ner.ticker[count])\n",
    "    print('-------------------------------------------------------------------------------------------------------------------------------------')\n",
    "    label_num=str(input(\"라벨을 입력하세요 : \"))\n",
    "    label_text=sentiment_dict[label_num]\n",
    "    label_list.append(label_text)\n",
    "    print('-------------------------------------------------------------------------------------------------------------------------------------')\n",
    "    print(str(count)+'번째 텍스트 라벨은'+label_text+'입니다.')\n",
    "    count+=1\n",
    "    print('!!!!!!!!!!!!!!!!!!!!!!!!!!!!!!!!!!!!!!!!!!!!!!!!!!!!!!!!!!!!!!!!!!!!!!!!!!!!!!!!!!!!!!!!!!!!!!!!!!!!!!!!!!!!!!!!!!!!!!!!!!!!!!!!!!!!!')\n",
    "    \n",
    "    "
   ]
  },
  {
   "cell_type": "code",
   "execution_count": 68,
   "id": "d2f36791",
   "metadata": {},
   "outputs": [
    {
     "data": {
      "text/plain": [
       "['neutral', 'positive']"
      ]
     },
     "execution_count": 68,
     "metadata": {},
     "output_type": "execute_result"
    }
   ],
   "source": [
    "label_list"
   ]
  },
  {
   "cell_type": "code",
   "execution_count": null,
   "id": "4fd8f04f",
   "metadata": {},
   "outputs": [],
   "source": []
  }
 ],
 "metadata": {
  "kernelspec": {
   "display_name": "Python 3 (ipykernel)",
   "language": "python",
   "name": "python3"
  },
  "language_info": {
   "codemirror_mode": {
    "name": "ipython",
    "version": 3
   },
   "file_extension": ".py",
   "mimetype": "text/x-python",
   "name": "python",
   "nbconvert_exporter": "python",
   "pygments_lexer": "ipython3",
   "version": "3.9.12"
  }
 },
 "nbformat": 4,
 "nbformat_minor": 5
}
