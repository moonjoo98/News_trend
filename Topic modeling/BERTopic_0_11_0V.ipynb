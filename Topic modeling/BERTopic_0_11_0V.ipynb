{
  "nbformat": 4,
  "nbformat_minor": 0,
  "metadata": {
    "colab": {
      "name": "BERTopic_0.11.0V.ipynb",
      "provenance": [],
      "collapsed_sections": []
    },
    "kernelspec": {
      "name": "python3",
      "display_name": "Python 3"
    },
    "language_info": {
      "name": "python"
    },
    "accelerator": "GPU",
    "gpuClass": "standard"
  },
  "cells": [
    {
      "cell_type": "code",
      "source": [],
      "metadata": {
        "id": "qmWfsv2mwRGc"
      },
      "execution_count": null,
      "outputs": []
    },
    {
      "cell_type": "code",
      "source": [
        "!pip install bertopic\n",
        "import os\n",
        "from google.colab import drive\n",
        "from bertopic import BERTopic\n",
        "drive.mount('/content/drive/')"
      ],
      "metadata": {
        "id": "Y0o7kJRWwtBD",
        "colab": {
          "base_uri": "https://localhost:8080/"
        },
        "outputId": "96b7bf93-0724-4f52-bf63-10c4c2382d73"
      },
      "execution_count": 1,
      "outputs": [
        {
          "output_type": "stream",
          "name": "stdout",
          "text": [
            "Looking in indexes: https://pypi.org/simple, https://us-python.pkg.dev/colab-wheels/public/simple/\n",
            "Collecting bertopic\n",
            "  Downloading bertopic-0.11.0-py2.py3-none-any.whl (76 kB)\n",
            "\u001b[K     |████████████████████████████████| 76 kB 3.2 MB/s \n",
            "\u001b[?25hRequirement already satisfied: plotly>=4.7.0 in /usr/local/lib/python3.7/dist-packages (from bertopic) (5.5.0)\n",
            "Collecting pyyaml<6.0\n",
            "  Downloading PyYAML-5.4.1-cp37-cp37m-manylinux1_x86_64.whl (636 kB)\n",
            "\u001b[K     |████████████████████████████████| 636 kB 11.3 MB/s \n",
            "\u001b[?25hRequirement already satisfied: tqdm>=4.41.1 in /usr/local/lib/python3.7/dist-packages (from bertopic) (4.64.0)\n",
            "Collecting hdbscan>=0.8.28\n",
            "  Downloading hdbscan-0.8.28.tar.gz (5.2 MB)\n",
            "\u001b[K     |████████████████████████████████| 5.2 MB 59.5 MB/s \n",
            "\u001b[?25h  Installing build dependencies ... \u001b[?25l\u001b[?25hdone\n",
            "  Getting requirements to build wheel ... \u001b[?25l\u001b[?25hdone\n",
            "    Preparing wheel metadata ... \u001b[?25l\u001b[?25hdone\n",
            "Requirement already satisfied: pandas>=1.1.5 in /usr/local/lib/python3.7/dist-packages (from bertopic) (1.3.5)\n",
            "Requirement already satisfied: scikit-learn>=0.22.2.post1 in /usr/local/lib/python3.7/dist-packages (from bertopic) (1.0.2)\n",
            "Collecting sentence-transformers>=0.4.1\n",
            "  Downloading sentence-transformers-2.2.2.tar.gz (85 kB)\n",
            "\u001b[K     |████████████████████████████████| 85 kB 2.8 MB/s \n",
            "\u001b[?25hRequirement already satisfied: numpy>=1.20.0 in /usr/local/lib/python3.7/dist-packages (from bertopic) (1.21.6)\n",
            "Collecting umap-learn>=0.5.0\n",
            "  Downloading umap-learn-0.5.3.tar.gz (88 kB)\n",
            "\u001b[K     |████████████████████████████████| 88 kB 9.0 MB/s \n",
            "\u001b[?25hRequirement already satisfied: cython>=0.27 in /usr/local/lib/python3.7/dist-packages (from hdbscan>=0.8.28->bertopic) (0.29.32)\n",
            "Requirement already satisfied: scipy>=1.0 in /usr/local/lib/python3.7/dist-packages (from hdbscan>=0.8.28->bertopic) (1.7.3)\n",
            "Requirement already satisfied: joblib>=1.0 in /usr/local/lib/python3.7/dist-packages (from hdbscan>=0.8.28->bertopic) (1.1.0)\n",
            "Requirement already satisfied: pytz>=2017.3 in /usr/local/lib/python3.7/dist-packages (from pandas>=1.1.5->bertopic) (2022.2.1)\n",
            "Requirement already satisfied: python-dateutil>=2.7.3 in /usr/local/lib/python3.7/dist-packages (from pandas>=1.1.5->bertopic) (2.8.2)\n",
            "Requirement already satisfied: tenacity>=6.2.0 in /usr/local/lib/python3.7/dist-packages (from plotly>=4.7.0->bertopic) (8.0.1)\n",
            "Requirement already satisfied: six in /usr/local/lib/python3.7/dist-packages (from plotly>=4.7.0->bertopic) (1.15.0)\n",
            "Requirement already satisfied: threadpoolctl>=2.0.0 in /usr/local/lib/python3.7/dist-packages (from scikit-learn>=0.22.2.post1->bertopic) (3.1.0)\n",
            "Collecting transformers<5.0.0,>=4.6.0\n",
            "  Downloading transformers-4.21.2-py3-none-any.whl (4.7 MB)\n",
            "\u001b[K     |████████████████████████████████| 4.7 MB 37.5 MB/s \n",
            "\u001b[?25hRequirement already satisfied: torch>=1.6.0 in /usr/local/lib/python3.7/dist-packages (from sentence-transformers>=0.4.1->bertopic) (1.12.1+cu113)\n",
            "Requirement already satisfied: torchvision in /usr/local/lib/python3.7/dist-packages (from sentence-transformers>=0.4.1->bertopic) (0.13.1+cu113)\n",
            "Requirement already satisfied: nltk in /usr/local/lib/python3.7/dist-packages (from sentence-transformers>=0.4.1->bertopic) (3.7)\n",
            "Collecting sentencepiece\n",
            "  Downloading sentencepiece-0.1.97-cp37-cp37m-manylinux_2_17_x86_64.manylinux2014_x86_64.whl (1.3 MB)\n",
            "\u001b[K     |████████████████████████████████| 1.3 MB 57.4 MB/s \n",
            "\u001b[?25hCollecting huggingface-hub>=0.4.0\n",
            "  Downloading huggingface_hub-0.9.1-py3-none-any.whl (120 kB)\n",
            "\u001b[K     |████████████████████████████████| 120 kB 61.5 MB/s \n",
            "\u001b[?25hRequirement already satisfied: filelock in /usr/local/lib/python3.7/dist-packages (from huggingface-hub>=0.4.0->sentence-transformers>=0.4.1->bertopic) (3.8.0)\n",
            "Requirement already satisfied: importlib-metadata in /usr/local/lib/python3.7/dist-packages (from huggingface-hub>=0.4.0->sentence-transformers>=0.4.1->bertopic) (4.12.0)\n",
            "Requirement already satisfied: typing-extensions>=3.7.4.3 in /usr/local/lib/python3.7/dist-packages (from huggingface-hub>=0.4.0->sentence-transformers>=0.4.1->bertopic) (4.1.1)\n",
            "Requirement already satisfied: packaging>=20.9 in /usr/local/lib/python3.7/dist-packages (from huggingface-hub>=0.4.0->sentence-transformers>=0.4.1->bertopic) (21.3)\n",
            "Requirement already satisfied: requests in /usr/local/lib/python3.7/dist-packages (from huggingface-hub>=0.4.0->sentence-transformers>=0.4.1->bertopic) (2.23.0)\n",
            "Requirement already satisfied: pyparsing!=3.0.5,>=2.0.2 in /usr/local/lib/python3.7/dist-packages (from packaging>=20.9->huggingface-hub>=0.4.0->sentence-transformers>=0.4.1->bertopic) (3.0.9)\n",
            "Requirement already satisfied: regex!=2019.12.17 in /usr/local/lib/python3.7/dist-packages (from transformers<5.0.0,>=4.6.0->sentence-transformers>=0.4.1->bertopic) (2022.6.2)\n",
            "Collecting tokenizers!=0.11.3,<0.13,>=0.11.1\n",
            "  Downloading tokenizers-0.12.1-cp37-cp37m-manylinux_2_12_x86_64.manylinux2010_x86_64.whl (6.6 MB)\n",
            "\u001b[K     |████████████████████████████████| 6.6 MB 46.6 MB/s \n",
            "\u001b[?25hRequirement already satisfied: numba>=0.49 in /usr/local/lib/python3.7/dist-packages (from umap-learn>=0.5.0->bertopic) (0.56.0)\n",
            "Collecting pynndescent>=0.5\n",
            "  Downloading pynndescent-0.5.7.tar.gz (1.1 MB)\n",
            "\u001b[K     |████████████████████████████████| 1.1 MB 63.0 MB/s \n",
            "\u001b[?25hRequirement already satisfied: llvmlite<0.40,>=0.39.0dev0 in /usr/local/lib/python3.7/dist-packages (from numba>=0.49->umap-learn>=0.5.0->bertopic) (0.39.0)\n",
            "Requirement already satisfied: setuptools in /usr/local/lib/python3.7/dist-packages (from numba>=0.49->umap-learn>=0.5.0->bertopic) (57.4.0)\n",
            "Requirement already satisfied: zipp>=0.5 in /usr/local/lib/python3.7/dist-packages (from importlib-metadata->huggingface-hub>=0.4.0->sentence-transformers>=0.4.1->bertopic) (3.8.1)\n",
            "Requirement already satisfied: click in /usr/local/lib/python3.7/dist-packages (from nltk->sentence-transformers>=0.4.1->bertopic) (7.1.2)\n",
            "Requirement already satisfied: certifi>=2017.4.17 in /usr/local/lib/python3.7/dist-packages (from requests->huggingface-hub>=0.4.0->sentence-transformers>=0.4.1->bertopic) (2022.6.15)\n",
            "Requirement already satisfied: idna<3,>=2.5 in /usr/local/lib/python3.7/dist-packages (from requests->huggingface-hub>=0.4.0->sentence-transformers>=0.4.1->bertopic) (2.10)\n",
            "Requirement already satisfied: urllib3!=1.25.0,!=1.25.1,<1.26,>=1.21.1 in /usr/local/lib/python3.7/dist-packages (from requests->huggingface-hub>=0.4.0->sentence-transformers>=0.4.1->bertopic) (1.24.3)\n",
            "Requirement already satisfied: chardet<4,>=3.0.2 in /usr/local/lib/python3.7/dist-packages (from requests->huggingface-hub>=0.4.0->sentence-transformers>=0.4.1->bertopic) (3.0.4)\n",
            "Requirement already satisfied: pillow!=8.3.*,>=5.3.0 in /usr/local/lib/python3.7/dist-packages (from torchvision->sentence-transformers>=0.4.1->bertopic) (7.1.2)\n",
            "Building wheels for collected packages: hdbscan, sentence-transformers, umap-learn, pynndescent\n",
            "  Building wheel for hdbscan (PEP 517) ... \u001b[?25l\u001b[?25hdone\n",
            "  Created wheel for hdbscan: filename=hdbscan-0.8.28-cp37-cp37m-linux_x86_64.whl size=2340298 sha256=550f014eebddbc56edb220d354185ab3510dbf58fd3677a916c6481dad4d4b6a\n",
            "  Stored in directory: /root/.cache/pip/wheels/6e/7a/5e/259ccc841c085fc41b99ef4a71e896b62f5161f2bc8a14c97a\n",
            "  Building wheel for sentence-transformers (setup.py) ... \u001b[?25l\u001b[?25hdone\n",
            "  Created wheel for sentence-transformers: filename=sentence_transformers-2.2.2-py3-none-any.whl size=125938 sha256=47ee1c93894d8ad36bd73207a9bf6dd902fb7a3f6e75b3d18fd3db07b97ab705\n",
            "  Stored in directory: /root/.cache/pip/wheels/bf/06/fb/d59c1e5bd1dac7f6cf61ec0036cc3a10ab8fecaa6b2c3d3ee9\n",
            "  Building wheel for umap-learn (setup.py) ... \u001b[?25l\u001b[?25hdone\n",
            "  Created wheel for umap-learn: filename=umap_learn-0.5.3-py3-none-any.whl size=82829 sha256=1a80d75932b54910d84da1b5f4e39b2f93f5b9e88df29bdaddf169dfa2653c3b\n",
            "  Stored in directory: /root/.cache/pip/wheels/b3/52/a5/1fd9e3e76a7ab34f134c07469cd6f16e27ef3a37aeff1fe821\n",
            "  Building wheel for pynndescent (setup.py) ... \u001b[?25l\u001b[?25hdone\n",
            "  Created wheel for pynndescent: filename=pynndescent-0.5.7-py3-none-any.whl size=54286 sha256=5522701f719c8c870f0747626a2b791f9533f4c87c3c6a35dc5226abd39d99ea\n",
            "  Stored in directory: /root/.cache/pip/wheels/7f/2a/f8/7bd5dcec71bd5c669f6f574db3113513696b98f3f9b51f496c\n",
            "Successfully built hdbscan sentence-transformers umap-learn pynndescent\n",
            "Installing collected packages: pyyaml, tokenizers, huggingface-hub, transformers, sentencepiece, pynndescent, umap-learn, sentence-transformers, hdbscan, bertopic\n",
            "  Attempting uninstall: pyyaml\n",
            "    Found existing installation: PyYAML 6.0\n",
            "    Uninstalling PyYAML-6.0:\n",
            "      Successfully uninstalled PyYAML-6.0\n",
            "Successfully installed bertopic-0.11.0 hdbscan-0.8.28 huggingface-hub-0.9.1 pynndescent-0.5.7 pyyaml-5.4.1 sentence-transformers-2.2.2 sentencepiece-0.1.97 tokenizers-0.12.1 transformers-4.21.2 umap-learn-0.5.3\n",
            "Drive already mounted at /content/drive/; to attempt to forcibly remount, call drive.mount(\"/content/drive/\", force_remount=True).\n"
          ]
        }
      ]
    },
    {
      "cell_type": "code",
      "source": [
        "cd /content/drive/MyDrive"
      ],
      "metadata": {
        "id": "Ei09euNTbHmE",
        "colab": {
          "base_uri": "https://localhost:8080/"
        },
        "outputId": "a49118a2-da58-4757-d5b4-a1ffdee990b3"
      },
      "execution_count": 2,
      "outputs": [
        {
          "output_type": "stream",
          "name": "stdout",
          "text": [
            "/content/drive/MyDrive\n"
          ]
        }
      ]
    },
    {
      "cell_type": "code",
      "source": [
        "\n",
        "#전처리 패키지\n",
        "import pandas as pd\n",
        "import numpy as np\n",
        "from datetime import datetime\n",
        "import re\n",
        "from nltk.corpus import stopwords\n",
        "from sklearn.feature_extraction._stop_words import ENGLISH_STOP_WORDS\n",
        "import spacy\n",
        "import string\n",
        "\n",
        "#토픽 모델링 패키지\n",
        "from bertopic import BERTopic\n",
        "import tensorflow_hub\n",
        "from umap import UMAP\n",
        "import hdbscan\n",
        "import sklearn\n",
        "from sklearn.feature_extraction.text import CountVectorizer, TfidfVectorizer\n",
        "\n",
        "#그 외\n",
        "import warnings\n"
      ],
      "metadata": {
        "id": "FoIfoaCtxmBD"
      },
      "execution_count": 3,
      "outputs": []
    },
    {
      "cell_type": "code",
      "source": [
        "#MyDrive data경로에 뉴스 파일을 업로드 해줘야함\n",
        "cnbc=pd.read_csv('./data/US_topics_tagged.csv')"
      ],
      "metadata": {
        "id": "gMO3nQiNx_Qx"
      },
      "execution_count": 4,
      "outputs": []
    },
    {
      "cell_type": "code",
      "source": [
        "#중복제거 후 데이터 생성\n",
        "#BERTopic의 경우 텍스트 전처리를 사전에 진행하는 것보다 후에 처리하는 것이 더 좋은 결과를 뽑아낼 수 있습니다.\n",
        "\n",
        "filter_cnbc=cnbc.drop_duplicates(['date','contents'],keep='first') # 중복 제거 \n",
        "\n",
        "filter_cnbc['date']=filter_cnbc.date.astype(str) \n",
        "filter_cnbc['date']=filter_cnbc['date'].apply(lambda x : x[:8]) \n",
        "filter_cnbc['date']=pd.to_datetime(filter_cnbc['date']) #datetime 변환\n",
        "\n",
        "filter_cnbc[filter_cnbc['contents']=='nan'] = np.nan\n",
        "filter_cnbc.dropna(subset=['contents'],how='any',axis=0,inplace=True) #결측치 제거\n",
        "\n",
        "#filter_cnbc.contents=filter_cnbc.contents.apply(lambda x : text_preprocessing(x))    \n",
        "\n",
        "week_cnbc=filter_cnbc[filter_cnbc.date.between('2022-08-18','2022-08-29')].sort_values('date') #원하는 날짜 조정 (주간 단위)\n",
        "week_CNBC=week_cnbc.reset_index(drop=True)\n",
        "\n"
      ],
      "metadata": {
        "id": "MSE0vtXHyo10"
      },
      "execution_count": 5,
      "outputs": []
    },
    {
      "cell_type": "code",
      "source": [
        "#뉴스 문서 테마 라벨링을 위한 sub_news data생성\n",
        "cnbc['date']=cnbc.date.astype(str) \n",
        "cnbc['date']=cnbc['date'].apply(lambda x : x[:8]) \n",
        "cnbc['date']=pd.to_datetime(cnbc['date']) #datetime 변환\n",
        "\n",
        "cnbc[cnbc['contents']=='nan'] = np.nan\n",
        "cnbc.dropna(subset=['contents'],how='any',axis=0,inplace=True) #결측치 제거\n",
        "\n",
        "#cnbc.contents=cnbc.contents.apply(lambda x : text_preprocessing(x))   \n",
        "\n",
        "all_week_cnbc=cnbc[cnbc.date.between('2022-08-18','2022-08-29')].sort_values('date') #원하는 날짜 조정 (주간 단위)\n",
        "all_week_cnbc=all_week_cnbc.reset_index(drop=True)\n",
        "\n"
      ],
      "metadata": {
        "id": "7bOUJQMO_9hF"
      },
      "execution_count": 6,
      "outputs": []
    },
    {
      "cell_type": "code",
      "source": [
        "#형태소 분석 모델 다운로드\n",
        "!python -m spacy download en_core_web_lg\n",
        "#!python -m spacy download en_core_web_trf"
      ],
      "metadata": {
        "id": "uez-d7OUQzKq",
        "colab": {
          "base_uri": "https://localhost:8080/"
        },
        "outputId": "0cd7e7f4-8230-415f-9673-24c8b882522b"
      },
      "execution_count": 7,
      "outputs": [
        {
          "output_type": "stream",
          "name": "stdout",
          "text": [
            "Looking in indexes: https://pypi.org/simple, https://us-python.pkg.dev/colab-wheels/public/simple/\n",
            "Collecting en-core-web-lg==3.4.0\n",
            "  Downloading https://github.com/explosion/spacy-models/releases/download/en_core_web_lg-3.4.0/en_core_web_lg-3.4.0-py3-none-any.whl (587.7 MB)\n",
            "\u001b[K     |████████████████████████████████| 587.7 MB 9.8 kB/s \n",
            "\u001b[?25hRequirement already satisfied: spacy<3.5.0,>=3.4.0 in /usr/local/lib/python3.7/dist-packages (from en-core-web-lg==3.4.0) (3.4.1)\n",
            "Requirement already satisfied: murmurhash<1.1.0,>=0.28.0 in /usr/local/lib/python3.7/dist-packages (from spacy<3.5.0,>=3.4.0->en-core-web-lg==3.4.0) (1.0.8)\n",
            "Requirement already satisfied: setuptools in /usr/local/lib/python3.7/dist-packages (from spacy<3.5.0,>=3.4.0->en-core-web-lg==3.4.0) (57.4.0)\n",
            "Requirement already satisfied: requests<3.0.0,>=2.13.0 in /usr/local/lib/python3.7/dist-packages (from spacy<3.5.0,>=3.4.0->en-core-web-lg==3.4.0) (2.23.0)\n",
            "Requirement already satisfied: tqdm<5.0.0,>=4.38.0 in /usr/local/lib/python3.7/dist-packages (from spacy<3.5.0,>=3.4.0->en-core-web-lg==3.4.0) (4.64.0)\n",
            "Requirement already satisfied: numpy>=1.15.0 in /usr/local/lib/python3.7/dist-packages (from spacy<3.5.0,>=3.4.0->en-core-web-lg==3.4.0) (1.21.6)\n",
            "Requirement already satisfied: jinja2 in /usr/local/lib/python3.7/dist-packages (from spacy<3.5.0,>=3.4.0->en-core-web-lg==3.4.0) (2.11.3)\n",
            "Requirement already satisfied: typing-extensions<4.2.0,>=3.7.4 in /usr/local/lib/python3.7/dist-packages (from spacy<3.5.0,>=3.4.0->en-core-web-lg==3.4.0) (4.1.1)\n",
            "Requirement already satisfied: pathy>=0.3.5 in /usr/local/lib/python3.7/dist-packages (from spacy<3.5.0,>=3.4.0->en-core-web-lg==3.4.0) (0.6.2)\n",
            "Requirement already satisfied: wasabi<1.1.0,>=0.9.1 in /usr/local/lib/python3.7/dist-packages (from spacy<3.5.0,>=3.4.0->en-core-web-lg==3.4.0) (0.10.1)\n",
            "Requirement already satisfied: pydantic!=1.8,!=1.8.1,<1.10.0,>=1.7.4 in /usr/local/lib/python3.7/dist-packages (from spacy<3.5.0,>=3.4.0->en-core-web-lg==3.4.0) (1.9.2)\n",
            "Requirement already satisfied: typer<0.5.0,>=0.3.0 in /usr/local/lib/python3.7/dist-packages (from spacy<3.5.0,>=3.4.0->en-core-web-lg==3.4.0) (0.4.2)\n",
            "Requirement already satisfied: thinc<8.2.0,>=8.1.0 in /usr/local/lib/python3.7/dist-packages (from spacy<3.5.0,>=3.4.0->en-core-web-lg==3.4.0) (8.1.0)\n",
            "Requirement already satisfied: cymem<2.1.0,>=2.0.2 in /usr/local/lib/python3.7/dist-packages (from spacy<3.5.0,>=3.4.0->en-core-web-lg==3.4.0) (2.0.6)\n",
            "Requirement already satisfied: spacy-legacy<3.1.0,>=3.0.9 in /usr/local/lib/python3.7/dist-packages (from spacy<3.5.0,>=3.4.0->en-core-web-lg==3.4.0) (3.0.10)\n",
            "Requirement already satisfied: packaging>=20.0 in /usr/local/lib/python3.7/dist-packages (from spacy<3.5.0,>=3.4.0->en-core-web-lg==3.4.0) (21.3)\n",
            "Requirement already satisfied: langcodes<4.0.0,>=3.2.0 in /usr/local/lib/python3.7/dist-packages (from spacy<3.5.0,>=3.4.0->en-core-web-lg==3.4.0) (3.3.0)\n",
            "Requirement already satisfied: spacy-loggers<2.0.0,>=1.0.0 in /usr/local/lib/python3.7/dist-packages (from spacy<3.5.0,>=3.4.0->en-core-web-lg==3.4.0) (1.0.3)\n",
            "Requirement already satisfied: catalogue<2.1.0,>=2.0.6 in /usr/local/lib/python3.7/dist-packages (from spacy<3.5.0,>=3.4.0->en-core-web-lg==3.4.0) (2.0.8)\n",
            "Requirement already satisfied: preshed<3.1.0,>=3.0.2 in /usr/local/lib/python3.7/dist-packages (from spacy<3.5.0,>=3.4.0->en-core-web-lg==3.4.0) (3.0.7)\n",
            "Requirement already satisfied: srsly<3.0.0,>=2.4.3 in /usr/local/lib/python3.7/dist-packages (from spacy<3.5.0,>=3.4.0->en-core-web-lg==3.4.0) (2.4.4)\n",
            "Requirement already satisfied: zipp>=0.5 in /usr/local/lib/python3.7/dist-packages (from catalogue<2.1.0,>=2.0.6->spacy<3.5.0,>=3.4.0->en-core-web-lg==3.4.0) (3.8.1)\n",
            "Requirement already satisfied: pyparsing!=3.0.5,>=2.0.2 in /usr/local/lib/python3.7/dist-packages (from packaging>=20.0->spacy<3.5.0,>=3.4.0->en-core-web-lg==3.4.0) (3.0.9)\n",
            "Requirement already satisfied: smart-open<6.0.0,>=5.2.1 in /usr/local/lib/python3.7/dist-packages (from pathy>=0.3.5->spacy<3.5.0,>=3.4.0->en-core-web-lg==3.4.0) (5.2.1)\n",
            "Requirement already satisfied: idna<3,>=2.5 in /usr/local/lib/python3.7/dist-packages (from requests<3.0.0,>=2.13.0->spacy<3.5.0,>=3.4.0->en-core-web-lg==3.4.0) (2.10)\n",
            "Requirement already satisfied: chardet<4,>=3.0.2 in /usr/local/lib/python3.7/dist-packages (from requests<3.0.0,>=2.13.0->spacy<3.5.0,>=3.4.0->en-core-web-lg==3.4.0) (3.0.4)\n",
            "Requirement already satisfied: certifi>=2017.4.17 in /usr/local/lib/python3.7/dist-packages (from requests<3.0.0,>=2.13.0->spacy<3.5.0,>=3.4.0->en-core-web-lg==3.4.0) (2022.6.15)\n",
            "Requirement already satisfied: urllib3!=1.25.0,!=1.25.1,<1.26,>=1.21.1 in /usr/local/lib/python3.7/dist-packages (from requests<3.0.0,>=2.13.0->spacy<3.5.0,>=3.4.0->en-core-web-lg==3.4.0) (1.24.3)\n",
            "Requirement already satisfied: blis<0.8.0,>=0.7.8 in /usr/local/lib/python3.7/dist-packages (from thinc<8.2.0,>=8.1.0->spacy<3.5.0,>=3.4.0->en-core-web-lg==3.4.0) (0.7.8)\n",
            "Requirement already satisfied: click<9.0.0,>=7.1.1 in /usr/local/lib/python3.7/dist-packages (from typer<0.5.0,>=0.3.0->spacy<3.5.0,>=3.4.0->en-core-web-lg==3.4.0) (7.1.2)\n",
            "Requirement already satisfied: MarkupSafe>=0.23 in /usr/local/lib/python3.7/dist-packages (from jinja2->spacy<3.5.0,>=3.4.0->en-core-web-lg==3.4.0) (2.0.1)\n",
            "Installing collected packages: en-core-web-lg\n",
            "Successfully installed en-core-web-lg-3.4.0\n",
            "\u001b[38;5;2m✔ Download and installation successful\u001b[0m\n",
            "You can now load the package via spacy.load('en_core_web_lg')\n"
          ]
        }
      ]
    },
    {
      "cell_type": "code",
      "source": [
        "#형태소 분석 모델 정의 (spacy)\n",
        "nlp = spacy.load(\"en_core_web_lg\")#trf 모델로 변경가능\n",
        "spacy_stopwords_list = list(nlp.Defaults.stop_words)\n",
        "nlp.max_length = 40000000\n",
        "\n",
        "nlp.get_pipe('attribute_ruler').add([[{\"TEXT\":\"Russias\"}]],{\"LEMMA\":\"Russia\"}) #굳이 안써도 됨.\n",
        "nlp.get_pipe('attribute_ruler').add([[{\"TEXT\":\"Ukraines\"}]],{\"LEMMA\":\"Ukraine\"})\n",
        "nlp.get_pipe('attribute_ruler').add([[{\"TEXT\":\"Russians\"}]],{\"LEMMA\":\"Russian\"})\n",
        "nlp.get_pipe('attribute_ruler').add([[{\"TEXT\":\"Ukrainians\"}]],{\"LEMMA\":\"Ukrainian\"})\n",
        "\n",
        "#추가 불용어리스트 정의하고자 하면 사용\n",
        "stop_words_list=[\"year\",\"u\",\"cnbc\",\"cnbcs\",\"investor\",\"s\",\"t\",\"p\",\"m\",\"c\",\"k\",\"cramer\",\"cramers\",\"jim\",\"inc\",\"q\",\"fy\",\"b\",\"yahoo\",\"bloomberg\"]\n",
        "for word in stop_words_list:\n",
        "    spacy_stopwords_list.append(word)"
      ],
      "metadata": {
        "id": "k_oEpJ1TQveZ"
      },
      "execution_count": 10,
      "outputs": []
    },
    {
      "cell_type": "code",
      "source": [
        "#처음 토픽을 찾을 때 활용하긴 적합하지 않고 토픽을 뽑아낸 후 한번더 거르고 싶을 때 사용하는 것이 좋음\n",
        "seed_topic_list=[['earning','report','share'], ['twitter','subponae','whistleblower'],\n",
        "              ['covid-19','astrazeneca','fda'], ['oil','berkshire','occidental'],\n",
        "              ['union','starbucks','ge'],['amazon','signify','healthcare','medical'],['ad','apple','meta'],['abortion','walmart','travel']]"
      ],
      "metadata": {
        "id": "AXzGOiurna0t"
      },
      "execution_count": 11,
      "outputs": []
    },
    {
      "cell_type": "code",
      "source": [
        "#vectorizer_model = CountVectorizer(stop_words=stopwords) \n",
        "#vectorizer_model = TfidfVectorizer(max_df=0.9)# countvectorizer과 선택해서 사용\n",
        "\n",
        "umap_model = UMAP(n_neighbors=10, min_dist=0.1, n_components=4,random_state=42,metric='cosine') #umap_model 정의 \n",
        "hdbscan_model=hdbscan.HDBSCAN(min_cluster_size=4, metric='euclidean',cluster_selection_method='eom', prediction_data=True)#hdbscan_model 정의\n",
        "\n",
        "embedding_model = tensorflow_hub.load(\"https://tfhub.dev/google/universal-sentence-encoder/4\")\n",
        "# nr_topics ='auto' auto 제거시 더 많은 토픽을 볼 수 있음 (auto시 자동으로 유사도가 높은 토픽끼리 합침)\n",
        "topic_model = BERTopic(verbose=True, embedding_model=embedding_model,top_n_words=15,min_topic_size=5,umap_model=umap_model,hdbscan_model=hdbscan_model,seed_topic_list=seed_topic_list)\n",
        "#데이터 좀 많을 떄 min_topic_size=10 , min_cluster_Size=6 등으로 조절"
      ],
      "metadata": {
        "id": "_0gOOCEqQxhA"
      },
      "execution_count": 12,
      "outputs": []
    },
    {
      "cell_type": "code",
      "source": [
        "# False로 할시 속도 향상\n",
        "topic_model.calculate_probabilities = True  "
      ],
      "metadata": {
        "id": "3umNBLYxSN51"
      },
      "execution_count": 13,
      "outputs": []
    },
    {
      "cell_type": "code",
      "source": [
        "topics, probabillities= topic_model.fit_transform(week_CNBC.contents)"
      ],
      "metadata": {
        "id": "cKbANHA3SUkT",
        "colab": {
          "base_uri": "https://localhost:8080/"
        },
        "outputId": "96f47b01-4443-47d1-ac25-828134390aeb"
      },
      "execution_count": 14,
      "outputs": [
        {
          "output_type": "stream",
          "name": "stderr",
          "text": [
            "\r  0%|          | 0/489 [00:00<?, ?it/s]WARNING:tensorflow:From /usr/local/lib/python3.7/dist-packages/bertopic/backend/_use.py:53: _EagerTensorBase.cpu (from tensorflow.python.framework.ops) is deprecated and will be removed in a future version.\n",
            "Instructions for updating:\n",
            "Use tf.identity instead.\n",
            "100%|██████████| 489/489 [00:03<00:00, 133.94it/s]\n",
            "2022-08-30 06:56:14,799 - BERTopic - Transformed documents to Embeddings\n",
            "100%|██████████| 8/8 [00:00<00:00, 177.95it/s]\n",
            "2022-08-30 06:56:22,907 - BERTopic - Reduced dimensionality\n",
            "2022-08-30 06:56:22,982 - BERTopic - Clustered reduced embeddings\n"
          ]
        }
      ]
    },
    {
      "cell_type": "code",
      "source": [
        "#(spacy) tag_ N으로 시작하고 정의한 불용어 사전에 포함되지 않고 entity에서 TIME, CARDINAL, DATE, PERSON은 제거 \n",
        "#그리고 소문자로 변환해서 조건을 만족하는 값만 반환\n",
        "#output을 뽑아낸 topics 변수에서 사후 텍스트 전처리 진행 \n",
        "def tokenizer(text):\n",
        "    words=[]\n",
        "    doc=nlp(text)\n",
        "    for token in doc:\n",
        "        if token.tag_[0] in ['N','V'] and token.lemma_.lower() not in ENGLISH_STOP_WORDS and token.ent_type_ not in ['TIME','CARDINAL','DATE','PERSON']:\n",
        "                if len(token.lemma_.lower())>1:\n",
        "                    words.append(token.lemma_.lower())\n",
        "                \n",
        "    return words\n"
      ],
      "metadata": {
        "id": "OSWnxY20SVaI"
      },
      "execution_count": 15,
      "outputs": []
    },
    {
      "cell_type": "code",
      "source": [
        "vectorizer_model = TfidfVectorizer(tokenizer=tokenizer,stop_words=\"english\", ngram_range=(1, 2),min_df=2)\n",
        "topic_model.update_topics(week_CNBC.contents, topics, vectorizer_model=vectorizer_model)#위에서 정의한 사용자 정의 tokenzier를 활용해 불용어 제거"
      ],
      "metadata": {
        "id": "62KemPbjSXYT"
      },
      "execution_count": 17,
      "outputs": []
    },
    {
      "cell_type": "markdown",
      "source": [],
      "metadata": {
        "id": "5Txh6PI0DGgt"
      }
    },
    {
      "cell_type": "code",
      "source": [
        "topic_model.get_topic_info() #전체 정보"
      ],
      "metadata": {
        "id": "v80hvKIJSas0",
        "colab": {
          "base_uri": "https://localhost:8080/",
          "height": 1000
        },
        "outputId": "a8797697-54e2-45a6-8dff-f9fb60b0f60a"
      },
      "execution_count": 18,
      "outputs": [
        {
          "output_type": "execute_result",
          "data": {
            "text/plain": [
              "    Topic  Count                                            Name\n",
              "0      -1     93                         -1_say_auction_card_sap\n",
              "1       0     44                    0_earning_share_revenue_zoom\n",
              "2       1     28                  1_vehicle_tesla_tax credit_car\n",
              "3       2     21                       2_inflation_rate_wage_fed\n",
              "4       3     20                  3_vaccine_virus_monkeypox_dose\n",
              "5       4     19             4_alibaba_china_singapore_pinduoduo\n",
              "6       5     18                     5_taiwan_apple_china_iphone\n",
              "7       6     16               6_berkshire_occidental_buyback_gm\n",
              "8       7     15                    7_streaming_hbo_sport_amazon\n",
              "9       8     15                     8_ukraine_russia_plant_iran\n",
              "10      9     14                         9_yandex_dubai_vk_beach\n",
              "11     10     13                         10_reit_estate_fund_etf\n",
              "12     11     13                      11_bed bath_bath_bed_cohen\n",
              "13     12     12                     12_gas_energy_germany_truss\n",
              "14     13     12                      13_amc_ape_cineworld_share\n",
              "15     14     12        14_consensus_margin_margin contract_fy22\n",
              "16     15     12           15_culver_mcdonald_foot locker_locker\n",
              "17     16     10                   16_abortion_union_google_pill\n",
              "18     17      9    17_maintain_date action_analyst_price target\n",
              "19     18      9                 18_affidavit_trump_raid_warrant\n",
              "20     19      9                    19_home_rate_home price_rent\n",
              "21     20      7                 20_campaign_donor_trump_primary\n",
              "22     21      7              21_pakistan_election_police_speech\n",
              "23     22      7  22_telecoms_hungary_telecommunication_business\n",
              "24     23      6                        23_cross_bank_river_loan\n",
              "25     24      6              24_venezuela_enbridge_oil_michigan\n",
              "26     25      6         25_twitter_zatko_whistleblower_security\n",
              "27     26      6                 26_china_temperature_drought_xi\n",
              "28     27      6                 27_oil_rouble_petrochina_future\n",
              "29     28      5                 28_musk_twitter_subpoena_dorsey\n",
              "30     29      5            29_signify_amazon_health_home health\n",
              "31     30      5                        30_ad_apple_app_snapchat\n",
              "32     31      5                31_port_airline_container_flight\n",
              "33     32      4                 32_plaintiff_ford_verdict_truck"
            ],
            "text/html": [
              "\n",
              "  <div id=\"df-2d519725-ea5d-4702-80fe-7c46f078a3cf\">\n",
              "    <div class=\"colab-df-container\">\n",
              "      <div>\n",
              "<style scoped>\n",
              "    .dataframe tbody tr th:only-of-type {\n",
              "        vertical-align: middle;\n",
              "    }\n",
              "\n",
              "    .dataframe tbody tr th {\n",
              "        vertical-align: top;\n",
              "    }\n",
              "\n",
              "    .dataframe thead th {\n",
              "        text-align: right;\n",
              "    }\n",
              "</style>\n",
              "<table border=\"1\" class=\"dataframe\">\n",
              "  <thead>\n",
              "    <tr style=\"text-align: right;\">\n",
              "      <th></th>\n",
              "      <th>Topic</th>\n",
              "      <th>Count</th>\n",
              "      <th>Name</th>\n",
              "    </tr>\n",
              "  </thead>\n",
              "  <tbody>\n",
              "    <tr>\n",
              "      <th>0</th>\n",
              "      <td>-1</td>\n",
              "      <td>93</td>\n",
              "      <td>-1_say_auction_card_sap</td>\n",
              "    </tr>\n",
              "    <tr>\n",
              "      <th>1</th>\n",
              "      <td>0</td>\n",
              "      <td>44</td>\n",
              "      <td>0_earning_share_revenue_zoom</td>\n",
              "    </tr>\n",
              "    <tr>\n",
              "      <th>2</th>\n",
              "      <td>1</td>\n",
              "      <td>28</td>\n",
              "      <td>1_vehicle_tesla_tax credit_car</td>\n",
              "    </tr>\n",
              "    <tr>\n",
              "      <th>3</th>\n",
              "      <td>2</td>\n",
              "      <td>21</td>\n",
              "      <td>2_inflation_rate_wage_fed</td>\n",
              "    </tr>\n",
              "    <tr>\n",
              "      <th>4</th>\n",
              "      <td>3</td>\n",
              "      <td>20</td>\n",
              "      <td>3_vaccine_virus_monkeypox_dose</td>\n",
              "    </tr>\n",
              "    <tr>\n",
              "      <th>5</th>\n",
              "      <td>4</td>\n",
              "      <td>19</td>\n",
              "      <td>4_alibaba_china_singapore_pinduoduo</td>\n",
              "    </tr>\n",
              "    <tr>\n",
              "      <th>6</th>\n",
              "      <td>5</td>\n",
              "      <td>18</td>\n",
              "      <td>5_taiwan_apple_china_iphone</td>\n",
              "    </tr>\n",
              "    <tr>\n",
              "      <th>7</th>\n",
              "      <td>6</td>\n",
              "      <td>16</td>\n",
              "      <td>6_berkshire_occidental_buyback_gm</td>\n",
              "    </tr>\n",
              "    <tr>\n",
              "      <th>8</th>\n",
              "      <td>7</td>\n",
              "      <td>15</td>\n",
              "      <td>7_streaming_hbo_sport_amazon</td>\n",
              "    </tr>\n",
              "    <tr>\n",
              "      <th>9</th>\n",
              "      <td>8</td>\n",
              "      <td>15</td>\n",
              "      <td>8_ukraine_russia_plant_iran</td>\n",
              "    </tr>\n",
              "    <tr>\n",
              "      <th>10</th>\n",
              "      <td>9</td>\n",
              "      <td>14</td>\n",
              "      <td>9_yandex_dubai_vk_beach</td>\n",
              "    </tr>\n",
              "    <tr>\n",
              "      <th>11</th>\n",
              "      <td>10</td>\n",
              "      <td>13</td>\n",
              "      <td>10_reit_estate_fund_etf</td>\n",
              "    </tr>\n",
              "    <tr>\n",
              "      <th>12</th>\n",
              "      <td>11</td>\n",
              "      <td>13</td>\n",
              "      <td>11_bed bath_bath_bed_cohen</td>\n",
              "    </tr>\n",
              "    <tr>\n",
              "      <th>13</th>\n",
              "      <td>12</td>\n",
              "      <td>12</td>\n",
              "      <td>12_gas_energy_germany_truss</td>\n",
              "    </tr>\n",
              "    <tr>\n",
              "      <th>14</th>\n",
              "      <td>13</td>\n",
              "      <td>12</td>\n",
              "      <td>13_amc_ape_cineworld_share</td>\n",
              "    </tr>\n",
              "    <tr>\n",
              "      <th>15</th>\n",
              "      <td>14</td>\n",
              "      <td>12</td>\n",
              "      <td>14_consensus_margin_margin contract_fy22</td>\n",
              "    </tr>\n",
              "    <tr>\n",
              "      <th>16</th>\n",
              "      <td>15</td>\n",
              "      <td>12</td>\n",
              "      <td>15_culver_mcdonald_foot locker_locker</td>\n",
              "    </tr>\n",
              "    <tr>\n",
              "      <th>17</th>\n",
              "      <td>16</td>\n",
              "      <td>10</td>\n",
              "      <td>16_abortion_union_google_pill</td>\n",
              "    </tr>\n",
              "    <tr>\n",
              "      <th>18</th>\n",
              "      <td>17</td>\n",
              "      <td>9</td>\n",
              "      <td>17_maintain_date action_analyst_price target</td>\n",
              "    </tr>\n",
              "    <tr>\n",
              "      <th>19</th>\n",
              "      <td>18</td>\n",
              "      <td>9</td>\n",
              "      <td>18_affidavit_trump_raid_warrant</td>\n",
              "    </tr>\n",
              "    <tr>\n",
              "      <th>20</th>\n",
              "      <td>19</td>\n",
              "      <td>9</td>\n",
              "      <td>19_home_rate_home price_rent</td>\n",
              "    </tr>\n",
              "    <tr>\n",
              "      <th>21</th>\n",
              "      <td>20</td>\n",
              "      <td>7</td>\n",
              "      <td>20_campaign_donor_trump_primary</td>\n",
              "    </tr>\n",
              "    <tr>\n",
              "      <th>22</th>\n",
              "      <td>21</td>\n",
              "      <td>7</td>\n",
              "      <td>21_pakistan_election_police_speech</td>\n",
              "    </tr>\n",
              "    <tr>\n",
              "      <th>23</th>\n",
              "      <td>22</td>\n",
              "      <td>7</td>\n",
              "      <td>22_telecoms_hungary_telecommunication_business</td>\n",
              "    </tr>\n",
              "    <tr>\n",
              "      <th>24</th>\n",
              "      <td>23</td>\n",
              "      <td>6</td>\n",
              "      <td>23_cross_bank_river_loan</td>\n",
              "    </tr>\n",
              "    <tr>\n",
              "      <th>25</th>\n",
              "      <td>24</td>\n",
              "      <td>6</td>\n",
              "      <td>24_venezuela_enbridge_oil_michigan</td>\n",
              "    </tr>\n",
              "    <tr>\n",
              "      <th>26</th>\n",
              "      <td>25</td>\n",
              "      <td>6</td>\n",
              "      <td>25_twitter_zatko_whistleblower_security</td>\n",
              "    </tr>\n",
              "    <tr>\n",
              "      <th>27</th>\n",
              "      <td>26</td>\n",
              "      <td>6</td>\n",
              "      <td>26_china_temperature_drought_xi</td>\n",
              "    </tr>\n",
              "    <tr>\n",
              "      <th>28</th>\n",
              "      <td>27</td>\n",
              "      <td>6</td>\n",
              "      <td>27_oil_rouble_petrochina_future</td>\n",
              "    </tr>\n",
              "    <tr>\n",
              "      <th>29</th>\n",
              "      <td>28</td>\n",
              "      <td>5</td>\n",
              "      <td>28_musk_twitter_subpoena_dorsey</td>\n",
              "    </tr>\n",
              "    <tr>\n",
              "      <th>30</th>\n",
              "      <td>29</td>\n",
              "      <td>5</td>\n",
              "      <td>29_signify_amazon_health_home health</td>\n",
              "    </tr>\n",
              "    <tr>\n",
              "      <th>31</th>\n",
              "      <td>30</td>\n",
              "      <td>5</td>\n",
              "      <td>30_ad_apple_app_snapchat</td>\n",
              "    </tr>\n",
              "    <tr>\n",
              "      <th>32</th>\n",
              "      <td>31</td>\n",
              "      <td>5</td>\n",
              "      <td>31_port_airline_container_flight</td>\n",
              "    </tr>\n",
              "    <tr>\n",
              "      <th>33</th>\n",
              "      <td>32</td>\n",
              "      <td>4</td>\n",
              "      <td>32_plaintiff_ford_verdict_truck</td>\n",
              "    </tr>\n",
              "  </tbody>\n",
              "</table>\n",
              "</div>\n",
              "      <button class=\"colab-df-convert\" onclick=\"convertToInteractive('df-2d519725-ea5d-4702-80fe-7c46f078a3cf')\"\n",
              "              title=\"Convert this dataframe to an interactive table.\"\n",
              "              style=\"display:none;\">\n",
              "        \n",
              "  <svg xmlns=\"http://www.w3.org/2000/svg\" height=\"24px\"viewBox=\"0 0 24 24\"\n",
              "       width=\"24px\">\n",
              "    <path d=\"M0 0h24v24H0V0z\" fill=\"none\"/>\n",
              "    <path d=\"M18.56 5.44l.94 2.06.94-2.06 2.06-.94-2.06-.94-.94-2.06-.94 2.06-2.06.94zm-11 1L8.5 8.5l.94-2.06 2.06-.94-2.06-.94L8.5 2.5l-.94 2.06-2.06.94zm10 10l.94 2.06.94-2.06 2.06-.94-2.06-.94-.94-2.06-.94 2.06-2.06.94z\"/><path d=\"M17.41 7.96l-1.37-1.37c-.4-.4-.92-.59-1.43-.59-.52 0-1.04.2-1.43.59L10.3 9.45l-7.72 7.72c-.78.78-.78 2.05 0 2.83L4 21.41c.39.39.9.59 1.41.59.51 0 1.02-.2 1.41-.59l7.78-7.78 2.81-2.81c.8-.78.8-2.07 0-2.86zM5.41 20L4 18.59l7.72-7.72 1.47 1.35L5.41 20z\"/>\n",
              "  </svg>\n",
              "      </button>\n",
              "      \n",
              "  <style>\n",
              "    .colab-df-container {\n",
              "      display:flex;\n",
              "      flex-wrap:wrap;\n",
              "      gap: 12px;\n",
              "    }\n",
              "\n",
              "    .colab-df-convert {\n",
              "      background-color: #E8F0FE;\n",
              "      border: none;\n",
              "      border-radius: 50%;\n",
              "      cursor: pointer;\n",
              "      display: none;\n",
              "      fill: #1967D2;\n",
              "      height: 32px;\n",
              "      padding: 0 0 0 0;\n",
              "      width: 32px;\n",
              "    }\n",
              "\n",
              "    .colab-df-convert:hover {\n",
              "      background-color: #E2EBFA;\n",
              "      box-shadow: 0px 1px 2px rgba(60, 64, 67, 0.3), 0px 1px 3px 1px rgba(60, 64, 67, 0.15);\n",
              "      fill: #174EA6;\n",
              "    }\n",
              "\n",
              "    [theme=dark] .colab-df-convert {\n",
              "      background-color: #3B4455;\n",
              "      fill: #D2E3FC;\n",
              "    }\n",
              "\n",
              "    [theme=dark] .colab-df-convert:hover {\n",
              "      background-color: #434B5C;\n",
              "      box-shadow: 0px 1px 3px 1px rgba(0, 0, 0, 0.15);\n",
              "      filter: drop-shadow(0px 1px 2px rgba(0, 0, 0, 0.3));\n",
              "      fill: #FFFFFF;\n",
              "    }\n",
              "  </style>\n",
              "\n",
              "      <script>\n",
              "        const buttonEl =\n",
              "          document.querySelector('#df-2d519725-ea5d-4702-80fe-7c46f078a3cf button.colab-df-convert');\n",
              "        buttonEl.style.display =\n",
              "          google.colab.kernel.accessAllowed ? 'block' : 'none';\n",
              "\n",
              "        async function convertToInteractive(key) {\n",
              "          const element = document.querySelector('#df-2d519725-ea5d-4702-80fe-7c46f078a3cf');\n",
              "          const dataTable =\n",
              "            await google.colab.kernel.invokeFunction('convertToInteractive',\n",
              "                                                     [key], {});\n",
              "          if (!dataTable) return;\n",
              "\n",
              "          const docLinkHtml = 'Like what you see? Visit the ' +\n",
              "            '<a target=\"_blank\" href=https://colab.research.google.com/notebooks/data_table.ipynb>data table notebook</a>'\n",
              "            + ' to learn more about interactive tables.';\n",
              "          element.innerHTML = '';\n",
              "          dataTable['output_type'] = 'display_data';\n",
              "          await google.colab.output.renderOutput(dataTable, element);\n",
              "          const docLink = document.createElement('div');\n",
              "          docLink.innerHTML = docLinkHtml;\n",
              "          element.appendChild(docLink);\n",
              "        }\n",
              "      </script>\n",
              "    </div>\n",
              "  </div>\n",
              "  "
            ]
          },
          "metadata": {},
          "execution_count": 18
        }
      ]
    },
    {
      "cell_type": "code",
      "source": [
        "topic_model.get_topic(25)# 토픽 하나씩 뽑아서 키워드 체크"
      ],
      "metadata": {
        "id": "zOY2IeeaUsZk",
        "colab": {
          "base_uri": "https://localhost:8080/"
        },
        "outputId": "380e1de9-270a-4835-9d86-253c51ff8cd3"
      },
      "execution_count": 19,
      "outputs": [
        {
          "output_type": "execute_result",
          "data": {
            "text/plain": [
              "[('twitter', 0.07590634095285827),\n",
              " ('zatko', 0.0602195524861681),\n",
              " ('whistleblower', 0.050417957798227594),\n",
              " ('security', 0.03635134402707356),\n",
              " ('complaint', 0.03523625650617009),\n",
              " ('allege', 0.027821703967005472),\n",
              " ('musk', 0.02778177938022764),\n",
              " ('spam', 0.02380474560921207),\n",
              " ('cnn', 0.02308572421923483),\n",
              " ('cybersecurity', 0.020927927443958237),\n",
              " ('decree', 0.020779666052428567),\n",
              " ('datum', 0.020098804275736126),\n",
              " ('mudge', 0.019945636159329087),\n",
              " ('news organization', 0.0198015265637746),\n",
              " ('breach', 0.01974257697663143)]"
            ]
          },
          "metadata": {},
          "execution_count": 19
        }
      ]
    },
    {
      "cell_type": "code",
      "source": [
        "similar_topics, similarity = topic_model.find_topics(\"moderna\", top_n=5); similar_topics # 특정단어와 가장 연관성 높은 토픽 찾기 "
      ],
      "metadata": {
        "id": "fP6sjbIjDQ2o",
        "colab": {
          "base_uri": "https://localhost:8080/"
        },
        "outputId": "c6849734-cb55-4146-f5d2-392803e33dd7"
      },
      "execution_count": 20,
      "outputs": [
        {
          "output_type": "execute_result",
          "data": {
            "text/plain": [
              "[12, 9, 31, 27, 25]"
            ]
          },
          "metadata": {},
          "execution_count": 20
        }
      ]
    },
    {
      "cell_type": "code",
      "source": [
        "topic_model.get_representative_docs(14)[2] # 토픽에 속한 문서 내용 최대 3개까지 볼 수 잇음"
      ],
      "metadata": {
        "id": "d3aGC5hsDSDx",
        "colab": {
          "base_uri": "https://localhost:8080/",
          "height": 144
        },
        "outputId": "1123352e-df79-4e04-c11f-b817465fcdee"
      },
      "execution_count": 21,
      "outputs": [
        {
          "output_type": "execute_result",
          "data": {
            "text/plain": [
              "'J M Smucker Co\\xa0(NYSE: SJM) reported\\xa0first-quarter FY23 sales growth of 1%\\xa0year-on-year to $1.873 billion, marginally above the consensus. Net sales excluding divestitures and foreign currency exchange increased 4%. Adjusted EPS of $1.67 beat the analyst consensus of $1.27. Gross profit decreased 14% Y/Y to $552.5 million and the gross margin contracted by 490 basis points to 29.5%. The operating margin contracted 440 basis points to 9.6%, and operating income for the quarter fell 31% to $179.7 million. The company held $151.6 million in cash and equivalents as of July 31, 2022. Cash used in operating activities totaled $(39) million with a free cash flow of $(127.3) million. Outlook: J M Smucker raised FY23 adjusted EPS guidance to $8.20 - $8.60 from $7.85 - $8.25 (consensus $8.04). It sees net sales increase to be 4% - 5% from the previous outlook of 3.5% - 4.5%.'"
            ],
            "application/vnd.google.colaboratory.intrinsic+json": {
              "type": "string"
            }
          },
          "metadata": {},
          "execution_count": 21
        }
      ]
    },
    {
      "cell_type": "code",
      "source": [
        "#bertopic 새로운 기능 hierarchical_topics를 활용해 비슷한 topic끼리는 묶어주자!\n",
        "from scipy.cluster import hierarchy as sch"
      ],
      "metadata": {
        "id": "TAVLUJcuScZ2"
      },
      "execution_count": 22,
      "outputs": []
    },
    {
      "cell_type": "code",
      "source": [
        "linkage_function = lambda x: sch.linkage(x, 'single', optimal_ordering=True)"
      ],
      "metadata": {
        "id": "K1Gjy_n3ShTF"
      },
      "execution_count": 23,
      "outputs": []
    },
    {
      "cell_type": "code",
      "source": [
        "hierarchical_topics = topic_model.hierarchical_topics(week_CNBC.contents, topics,linkage_function=linkage_function)"
      ],
      "metadata": {
        "id": "MRrkEHJ3SjLN",
        "colab": {
          "base_uri": "https://localhost:8080/"
        },
        "outputId": "f1f24257-b44d-4202-ca0f-a623acc7bca0"
      },
      "execution_count": 24,
      "outputs": [
        {
          "output_type": "stream",
          "name": "stderr",
          "text": [
            "100%|██████████| 32/32 [00:00<00:00, 193.09it/s]\n"
          ]
        }
      ]
    },
    {
      "cell_type": "code",
      "source": [
        "tree = topic_model.get_topic_tree(hierarchical_topics)"
      ],
      "metadata": {
        "id": "Au3jA-_4SlhI"
      },
      "execution_count": 25,
      "outputs": []
    },
    {
      "cell_type": "code",
      "source": [
        "print(tree)"
      ],
      "metadata": {
        "id": "eAxF56pcTlJH",
        "colab": {
          "base_uri": "https://localhost:8080/"
        },
        "outputId": "3b55e35a-b625-40f2-91b2-1f492be84aef"
      },
      "execution_count": 26,
      "outputs": [
        {
          "output_type": "stream",
          "name": "stdout",
          "text": [
            ".\n",
            "├─■──vaccine_virus_monkeypox_dose_fda ── Topic: 3\n",
            "└─say_company_share_market_stock\n",
            "     ├─say_company_share_market_twitter\n",
            "     │    ├─twitter_abortion_court_election_musk\n",
            "     │    │    ├─twitter_abortion_election_musk_trump\n",
            "     │    │    │    ├─twitter_abortion_election_musk_trump\n",
            "     │    │    │    │    ├─twitter_musk_election_trump_document\n",
            "     │    │    │    │    │    ├─twitter_musk_zatko_spam_whistleblower\n",
            "     │    │    │    │    │    │    ├─■──musk_twitter_subpoena_dorsey_spam ── Topic: 28\n",
            "     │    │    │    │    │    │    └─■──twitter_zatko_whistleblower_security_complaint ── Topic: 25\n",
            "     │    │    │    │    │    └─election_trump_pakistan_campaign_affidavit\n",
            "     │    │    │    │    │         ├─trump_affidavit_election_raid_campaign\n",
            "     │    │    │    │    │         │    ├─■──affidavit_trump_raid_warrant_fbi ── Topic: 18\n",
            "     │    │    │    │    │         │    └─■──campaign_donor_trump_primary_house ── Topic: 20\n",
            "     │    │    │    │    │         └─■──pakistan_election_police_speech_arrest ── Topic: 21\n",
            "     │    │    │    │    └─■──abortion_union_google_pill_employee ── Topic: 16\n",
            "     │    │    │    └─■──plaintiff_ford_verdict_truck_goldman ── Topic: 32\n",
            "     │    │    └─■──venezuela_enbridge_oil_michigan_court ── Topic: 24\n",
            "     │    └─say_share_company_market_stock\n",
            "     │         ├─say_share_company_market_stock\n",
            "     │         │    ├─■──telecoms_hungary_telecommunication_business_government ── Topic: 22\n",
            "     │         │    └─say_share_company_stock_market\n",
            "     │         │         ├─say_share_stock_market_china\n",
            "     │         │         │    ├─say_share_stock_china_price\n",
            "     │         │         │    │    ├─■──consensus_margin_margin contract_fy22_ep ── Topic: 14\n",
            "     │         │         │    │    └─say_stock_china_share_price\n",
            "     │         │         │    │         ├─say_china_stock_share_price\n",
            "     │         │         │    │         │    ├─amc_bed bath_bath_ape_bed\n",
            "     │         │         │    │         │    │    ├─■──amc_ape_cineworld_share_ape unit ── Topic: 13\n",
            "     │         │         │    │         │    │    └─■──bed bath_bath_bed_cohen_stock ── Topic: 11\n",
            "     │         │         │    │         │    └─china_say_price_market_energy\n",
            "     │         │         │    │         │         ├─say_price_market_china_gas\n",
            "     │         │         │    │         │         │    ├─■──maintain_date action_analyst_price target_outperform rating ── Topic: 17\n",
            "     │         │         │    │         │         │    └─say_market_price_gas_china\n",
            "     │         │         │    │         │         │         ├─say_market_price_gas_russia\n",
            "     │         │         │    │         │         │         │    ├─price_gas_russia_say_energy\n",
            "     │         │         │    │         │         │         │    │    ├─■──vehicle_tesla_tax credit_car_toyota ── Topic: 1\n",
            "     │         │         │    │         │         │         │    │    └─russia_price_ukraine_rate_gas\n",
            "     │         │         │    │         │         │         │    │         ├─■──berkshire_occidental_buyback_gm_tax ── Topic: 6\n",
            "     │         │         │    │         │         │         │    │         └─russia_ukraine_gas_rate_price\n",
            "     │         │         │    │         │         │         │    │              ├─rate_reit_market_home_inflation\n",
            "     │         │         │    │         │         │         │    │              │    ├─reit_rate_inflation_home_estate\n",
            "     │         │         │    │         │         │         │    │              │    │    ├─■──reit_estate_fund_etf_index ── Topic: 10\n",
            "     │         │         │    │         │         │         │    │              │    │    └─rate_inflation_home_fed_market\n",
            "     │         │         │    │         │         │         │    │              │    │         ├─■──home_rate_home price_rent_mortgage ── Topic: 19\n",
            "     │         │         │    │         │         │         │    │              │    │         └─■──inflation_rate_wage_fed_wage growth ── Topic: 2\n",
            "     │         │         │    │         │         │         │    │              │    └─■──oil_rouble_petrochina_future_stock ── Topic: 27\n",
            "     │         │         │    │         │         │         │    │              └─gas_ukraine_russia_energy_germany\n",
            "     │         │         │    │         │         │         │    │                   ├─■──gas_energy_germany_truss_household ── Topic: 12\n",
            "     │         │         │    │         │         │         │    │                   └─■──ukraine_russia_plant_iran_grain ── Topic: 8\n",
            "     │         │         │    │         │         │         │    └─earning_alibaba_revenue_share_company\n",
            "     │         │         │    │         │         │         │         ├─■──earning_share_revenue_zoom_walmart ── Topic: 0\n",
            "     │         │         │    │         │         │         │         └─■──alibaba_china_singapore_pinduoduo_jd.com ── Topic: 4\n",
            "     │         │         │    │         │         │         └─■──taiwan_apple_china_iphone_chip ── Topic: 5\n",
            "     │         │         │    │         │         └─■──china_temperature_drought_xi_power ── Topic: 26\n",
            "     │         │         │    │         └─■──yandex_dubai_vk_beach_hotel ── Topic: 9\n",
            "     │         │         │    └─bank_suisse_credit suisse_cross_culver\n",
            "     │         │         │         ├─■──culver_mcdonald_foot locker_locker_board ── Topic: 15\n",
            "     │         │         │         └─■──cross_bank_river_loan_credit suisse ── Topic: 23\n",
            "     │         │         └─■──ad_apple_app_snapchat_marin ── Topic: 30\n",
            "     │         └─amazon_signify_streaming_hbo_health\n",
            "     │              ├─■──streaming_hbo_sport_amazon_game ── Topic: 7\n",
            "     │              └─■──signify_amazon_health_home health_warehouse ── Topic: 29\n",
            "     └─■──port_airline_container_flight_strike ── Topic: 31\n",
            "\n"
          ]
        }
      ]
    },
    {
      "cell_type": "code",
      "source": [
        "topic_model.visualize_hierarchy(hierarchical_topics=hierarchical_topics)"
      ],
      "metadata": {
        "id": "n3RhZSWHTsko",
        "colab": {
          "base_uri": "https://localhost:8080/",
          "height": 732
        },
        "outputId": "09f3344a-52b6-4325-bffa-b782f00cc325"
      },
      "execution_count": 27,
      "outputs": [
        {
          "output_type": "display_data",
          "data": {
            "text/html": [
              "<html>\n",
              "<head><meta charset=\"utf-8\" /></head>\n",
              "<body>\n",
              "    <div>            <script src=\"https://cdnjs.cloudflare.com/ajax/libs/mathjax/2.7.5/MathJax.js?config=TeX-AMS-MML_SVG\"></script><script type=\"text/javascript\">if (window.MathJax) {MathJax.Hub.Config({SVG: {font: \"STIX-Web\"}});}</script>                <script type=\"text/javascript\">window.PlotlyConfig = {MathJaxConfig: 'local'};</script>\n",
              "        <script src=\"https://cdn.plot.ly/plotly-2.8.3.min.js\"></script>                <div id=\"c19f2ff4-da1a-45f4-bfe1-30dc891cdd6c\" class=\"plotly-graph-div\" style=\"height:695px; width:1000px;\"></div>            <script type=\"text/javascript\">                                    window.PLOTLYENV=window.PLOTLYENV || {};                                    if (document.getElementById(\"c19f2ff4-da1a-45f4-bfe1-30dc891cdd6c\")) {                    Plotly.newPlot(                        \"c19f2ff4-da1a-45f4-bfe1-30dc891cdd6c\",                        [{\"hoverinfo\":\"text\",\"marker\":{\"color\":\"rgb(61,153,112)\"},\"mode\":\"lines\",\"text\":[\"musk_twitter_subpoena_dorsey_spam\",\"\",\"\",\"twitter_zatko_whistleblower_security_complaint\"],\"x\":[0.0,0.8663115643832942,0.8663115643832942,0.0],\"xaxis\":\"x\",\"y\":[-5.0,-5.0,-15.0,-15.0],\"yaxis\":\"y\",\"type\":\"scatter\"},{\"hoverinfo\":\"text\",\"marker\":{\"color\":\"rgb(0,116,217)\"},\"mode\":\"lines\",\"text\":[\"campaign_donor_trump_primary_house\",\"\",\"\",\"affidavit_trump_raid_warrant_fbi\"],\"x\":[0.0,1.1135549553401376,1.1135549553401376,0.0],\"xaxis\":\"x\",\"y\":[-45.0,-45.0,-55.0,-55.0],\"yaxis\":\"y\",\"type\":\"scatter\"},{\"hoverinfo\":\"text\",\"marker\":{\"color\":\"rgb(0,116,217)\"},\"mode\":\"lines\",\"text\":[\"pakistan_election_police_speech_arrest\",\"\",\"\",\"trump_affidavit_election_raid_campaign\"],\"x\":[0.0,1.1993392162659005,1.1993392162659005,1.1135549553401376],\"xaxis\":\"x\",\"y\":[-35.0,-35.0,-50.0,-50.0],\"yaxis\":\"y\",\"type\":\"scatter\"},{\"hoverinfo\":\"text\",\"marker\":{\"color\":\"rgb(0,116,217)\"},\"mode\":\"lines\",\"text\":[\"abortion_union_google_pill_employee\",\"\",\"\",\"election_trump_pakistan_campaign_affidavit\"],\"x\":[0.0,1.3131458655172699,1.3131458655172699,1.1993392162659005],\"xaxis\":\"x\",\"y\":[-25.0,-25.0,-42.5,-42.5],\"yaxis\":\"y\",\"type\":\"scatter\"},{\"hoverinfo\":\"text\",\"marker\":{\"color\":\"rgb(0,116,217)\"},\"mode\":\"lines\",\"text\":[\"plaintiff_ford_verdict_truck_goldman\",\"\",\"\",\"venezuela_enbridge_oil_michigan_court\"],\"x\":[0.0,1.3011979897436552,1.3011979897436552,0.0],\"xaxis\":\"x\",\"y\":[-65.0,-65.0,-75.0,-75.0],\"yaxis\":\"y\",\"type\":\"scatter\"},{\"hoverinfo\":\"text\",\"marker\":{\"color\":\"rgb(0,116,217)\"},\"mode\":\"lines\",\"text\":[\"plaintiff_ford_verdict_truck_goldman\",\"\",\"\",\"venezuela_enbridge_oil_michigan_court\"],\"x\":[1.3131458655172699,1.3982757350884858,1.3982757350884858,1.3011979897436552],\"xaxis\":\"x\",\"y\":[-33.75,-33.75,-70.0,-70.0],\"yaxis\":\"y\",\"type\":\"scatter\"},{\"hoverinfo\":\"text\",\"marker\":{\"color\":\"rgb(0,116,217)\"},\"mode\":\"lines\",\"text\":[\"twitter_musk_zatko_spam_whistleblower\",\"\",\"\",\"venezuela_enbridge_oil_michigan_court\"],\"x\":[0.8663115643832942,1.6964304296750154,1.6964304296750154,1.3982757350884858],\"xaxis\":\"x\",\"y\":[-10.0,-10.0,-51.875,-51.875],\"yaxis\":\"y\",\"type\":\"scatter\"},{\"hoverinfo\":\"text\",\"marker\":{\"color\":\"rgb(0,116,217)\"},\"mode\":\"lines\",\"text\":[\"ukraine_russia_plant_iran_grain\",\"\",\"\",\"gas_energy_germany_truss_household\"],\"x\":[0.0,1.0501899949264213,1.0501899949264213,0.0],\"xaxis\":\"x\",\"y\":[-85.0,-85.0,-95.0,-95.0],\"yaxis\":\"y\",\"type\":\"scatter\"},{\"hoverinfo\":\"text\",\"marker\":{\"color\":\"rgb(0,116,217)\"},\"mode\":\"lines\",\"text\":[\"gas_ukraine_russia_energy_germany\",\"\",\"\",\"vehicle_tesla_tax credit_car_toyota\"],\"x\":[1.0501899949264213,1.2396020559884402,1.2396020559884402,0.0],\"xaxis\":\"x\",\"y\":[-90.0,-90.0,-105.0,-105.0],\"yaxis\":\"y\",\"type\":\"scatter\"},{\"hoverinfo\":\"text\",\"marker\":{\"color\":\"rgb(0,116,217)\"},\"mode\":\"lines\",\"text\":[\"taiwan_apple_china_iphone_chip\",\"\",\"\",\"china_temperature_drought_xi_power\"],\"x\":[0.0,1.170734915194394,1.170734915194394,0.0],\"xaxis\":\"x\",\"y\":[-115.0,-115.0,-125.0,-125.0],\"yaxis\":\"y\",\"type\":\"scatter\"},{\"hoverinfo\":\"text\",\"marker\":{\"color\":\"rgb(0,116,217)\"},\"mode\":\"lines\",\"text\":[\"taiwan_apple_china_iphone_chip\",\"\",\"\",\"china_temperature_drought_xi_power\"],\"x\":[1.2396020559884402,1.3457411033864672,1.3457411033864672,1.170734915194394],\"xaxis\":\"x\",\"y\":[-97.5,-97.5,-120.0,-120.0],\"yaxis\":\"y\",\"type\":\"scatter\"},{\"hoverinfo\":\"text\",\"marker\":{\"color\":\"rgb(0,116,217)\"},\"mode\":\"lines\",\"text\":[\"alibaba_china_singapore_pinduoduo_jd.com\",\"\",\"\",\"earning_share_revenue_zoom_walmart\"],\"x\":[0.0,1.0367985522610534,1.0367985522610534,0.0],\"xaxis\":\"x\",\"y\":[-135.0,-135.0,-145.0,-145.0],\"yaxis\":\"y\",\"type\":\"scatter\"},{\"hoverinfo\":\"text\",\"marker\":{\"color\":\"rgb(0,116,217)\"},\"mode\":\"lines\",\"text\":[\"earning_alibaba_revenue_share_company\",\"\",\"\",\"oil_rouble_petrochina_future_stock\"],\"x\":[1.0367985522610534,1.2049468966757857,1.2049468966757857,0.0],\"xaxis\":\"x\",\"y\":[-140.0,-140.0,-155.0,-155.0],\"yaxis\":\"y\",\"type\":\"scatter\"},{\"hoverinfo\":\"text\",\"marker\":{\"color\":\"rgb(0,116,217)\"},\"mode\":\"lines\",\"text\":[\"berkshire_occidental_buyback_gm_tax\",\"\",\"\",\"reit_estate_fund_etf_index\"],\"x\":[0.0,1.116358177822359,1.116358177822359,0.0],\"xaxis\":\"x\",\"y\":[-165.0,-165.0,-175.0,-175.0],\"yaxis\":\"y\",\"type\":\"scatter\"},{\"hoverinfo\":\"text\",\"marker\":{\"color\":\"rgb(0,116,217)\"},\"mode\":\"lines\",\"text\":[\"berkshire_occidental_buyback_gm_tax\",\"\",\"\",\"reit_estate_fund_etf_index\"],\"x\":[1.2049468966757857,1.3308699917555842,1.3308699917555842,1.116358177822359],\"xaxis\":\"x\",\"y\":[-147.5,-147.5,-170.0,-170.0],\"yaxis\":\"y\",\"type\":\"scatter\"},{\"hoverinfo\":\"text\",\"marker\":{\"color\":\"rgb(255,65,54)\"},\"mode\":\"lines\",\"text\":[\"home_rate_home price_rent_mortgage\",\"\",\"\",\"inflation_rate_wage_fed_wage growth\"],\"x\":[0.0,0.9629022012189921,0.9629022012189921,0.0],\"xaxis\":\"x\",\"y\":[-185.0,-185.0,-195.0,-195.0],\"yaxis\":\"y\",\"type\":\"scatter\"},{\"hoverinfo\":\"text\",\"marker\":{\"color\":\"rgb(0,116,217)\"},\"mode\":\"lines\",\"text\":[\"home_rate_home price_rent_mortgage\",\"\",\"\",\"rate_inflation_home_fed_market\"],\"x\":[1.3308699917555842,1.3723195732417617,1.3723195732417617,0.9629022012189921],\"xaxis\":\"x\",\"y\":[-158.75,-158.75,-190.0,-190.0],\"yaxis\":\"y\",\"type\":\"scatter\"},{\"hoverinfo\":\"text\",\"marker\":{\"color\":\"rgb(0,116,217)\"},\"mode\":\"lines\",\"text\":[\"home_rate_home price_rent_mortgage\",\"\",\"\",\"rate_inflation_home_fed_market\"],\"x\":[1.3457411033864672,1.6587182859632643,1.6587182859632643,1.3723195732417617],\"xaxis\":\"x\",\"y\":[-108.75,-108.75,-174.375,-174.375],\"yaxis\":\"y\",\"type\":\"scatter\"},{\"hoverinfo\":\"text\",\"marker\":{\"color\":\"rgb(0,116,217)\"},\"mode\":\"lines\",\"text\":[\"port_airline_container_flight_strike\",\"\",\"\",\"vaccine_virus_monkeypox_dose_fda\"],\"x\":[0.0,1.3642099915861212,1.3642099915861212,0.0],\"xaxis\":\"x\",\"y\":[-205.0,-205.0,-215.0,-215.0],\"yaxis\":\"y\",\"type\":\"scatter\"},{\"hoverinfo\":\"text\",\"marker\":{\"color\":\"rgb(0,116,217)\"},\"mode\":\"lines\",\"text\":[\"signify_amazon_health_home health_warehouse\",\"\",\"\",\"streaming_hbo_sport_amazon_game\"],\"x\":[0.0,1.249109165252494,1.249109165252494,0.0],\"xaxis\":\"x\",\"y\":[-225.0,-225.0,-235.0,-235.0],\"yaxis\":\"y\",\"type\":\"scatter\"},{\"hoverinfo\":\"text\",\"marker\":{\"color\":\"rgb(0,116,217)\"},\"mode\":\"lines\",\"text\":[\"amazon_signify_streaming_hbo_health\",\"\",\"\",\"ad_apple_app_snapchat_marin\"],\"x\":[1.249109165252494,1.3152557153857973,1.3152557153857973,0.0],\"xaxis\":\"x\",\"y\":[-230.0,-230.0,-245.0,-245.0],\"yaxis\":\"y\",\"type\":\"scatter\"},{\"hoverinfo\":\"text\",\"marker\":{\"color\":\"rgb(0,116,217)\"},\"mode\":\"lines\",\"text\":[\"amazon_signify_streaming_hbo_health\",\"\",\"\",\"ad_apple_app_snapchat_marin\"],\"x\":[1.3642099915861212,1.4296312892914098,1.4296312892914098,1.3152557153857973],\"xaxis\":\"x\",\"y\":[-210.0,-210.0,-237.5,-237.5],\"yaxis\":\"y\",\"type\":\"scatter\"},{\"hoverinfo\":\"text\",\"marker\":{\"color\":\"rgb(0,116,217)\"},\"mode\":\"lines\",\"text\":[\"telecoms_hungary_telecommunication_business_government\",\"\",\"\",\"yandex_dubai_vk_beach_hotel\"],\"x\":[0.0,1.2479633565801798,1.2479633565801798,0.0],\"xaxis\":\"x\",\"y\":[-255.0,-255.0,-265.0,-265.0],\"yaxis\":\"y\",\"type\":\"scatter\"},{\"hoverinfo\":\"text\",\"marker\":{\"color\":\"rgb(0,116,217)\"},\"mode\":\"lines\",\"text\":[\"culver_mcdonald_foot locker_locker_board\",\"\",\"\",\"cross_bank_river_loan_credit suisse\"],\"x\":[0.0,1.1352643669615667,1.1352643669615667,0.0],\"xaxis\":\"x\",\"y\":[-275.0,-275.0,-285.0,-285.0],\"yaxis\":\"y\",\"type\":\"scatter\"},{\"hoverinfo\":\"text\",\"marker\":{\"color\":\"rgb(0,116,217)\"},\"mode\":\"lines\",\"text\":[\"culver_mcdonald_foot locker_locker_board\",\"\",\"\",\"bank_suisse_credit suisse_cross_culver\"],\"x\":[1.2479633565801798,1.318926074328416,1.318926074328416,1.1352643669615667],\"xaxis\":\"x\",\"y\":[-260.0,-260.0,-280.0,-280.0],\"yaxis\":\"y\",\"type\":\"scatter\"},{\"hoverinfo\":\"text\",\"marker\":{\"color\":\"rgb(0,116,217)\"},\"mode\":\"lines\",\"text\":[\"culver_mcdonald_foot locker_locker_board\",\"\",\"\",\"bank_suisse_credit suisse_cross_culver\"],\"x\":[1.4296312892914098,1.5082349971150955,1.5082349971150955,1.318926074328416],\"xaxis\":\"x\",\"y\":[-223.75,-223.75,-270.0,-270.0],\"yaxis\":\"y\",\"type\":\"scatter\"},{\"hoverinfo\":\"text\",\"marker\":{\"color\":\"rgb(0,116,217)\"},\"mode\":\"lines\",\"text\":[\"maintain_date action_analyst_price target_outperform rating\",\"\",\"\",\"consensus_margin_margin contract_fy22_ep\"],\"x\":[0.0,1.1900972990993133,1.1900972990993133,0.0],\"xaxis\":\"x\",\"y\":[-295.0,-295.0,-305.0,-305.0],\"yaxis\":\"y\",\"type\":\"scatter\"},{\"hoverinfo\":\"text\",\"marker\":{\"color\":\"rgb(0,116,217)\"},\"mode\":\"lines\",\"text\":[\"maintain_date action_analyst_price target_outperform rating\",\"\",\"\",\"consensus_margin_margin contract_fy22_ep\"],\"x\":[1.5082349971150955,1.569330190942301,1.569330190942301,1.1900972990993133],\"xaxis\":\"x\",\"y\":[-246.875,-246.875,-300.0,-300.0],\"yaxis\":\"y\",\"type\":\"scatter\"},{\"hoverinfo\":\"text\",\"marker\":{\"color\":\"rgb(0,116,217)\"},\"mode\":\"lines\",\"text\":[\"bed bath_bath_bed_cohen_stock\",\"\",\"\",\"amc_ape_cineworld_share_ape unit\"],\"x\":[0.0,1.036032166974686,1.036032166974686,0.0],\"xaxis\":\"x\",\"y\":[-315.0,-315.0,-325.0,-325.0],\"yaxis\":\"y\",\"type\":\"scatter\"},{\"hoverinfo\":\"text\",\"marker\":{\"color\":\"rgb(0,116,217)\"},\"mode\":\"lines\",\"text\":[\"bed bath_bath_bed_cohen_stock\",\"\",\"\",\"amc_bed bath_bath_ape_bed\"],\"x\":[1.569330190942301,1.634796956583494,1.634796956583494,1.036032166974686],\"xaxis\":\"x\",\"y\":[-273.4375,-273.4375,-320.0,-320.0],\"yaxis\":\"y\",\"type\":\"scatter\"},{\"hoverinfo\":\"text\",\"marker\":{\"color\":\"rgb(0,116,217)\"},\"mode\":\"lines\",\"text\":[\"bed bath_bath_bed_cohen_stock\",\"\",\"\",\"amc_bed bath_bath_ape_bed\"],\"x\":[1.6587182859632643,1.8236359175229762,1.8236359175229762,1.634796956583494],\"xaxis\":\"x\",\"y\":[-141.5625,-141.5625,-296.71875,-296.71875],\"yaxis\":\"y\",\"type\":\"scatter\"},{\"hoverinfo\":\"text\",\"marker\":{\"color\":\"rgb(0,116,217)\"},\"mode\":\"lines\",\"text\":[\"twitter_abortion_court_election_musk\",\"\",\"\",\"amc_bed bath_bath_ape_bed\"],\"x\":[1.6964304296750154,2.130308517494986,2.130308517494986,1.8236359175229762],\"xaxis\":\"x\",\"y\":[-30.9375,-30.9375,-219.140625,-219.140625],\"yaxis\":\"y\",\"type\":\"scatter\"},{\"hoverinfo\":\"text\",\"hovertext\":[\"plaintiff_ford_verdict_truck_goldman\",\"twitter_musk_zatko_spam_whistleblower\",\"gas_ukraine_russia_energy_germany\",\"taiwan_apple_china_iphone_chip\",\"earning_alibaba_revenue_share_company\",\"berkshire_occidental_buyback_gm_tax\",\"home_rate_home price_rent_mortgage\",\"home_rate_home price_rent_mortgage\",\"amazon_signify_streaming_hbo_health\",\"amazon_signify_streaming_hbo_health\",\"culver_mcdonald_foot locker_locker_board\",\"culver_mcdonald_foot locker_locker_board\",\"maintain_date action_analyst_price target_outperform rating\",\"bed bath_bath_bed_cohen_stock\",\"bed bath_bath_bed_cohen_stock\",\"twitter_abortion_court_election_musk\"],\"marker\":{\"color\":\"black\"},\"mode\":\"markers\",\"showlegend\":false,\"x\":[1.3131458655172699,0.8663115643832942,1.0501899949264213,1.2396020559884402,1.0367985522610534,1.2049468966757857,1.3308699917555842,1.3457411033864672,1.249109165252494,1.3642099915861212,1.2479633565801798,1.4296312892914098,1.5082349971150955,1.569330190942301,1.6587182859632643,1.6964304296750154],\"y\":[-33.75,-10.0,-90.0,-97.5,-140.0,-147.5,-158.75,-108.75,-230.0,-210.0,-260.0,-223.75,-246.875,-273.4375,-141.5625,-30.9375],\"type\":\"scatter\"},{\"hoverinfo\":\"text\",\"hovertext\":[\"trump_affidavit_election_raid_campaign\",\"election_trump_pakistan_campaign_affidavit\",\"venezuela_enbridge_oil_michigan_court\",\"venezuela_enbridge_oil_michigan_court\",\"china_temperature_drought_xi_power\",\"reit_estate_fund_etf_index\",\"rate_inflation_home_fed_market\",\"rate_inflation_home_fed_market\",\"ad_apple_app_snapchat_marin\",\"bank_suisse_credit suisse_cross_culver\",\"bank_suisse_credit suisse_cross_culver\",\"consensus_margin_margin contract_fy22_ep\",\"amc_bed bath_bath_ape_bed\",\"amc_bed bath_bath_ape_bed\",\"amc_bed bath_bath_ape_bed\"],\"marker\":{\"color\":\"black\"},\"mode\":\"markers\",\"showlegend\":false,\"x\":[1.1135549553401376,1.1993392162659005,1.3011979897436552,1.3982757350884858,1.170734915194394,1.116358177822359,0.9629022012189921,1.3723195732417617,1.3152557153857973,1.1352643669615667,1.318926074328416,1.1900972990993133,1.036032166974686,1.634796956583494,1.8236359175229762],\"y\":[-50.0,-42.5,-70.0,-51.875,-120.0,-170.0,-190.0,-174.375,-237.5,-280.0,-270.0,-300.0,-320.0,-296.71875,-219.140625],\"type\":\"scatter\"}],                        {\"autosize\":false,\"height\":695,\"hovermode\":\"closest\",\"showlegend\":false,\"width\":1000,\"xaxis\":{\"mirror\":\"allticks\",\"rangemode\":\"tozero\",\"showgrid\":false,\"showline\":true,\"showticklabels\":true,\"ticks\":\"outside\",\"type\":\"linear\",\"zeroline\":false},\"yaxis\":{\"mirror\":\"allticks\",\"rangemode\":\"tozero\",\"showgrid\":false,\"showline\":true,\"showticklabels\":true,\"tickmode\":\"array\",\"ticks\":\"outside\",\"ticktext\":[\"28_musk_twitter_subpoena\",\"25_twitter_zatko_whistleblo...\",\"16_abortion_union_google\",\"21_pakistan_election_police\",\"20_campaign_donor_trump\",\"18_affidavit_trump_raid\",\"32_plaintiff_ford_verdict\",\"24_venezuela_enbridge_oil\",\"8_ukraine_russia_plant\",\"12_gas_energy_germany\",\"1_vehicle_tesla_tax credit\",\"5_taiwan_apple_china\",\"26_china_temperature_drought\",\"4_alibaba_china_singapore\",\"0_earning_share_revenue\",\"27_oil_rouble_petrochina\",\"6_berkshire_occidental_buyb...\",\"10_reit_estate_fund\",\"19_home_rate_home price\",\"2_inflation_rate_wage\",\"31_port_airline_container\",\"3_vaccine_virus_monkeypox\",\"29_signify_amazon_health\",\"7_streaming_hbo_sport\",\"30_ad_apple_app\",\"22_telecoms_hungary_telecom...\",\"9_yandex_dubai_vk\",\"15_culver_mcdonald_foot loc...\",\"23_cross_bank_river\",\"17_maintain_date action_ana...\",\"14_consensus_margin_margin ...\",\"11_bed bath_bath_bed\",\"13_amc_ape_cineworld\"],\"tickvals\":[-5.0,-15.0,-25.0,-35.0,-45.0,-55.0,-65.0,-75.0,-85.0,-95.0,-105.0,-115.0,-125.0,-135.0,-145.0,-155.0,-165.0,-175.0,-185.0,-195.0,-205.0,-215.0,-225.0,-235.0,-245.0,-255.0,-265.0,-275.0,-285.0,-295.0,-305.0,-315.0,-325.0],\"type\":\"linear\",\"zeroline\":false,\"range\":[-330.0,0.0]},\"template\":{\"data\":{\"barpolar\":[{\"marker\":{\"line\":{\"color\":\"white\",\"width\":0.5},\"pattern\":{\"fillmode\":\"overlay\",\"size\":10,\"solidity\":0.2}},\"type\":\"barpolar\"}],\"bar\":[{\"error_x\":{\"color\":\"#2a3f5f\"},\"error_y\":{\"color\":\"#2a3f5f\"},\"marker\":{\"line\":{\"color\":\"white\",\"width\":0.5},\"pattern\":{\"fillmode\":\"overlay\",\"size\":10,\"solidity\":0.2}},\"type\":\"bar\"}],\"carpet\":[{\"aaxis\":{\"endlinecolor\":\"#2a3f5f\",\"gridcolor\":\"#C8D4E3\",\"linecolor\":\"#C8D4E3\",\"minorgridcolor\":\"#C8D4E3\",\"startlinecolor\":\"#2a3f5f\"},\"baxis\":{\"endlinecolor\":\"#2a3f5f\",\"gridcolor\":\"#C8D4E3\",\"linecolor\":\"#C8D4E3\",\"minorgridcolor\":\"#C8D4E3\",\"startlinecolor\":\"#2a3f5f\"},\"type\":\"carpet\"}],\"choropleth\":[{\"colorbar\":{\"outlinewidth\":0,\"ticks\":\"\"},\"type\":\"choropleth\"}],\"contourcarpet\":[{\"colorbar\":{\"outlinewidth\":0,\"ticks\":\"\"},\"type\":\"contourcarpet\"}],\"contour\":[{\"colorbar\":{\"outlinewidth\":0,\"ticks\":\"\"},\"colorscale\":[[0.0,\"#0d0887\"],[0.1111111111111111,\"#46039f\"],[0.2222222222222222,\"#7201a8\"],[0.3333333333333333,\"#9c179e\"],[0.4444444444444444,\"#bd3786\"],[0.5555555555555556,\"#d8576b\"],[0.6666666666666666,\"#ed7953\"],[0.7777777777777778,\"#fb9f3a\"],[0.8888888888888888,\"#fdca26\"],[1.0,\"#f0f921\"]],\"type\":\"contour\"}],\"heatmapgl\":[{\"colorbar\":{\"outlinewidth\":0,\"ticks\":\"\"},\"colorscale\":[[0.0,\"#0d0887\"],[0.1111111111111111,\"#46039f\"],[0.2222222222222222,\"#7201a8\"],[0.3333333333333333,\"#9c179e\"],[0.4444444444444444,\"#bd3786\"],[0.5555555555555556,\"#d8576b\"],[0.6666666666666666,\"#ed7953\"],[0.7777777777777778,\"#fb9f3a\"],[0.8888888888888888,\"#fdca26\"],[1.0,\"#f0f921\"]],\"type\":\"heatmapgl\"}],\"heatmap\":[{\"colorbar\":{\"outlinewidth\":0,\"ticks\":\"\"},\"colorscale\":[[0.0,\"#0d0887\"],[0.1111111111111111,\"#46039f\"],[0.2222222222222222,\"#7201a8\"],[0.3333333333333333,\"#9c179e\"],[0.4444444444444444,\"#bd3786\"],[0.5555555555555556,\"#d8576b\"],[0.6666666666666666,\"#ed7953\"],[0.7777777777777778,\"#fb9f3a\"],[0.8888888888888888,\"#fdca26\"],[1.0,\"#f0f921\"]],\"type\":\"heatmap\"}],\"histogram2dcontour\":[{\"colorbar\":{\"outlinewidth\":0,\"ticks\":\"\"},\"colorscale\":[[0.0,\"#0d0887\"],[0.1111111111111111,\"#46039f\"],[0.2222222222222222,\"#7201a8\"],[0.3333333333333333,\"#9c179e\"],[0.4444444444444444,\"#bd3786\"],[0.5555555555555556,\"#d8576b\"],[0.6666666666666666,\"#ed7953\"],[0.7777777777777778,\"#fb9f3a\"],[0.8888888888888888,\"#fdca26\"],[1.0,\"#f0f921\"]],\"type\":\"histogram2dcontour\"}],\"histogram2d\":[{\"colorbar\":{\"outlinewidth\":0,\"ticks\":\"\"},\"colorscale\":[[0.0,\"#0d0887\"],[0.1111111111111111,\"#46039f\"],[0.2222222222222222,\"#7201a8\"],[0.3333333333333333,\"#9c179e\"],[0.4444444444444444,\"#bd3786\"],[0.5555555555555556,\"#d8576b\"],[0.6666666666666666,\"#ed7953\"],[0.7777777777777778,\"#fb9f3a\"],[0.8888888888888888,\"#fdca26\"],[1.0,\"#f0f921\"]],\"type\":\"histogram2d\"}],\"histogram\":[{\"marker\":{\"pattern\":{\"fillmode\":\"overlay\",\"size\":10,\"solidity\":0.2}},\"type\":\"histogram\"}],\"mesh3d\":[{\"colorbar\":{\"outlinewidth\":0,\"ticks\":\"\"},\"type\":\"mesh3d\"}],\"parcoords\":[{\"line\":{\"colorbar\":{\"outlinewidth\":0,\"ticks\":\"\"}},\"type\":\"parcoords\"}],\"pie\":[{\"automargin\":true,\"type\":\"pie\"}],\"scatter3d\":[{\"line\":{\"colorbar\":{\"outlinewidth\":0,\"ticks\":\"\"}},\"marker\":{\"colorbar\":{\"outlinewidth\":0,\"ticks\":\"\"}},\"type\":\"scatter3d\"}],\"scattercarpet\":[{\"marker\":{\"colorbar\":{\"outlinewidth\":0,\"ticks\":\"\"}},\"type\":\"scattercarpet\"}],\"scattergeo\":[{\"marker\":{\"colorbar\":{\"outlinewidth\":0,\"ticks\":\"\"}},\"type\":\"scattergeo\"}],\"scattergl\":[{\"marker\":{\"colorbar\":{\"outlinewidth\":0,\"ticks\":\"\"}},\"type\":\"scattergl\"}],\"scattermapbox\":[{\"marker\":{\"colorbar\":{\"outlinewidth\":0,\"ticks\":\"\"}},\"type\":\"scattermapbox\"}],\"scatterpolargl\":[{\"marker\":{\"colorbar\":{\"outlinewidth\":0,\"ticks\":\"\"}},\"type\":\"scatterpolargl\"}],\"scatterpolar\":[{\"marker\":{\"colorbar\":{\"outlinewidth\":0,\"ticks\":\"\"}},\"type\":\"scatterpolar\"}],\"scatter\":[{\"marker\":{\"colorbar\":{\"outlinewidth\":0,\"ticks\":\"\"}},\"type\":\"scatter\"}],\"scatterternary\":[{\"marker\":{\"colorbar\":{\"outlinewidth\":0,\"ticks\":\"\"}},\"type\":\"scatterternary\"}],\"surface\":[{\"colorbar\":{\"outlinewidth\":0,\"ticks\":\"\"},\"colorscale\":[[0.0,\"#0d0887\"],[0.1111111111111111,\"#46039f\"],[0.2222222222222222,\"#7201a8\"],[0.3333333333333333,\"#9c179e\"],[0.4444444444444444,\"#bd3786\"],[0.5555555555555556,\"#d8576b\"],[0.6666666666666666,\"#ed7953\"],[0.7777777777777778,\"#fb9f3a\"],[0.8888888888888888,\"#fdca26\"],[1.0,\"#f0f921\"]],\"type\":\"surface\"}],\"table\":[{\"cells\":{\"fill\":{\"color\":\"#EBF0F8\"},\"line\":{\"color\":\"white\"}},\"header\":{\"fill\":{\"color\":\"#C8D4E3\"},\"line\":{\"color\":\"white\"}},\"type\":\"table\"}]},\"layout\":{\"annotationdefaults\":{\"arrowcolor\":\"#2a3f5f\",\"arrowhead\":0,\"arrowwidth\":1},\"autotypenumbers\":\"strict\",\"coloraxis\":{\"colorbar\":{\"outlinewidth\":0,\"ticks\":\"\"}},\"colorscale\":{\"diverging\":[[0,\"#8e0152\"],[0.1,\"#c51b7d\"],[0.2,\"#de77ae\"],[0.3,\"#f1b6da\"],[0.4,\"#fde0ef\"],[0.5,\"#f7f7f7\"],[0.6,\"#e6f5d0\"],[0.7,\"#b8e186\"],[0.8,\"#7fbc41\"],[0.9,\"#4d9221\"],[1,\"#276419\"]],\"sequential\":[[0.0,\"#0d0887\"],[0.1111111111111111,\"#46039f\"],[0.2222222222222222,\"#7201a8\"],[0.3333333333333333,\"#9c179e\"],[0.4444444444444444,\"#bd3786\"],[0.5555555555555556,\"#d8576b\"],[0.6666666666666666,\"#ed7953\"],[0.7777777777777778,\"#fb9f3a\"],[0.8888888888888888,\"#fdca26\"],[1.0,\"#f0f921\"]],\"sequentialminus\":[[0.0,\"#0d0887\"],[0.1111111111111111,\"#46039f\"],[0.2222222222222222,\"#7201a8\"],[0.3333333333333333,\"#9c179e\"],[0.4444444444444444,\"#bd3786\"],[0.5555555555555556,\"#d8576b\"],[0.6666666666666666,\"#ed7953\"],[0.7777777777777778,\"#fb9f3a\"],[0.8888888888888888,\"#fdca26\"],[1.0,\"#f0f921\"]]},\"colorway\":[\"#636efa\",\"#EF553B\",\"#00cc96\",\"#ab63fa\",\"#FFA15A\",\"#19d3f3\",\"#FF6692\",\"#B6E880\",\"#FF97FF\",\"#FECB52\"],\"font\":{\"color\":\"#2a3f5f\"},\"geo\":{\"bgcolor\":\"white\",\"lakecolor\":\"white\",\"landcolor\":\"white\",\"showlakes\":true,\"showland\":true,\"subunitcolor\":\"#C8D4E3\"},\"hoverlabel\":{\"align\":\"left\"},\"hovermode\":\"closest\",\"mapbox\":{\"style\":\"light\"},\"paper_bgcolor\":\"white\",\"plot_bgcolor\":\"white\",\"polar\":{\"angularaxis\":{\"gridcolor\":\"#EBF0F8\",\"linecolor\":\"#EBF0F8\",\"ticks\":\"\"},\"bgcolor\":\"white\",\"radialaxis\":{\"gridcolor\":\"#EBF0F8\",\"linecolor\":\"#EBF0F8\",\"ticks\":\"\"}},\"scene\":{\"xaxis\":{\"backgroundcolor\":\"white\",\"gridcolor\":\"#DFE8F3\",\"gridwidth\":2,\"linecolor\":\"#EBF0F8\",\"showbackground\":true,\"ticks\":\"\",\"zerolinecolor\":\"#EBF0F8\"},\"yaxis\":{\"backgroundcolor\":\"white\",\"gridcolor\":\"#DFE8F3\",\"gridwidth\":2,\"linecolor\":\"#EBF0F8\",\"showbackground\":true,\"ticks\":\"\",\"zerolinecolor\":\"#EBF0F8\"},\"zaxis\":{\"backgroundcolor\":\"white\",\"gridcolor\":\"#DFE8F3\",\"gridwidth\":2,\"linecolor\":\"#EBF0F8\",\"showbackground\":true,\"ticks\":\"\",\"zerolinecolor\":\"#EBF0F8\"}},\"shapedefaults\":{\"line\":{\"color\":\"#2a3f5f\"}},\"ternary\":{\"aaxis\":{\"gridcolor\":\"#DFE8F3\",\"linecolor\":\"#A2B1C6\",\"ticks\":\"\"},\"baxis\":{\"gridcolor\":\"#DFE8F3\",\"linecolor\":\"#A2B1C6\",\"ticks\":\"\"},\"bgcolor\":\"white\",\"caxis\":{\"gridcolor\":\"#DFE8F3\",\"linecolor\":\"#A2B1C6\",\"ticks\":\"\"}},\"title\":{\"x\":0.05},\"xaxis\":{\"automargin\":true,\"gridcolor\":\"#EBF0F8\",\"linecolor\":\"#EBF0F8\",\"ticks\":\"\",\"title\":{\"standoff\":15},\"zerolinecolor\":\"#EBF0F8\",\"zerolinewidth\":2},\"yaxis\":{\"automargin\":true,\"gridcolor\":\"#EBF0F8\",\"linecolor\":\"#EBF0F8\",\"ticks\":\"\",\"title\":{\"standoff\":15},\"zerolinecolor\":\"#EBF0F8\",\"zerolinewidth\":2}}},\"title\":{\"font\":{\"size\":22,\"color\":\"Black\"},\"text\":\"<b>Hierarchical Clustering\",\"x\":0.5,\"xanchor\":\"center\",\"yanchor\":\"top\"},\"hoverlabel\":{\"font\":{\"size\":16,\"family\":\"Rockwell\"},\"bgcolor\":\"white\"},\"plot_bgcolor\":\"#ECEFF1\"},                        {\"responsive\": true}                    ).then(function(){\n",
              "                            \n",
              "var gd = document.getElementById('c19f2ff4-da1a-45f4-bfe1-30dc891cdd6c');\n",
              "var x = new MutationObserver(function (mutations, observer) {{\n",
              "        var display = window.getComputedStyle(gd).display;\n",
              "        if (!display || display === 'none') {{\n",
              "            console.log([gd, 'removed!']);\n",
              "            Plotly.purge(gd);\n",
              "            observer.disconnect();\n",
              "        }}\n",
              "}});\n",
              "\n",
              "// Listen for the removal of the full notebook cells\n",
              "var notebookContainer = gd.closest('#notebook-container');\n",
              "if (notebookContainer) {{\n",
              "    x.observe(notebookContainer, {childList: true});\n",
              "}}\n",
              "\n",
              "// Listen for the clearing of the current output cell\n",
              "var outputEl = gd.closest('.output');\n",
              "if (outputEl) {{\n",
              "    x.observe(outputEl, {childList: true});\n",
              "}}\n",
              "\n",
              "                        })                };                            </script>        </div>\n",
              "</body>\n",
              "</html>"
            ]
          },
          "metadata": {}
        }
      ]
    },
    {
      "cell_type": "code",
      "source": [
        "#토픽 merge\n",
        "topics_to_merge = [28, 25]\n",
        "topic_model.merge_topics(week_CNBC.contents, topics, topics_to_merge)"
      ],
      "metadata": {
        "id": "FyUgMXArTKms"
      },
      "execution_count": 28,
      "outputs": []
    },
    {
      "cell_type": "code",
      "source": [
        "#32,33번 토픽인 트위터가 하나로 합쳐진 것을 볼 수 있다.\n",
        "topic_model.get_topic_info() #전체 정보"
      ],
      "metadata": {
        "id": "yWCOXB4HGsq-",
        "colab": {
          "base_uri": "https://localhost:8080/",
          "height": 1000
        },
        "outputId": "cf8141d5-134a-409e-9cc8-ba67687fc391"
      },
      "execution_count": 29,
      "outputs": [
        {
          "output_type": "execute_result",
          "data": {
            "text/plain": [
              "    Topic  Count                                            Name\n",
              "0      -1     93                         -1_say_auction_card_sap\n",
              "1       0     44                    0_earning_share_revenue_zoom\n",
              "2       1     28                  1_vehicle_tesla_tax credit_car\n",
              "3       2     21                       2_inflation_rate_wage_fed\n",
              "4       3     20                  3_vaccine_virus_monkeypox_dose\n",
              "5       4     19             4_alibaba_china_singapore_pinduoduo\n",
              "6       5     18                     5_taiwan_apple_china_iphone\n",
              "7       6     16               6_berkshire_occidental_buyback_gm\n",
              "8       7     15                    7_streaming_hbo_sport_amazon\n",
              "9       8     15                     8_ukraine_russia_plant_iran\n",
              "10      9     14                         9_yandex_dubai_vk_beach\n",
              "11     10     13                         10_reit_estate_fund_etf\n",
              "12     11     13                      11_bed bath_bath_bed_cohen\n",
              "13     12     12                      12_amc_ape_cineworld_share\n",
              "14     13     12                     13_gas_energy_germany_truss\n",
              "15     14     12            14_culver_mcdonald_foot locker_board\n",
              "16     15     12        15_consensus_margin_margin contract_fy22\n",
              "17     16     11                      16_twitter_musk_spam_zatko\n",
              "18     17     10                   17_abortion_union_google_pill\n",
              "19     18      9    18_maintain_date action_price target_analyst\n",
              "20     19      9                 19_affidavit_trump_raid_warrant\n",
              "21     20      9                    20_home_rate_home price_rent\n",
              "22     21      7              21_pakistan_election_police_speech\n",
              "23     22      7  22_telecoms_hungary_telecommunication_business\n",
              "24     23      7                 23_campaign_donor_trump_primary\n",
              "25     24      6                 24_oil_rouble_petrochina_future\n",
              "26     25      6                        25_cross_bank_river_loan\n",
              "27     26      6                 26_china_temperature_drought_xi\n",
              "28     27      6              27_venezuela_enbridge_oil_michigan\n",
              "29     28      5            28_signify_amazon_health_home health\n",
              "30     29      5                        29_ad_apple_app_snapchat\n",
              "31     30      5                30_port_airline_container_flight\n",
              "32     31      4                 31_plaintiff_ford_verdict_truck"
            ],
            "text/html": [
              "\n",
              "  <div id=\"df-d0b52a25-de64-4203-8091-86b4c48f3072\">\n",
              "    <div class=\"colab-df-container\">\n",
              "      <div>\n",
              "<style scoped>\n",
              "    .dataframe tbody tr th:only-of-type {\n",
              "        vertical-align: middle;\n",
              "    }\n",
              "\n",
              "    .dataframe tbody tr th {\n",
              "        vertical-align: top;\n",
              "    }\n",
              "\n",
              "    .dataframe thead th {\n",
              "        text-align: right;\n",
              "    }\n",
              "</style>\n",
              "<table border=\"1\" class=\"dataframe\">\n",
              "  <thead>\n",
              "    <tr style=\"text-align: right;\">\n",
              "      <th></th>\n",
              "      <th>Topic</th>\n",
              "      <th>Count</th>\n",
              "      <th>Name</th>\n",
              "    </tr>\n",
              "  </thead>\n",
              "  <tbody>\n",
              "    <tr>\n",
              "      <th>0</th>\n",
              "      <td>-1</td>\n",
              "      <td>93</td>\n",
              "      <td>-1_say_auction_card_sap</td>\n",
              "    </tr>\n",
              "    <tr>\n",
              "      <th>1</th>\n",
              "      <td>0</td>\n",
              "      <td>44</td>\n",
              "      <td>0_earning_share_revenue_zoom</td>\n",
              "    </tr>\n",
              "    <tr>\n",
              "      <th>2</th>\n",
              "      <td>1</td>\n",
              "      <td>28</td>\n",
              "      <td>1_vehicle_tesla_tax credit_car</td>\n",
              "    </tr>\n",
              "    <tr>\n",
              "      <th>3</th>\n",
              "      <td>2</td>\n",
              "      <td>21</td>\n",
              "      <td>2_inflation_rate_wage_fed</td>\n",
              "    </tr>\n",
              "    <tr>\n",
              "      <th>4</th>\n",
              "      <td>3</td>\n",
              "      <td>20</td>\n",
              "      <td>3_vaccine_virus_monkeypox_dose</td>\n",
              "    </tr>\n",
              "    <tr>\n",
              "      <th>5</th>\n",
              "      <td>4</td>\n",
              "      <td>19</td>\n",
              "      <td>4_alibaba_china_singapore_pinduoduo</td>\n",
              "    </tr>\n",
              "    <tr>\n",
              "      <th>6</th>\n",
              "      <td>5</td>\n",
              "      <td>18</td>\n",
              "      <td>5_taiwan_apple_china_iphone</td>\n",
              "    </tr>\n",
              "    <tr>\n",
              "      <th>7</th>\n",
              "      <td>6</td>\n",
              "      <td>16</td>\n",
              "      <td>6_berkshire_occidental_buyback_gm</td>\n",
              "    </tr>\n",
              "    <tr>\n",
              "      <th>8</th>\n",
              "      <td>7</td>\n",
              "      <td>15</td>\n",
              "      <td>7_streaming_hbo_sport_amazon</td>\n",
              "    </tr>\n",
              "    <tr>\n",
              "      <th>9</th>\n",
              "      <td>8</td>\n",
              "      <td>15</td>\n",
              "      <td>8_ukraine_russia_plant_iran</td>\n",
              "    </tr>\n",
              "    <tr>\n",
              "      <th>10</th>\n",
              "      <td>9</td>\n",
              "      <td>14</td>\n",
              "      <td>9_yandex_dubai_vk_beach</td>\n",
              "    </tr>\n",
              "    <tr>\n",
              "      <th>11</th>\n",
              "      <td>10</td>\n",
              "      <td>13</td>\n",
              "      <td>10_reit_estate_fund_etf</td>\n",
              "    </tr>\n",
              "    <tr>\n",
              "      <th>12</th>\n",
              "      <td>11</td>\n",
              "      <td>13</td>\n",
              "      <td>11_bed bath_bath_bed_cohen</td>\n",
              "    </tr>\n",
              "    <tr>\n",
              "      <th>13</th>\n",
              "      <td>12</td>\n",
              "      <td>12</td>\n",
              "      <td>12_amc_ape_cineworld_share</td>\n",
              "    </tr>\n",
              "    <tr>\n",
              "      <th>14</th>\n",
              "      <td>13</td>\n",
              "      <td>12</td>\n",
              "      <td>13_gas_energy_germany_truss</td>\n",
              "    </tr>\n",
              "    <tr>\n",
              "      <th>15</th>\n",
              "      <td>14</td>\n",
              "      <td>12</td>\n",
              "      <td>14_culver_mcdonald_foot locker_board</td>\n",
              "    </tr>\n",
              "    <tr>\n",
              "      <th>16</th>\n",
              "      <td>15</td>\n",
              "      <td>12</td>\n",
              "      <td>15_consensus_margin_margin contract_fy22</td>\n",
              "    </tr>\n",
              "    <tr>\n",
              "      <th>17</th>\n",
              "      <td>16</td>\n",
              "      <td>11</td>\n",
              "      <td>16_twitter_musk_spam_zatko</td>\n",
              "    </tr>\n",
              "    <tr>\n",
              "      <th>18</th>\n",
              "      <td>17</td>\n",
              "      <td>10</td>\n",
              "      <td>17_abortion_union_google_pill</td>\n",
              "    </tr>\n",
              "    <tr>\n",
              "      <th>19</th>\n",
              "      <td>18</td>\n",
              "      <td>9</td>\n",
              "      <td>18_maintain_date action_price target_analyst</td>\n",
              "    </tr>\n",
              "    <tr>\n",
              "      <th>20</th>\n",
              "      <td>19</td>\n",
              "      <td>9</td>\n",
              "      <td>19_affidavit_trump_raid_warrant</td>\n",
              "    </tr>\n",
              "    <tr>\n",
              "      <th>21</th>\n",
              "      <td>20</td>\n",
              "      <td>9</td>\n",
              "      <td>20_home_rate_home price_rent</td>\n",
              "    </tr>\n",
              "    <tr>\n",
              "      <th>22</th>\n",
              "      <td>21</td>\n",
              "      <td>7</td>\n",
              "      <td>21_pakistan_election_police_speech</td>\n",
              "    </tr>\n",
              "    <tr>\n",
              "      <th>23</th>\n",
              "      <td>22</td>\n",
              "      <td>7</td>\n",
              "      <td>22_telecoms_hungary_telecommunication_business</td>\n",
              "    </tr>\n",
              "    <tr>\n",
              "      <th>24</th>\n",
              "      <td>23</td>\n",
              "      <td>7</td>\n",
              "      <td>23_campaign_donor_trump_primary</td>\n",
              "    </tr>\n",
              "    <tr>\n",
              "      <th>25</th>\n",
              "      <td>24</td>\n",
              "      <td>6</td>\n",
              "      <td>24_oil_rouble_petrochina_future</td>\n",
              "    </tr>\n",
              "    <tr>\n",
              "      <th>26</th>\n",
              "      <td>25</td>\n",
              "      <td>6</td>\n",
              "      <td>25_cross_bank_river_loan</td>\n",
              "    </tr>\n",
              "    <tr>\n",
              "      <th>27</th>\n",
              "      <td>26</td>\n",
              "      <td>6</td>\n",
              "      <td>26_china_temperature_drought_xi</td>\n",
              "    </tr>\n",
              "    <tr>\n",
              "      <th>28</th>\n",
              "      <td>27</td>\n",
              "      <td>6</td>\n",
              "      <td>27_venezuela_enbridge_oil_michigan</td>\n",
              "    </tr>\n",
              "    <tr>\n",
              "      <th>29</th>\n",
              "      <td>28</td>\n",
              "      <td>5</td>\n",
              "      <td>28_signify_amazon_health_home health</td>\n",
              "    </tr>\n",
              "    <tr>\n",
              "      <th>30</th>\n",
              "      <td>29</td>\n",
              "      <td>5</td>\n",
              "      <td>29_ad_apple_app_snapchat</td>\n",
              "    </tr>\n",
              "    <tr>\n",
              "      <th>31</th>\n",
              "      <td>30</td>\n",
              "      <td>5</td>\n",
              "      <td>30_port_airline_container_flight</td>\n",
              "    </tr>\n",
              "    <tr>\n",
              "      <th>32</th>\n",
              "      <td>31</td>\n",
              "      <td>4</td>\n",
              "      <td>31_plaintiff_ford_verdict_truck</td>\n",
              "    </tr>\n",
              "  </tbody>\n",
              "</table>\n",
              "</div>\n",
              "      <button class=\"colab-df-convert\" onclick=\"convertToInteractive('df-d0b52a25-de64-4203-8091-86b4c48f3072')\"\n",
              "              title=\"Convert this dataframe to an interactive table.\"\n",
              "              style=\"display:none;\">\n",
              "        \n",
              "  <svg xmlns=\"http://www.w3.org/2000/svg\" height=\"24px\"viewBox=\"0 0 24 24\"\n",
              "       width=\"24px\">\n",
              "    <path d=\"M0 0h24v24H0V0z\" fill=\"none\"/>\n",
              "    <path d=\"M18.56 5.44l.94 2.06.94-2.06 2.06-.94-2.06-.94-.94-2.06-.94 2.06-2.06.94zm-11 1L8.5 8.5l.94-2.06 2.06-.94-2.06-.94L8.5 2.5l-.94 2.06-2.06.94zm10 10l.94 2.06.94-2.06 2.06-.94-2.06-.94-.94-2.06-.94 2.06-2.06.94z\"/><path d=\"M17.41 7.96l-1.37-1.37c-.4-.4-.92-.59-1.43-.59-.52 0-1.04.2-1.43.59L10.3 9.45l-7.72 7.72c-.78.78-.78 2.05 0 2.83L4 21.41c.39.39.9.59 1.41.59.51 0 1.02-.2 1.41-.59l7.78-7.78 2.81-2.81c.8-.78.8-2.07 0-2.86zM5.41 20L4 18.59l7.72-7.72 1.47 1.35L5.41 20z\"/>\n",
              "  </svg>\n",
              "      </button>\n",
              "      \n",
              "  <style>\n",
              "    .colab-df-container {\n",
              "      display:flex;\n",
              "      flex-wrap:wrap;\n",
              "      gap: 12px;\n",
              "    }\n",
              "\n",
              "    .colab-df-convert {\n",
              "      background-color: #E8F0FE;\n",
              "      border: none;\n",
              "      border-radius: 50%;\n",
              "      cursor: pointer;\n",
              "      display: none;\n",
              "      fill: #1967D2;\n",
              "      height: 32px;\n",
              "      padding: 0 0 0 0;\n",
              "      width: 32px;\n",
              "    }\n",
              "\n",
              "    .colab-df-convert:hover {\n",
              "      background-color: #E2EBFA;\n",
              "      box-shadow: 0px 1px 2px rgba(60, 64, 67, 0.3), 0px 1px 3px 1px rgba(60, 64, 67, 0.15);\n",
              "      fill: #174EA6;\n",
              "    }\n",
              "\n",
              "    [theme=dark] .colab-df-convert {\n",
              "      background-color: #3B4455;\n",
              "      fill: #D2E3FC;\n",
              "    }\n",
              "\n",
              "    [theme=dark] .colab-df-convert:hover {\n",
              "      background-color: #434B5C;\n",
              "      box-shadow: 0px 1px 3px 1px rgba(0, 0, 0, 0.15);\n",
              "      filter: drop-shadow(0px 1px 2px rgba(0, 0, 0, 0.3));\n",
              "      fill: #FFFFFF;\n",
              "    }\n",
              "  </style>\n",
              "\n",
              "      <script>\n",
              "        const buttonEl =\n",
              "          document.querySelector('#df-d0b52a25-de64-4203-8091-86b4c48f3072 button.colab-df-convert');\n",
              "        buttonEl.style.display =\n",
              "          google.colab.kernel.accessAllowed ? 'block' : 'none';\n",
              "\n",
              "        async function convertToInteractive(key) {\n",
              "          const element = document.querySelector('#df-d0b52a25-de64-4203-8091-86b4c48f3072');\n",
              "          const dataTable =\n",
              "            await google.colab.kernel.invokeFunction('convertToInteractive',\n",
              "                                                     [key], {});\n",
              "          if (!dataTable) return;\n",
              "\n",
              "          const docLinkHtml = 'Like what you see? Visit the ' +\n",
              "            '<a target=\"_blank\" href=https://colab.research.google.com/notebooks/data_table.ipynb>data table notebook</a>'\n",
              "            + ' to learn more about interactive tables.';\n",
              "          element.innerHTML = '';\n",
              "          dataTable['output_type'] = 'display_data';\n",
              "          await google.colab.output.renderOutput(dataTable, element);\n",
              "          const docLink = document.createElement('div');\n",
              "          docLink.innerHTML = docLinkHtml;\n",
              "          element.appendChild(docLink);\n",
              "        }\n",
              "      </script>\n",
              "    </div>\n",
              "  </div>\n",
              "  "
            ]
          },
          "metadata": {},
          "execution_count": 29
        }
      ]
    },
    {
      "cell_type": "code",
      "source": [
        "#한번에 여러개 묶고 싶을 때 사용\n",
        "topics_to_merge = [[1, 2]\n",
        "                   [3, 4]]\n",
        "topic_model.merge_topics(docs, topics, topics_to_merge)"
      ],
      "metadata": {
        "id": "-94NGClRTdep"
      },
      "execution_count": null,
      "outputs": []
    },
    {
      "cell_type": "code",
      "source": [
        "#calculate_probabilities =True 로 계산시 활용가능 -1로 분류된 문서들을 가장 연관있는 토픽으로 재분류\n",
        "import numpy as np\n",
        "probability_threshold = 0.01\n",
        "new_topics = [np.argmax(prob) if max(prob) >= probability_threshold else -1 for prob in probabillities]"
      ],
      "metadata": {
        "id": "jk_0b-_LAwIX"
      },
      "execution_count": null,
      "outputs": []
    },
    {
      "cell_type": "code",
      "source": [
        "week_CNBC['topics']=new_topics\n",
        "topic_df=topic_model.get_topic_info() #전체 정보"
      ],
      "metadata": {
        "id": "aekyPXtVAw9X"
      },
      "execution_count": null,
      "outputs": []
    },
    {
      "cell_type": "code",
      "source": [
        "small_cnbc=week_CNBC.loc[:,['link','contents','topics']]"
      ],
      "metadata": {
        "id": "iE8g5MfLAyQY"
      },
      "execution_count": null,
      "outputs": []
    },
    {
      "cell_type": "code",
      "source": [
        "topic_first=pd.merge(all_week_cnbc,small_cnbc,how='left',left_on=['link','contents'],right_on=['link','contents'])"
      ],
      "metadata": {
        "id": "8oz2Lsf7AzEF"
      },
      "execution_count": null,
      "outputs": []
    },
    {
      "cell_type": "code",
      "source": [
        "last=pd.merge(topic_first,topic_df,how='left',left_on='topics',right_on='Topic')"
      ],
      "metadata": {
        "id": "dTTh5jBVAz1M"
      },
      "execution_count": null,
      "outputs": []
    },
    {
      "cell_type": "code",
      "source": [
        "save=pd.merge(week_CNBC,topic_df,how='left',left_on='topics',right_on='Topic')"
      ],
      "metadata": {
        "id": "JATg3EM-A1Hf"
      },
      "execution_count": null,
      "outputs": []
    },
    {
      "cell_type": "code",
      "source": [
        "last.to_csv('0825_topics.csv',encoding='utf-8-sig')"
      ],
      "metadata": {
        "id": "5Wo0OdnEA3RE"
      },
      "execution_count": null,
      "outputs": []
    },
    {
      "cell_type": "code",
      "source": [],
      "metadata": {
        "id": "NkrgvmLbBD8U"
      },
      "execution_count": null,
      "outputs": []
    }
  ]
}