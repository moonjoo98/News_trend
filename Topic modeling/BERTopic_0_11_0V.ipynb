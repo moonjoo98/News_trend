{
  "nbformat": 4,
  "nbformat_minor": 0,
  "metadata": {
    "colab": {
      "name": "BERTopic_0.11.0V.ipynb",
      "private_outputs": true,
      "provenance": [],
      "collapsed_sections": []
    },
    "kernelspec": {
      "name": "python3",
      "display_name": "Python 3"
    },
    "language_info": {
      "name": "python"
    }
  },
  "cells": [
    {
      "cell_type": "code",
      "source": [],
      "metadata": {
        "id": "qmWfsv2mwRGc"
      },
      "execution_count": null,
      "outputs": []
    },
    {
      "cell_type": "code",
      "source": [
        "!pip install bertopic\n",
        "import os\n",
        "from google.colab import drive\n",
        "from bertopic import BERTopic\n",
        "drive.mount('/content/drive/')"
      ],
      "metadata": {
        "id": "Y0o7kJRWwtBD"
      },
      "execution_count": null,
      "outputs": []
    },
    {
      "cell_type": "code",
      "source": [
        "cd /content/drive/MyDrive"
      ],
      "metadata": {
        "id": "ZzLRteLbw15M"
      },
      "execution_count": null,
      "outputs": []
    },
    {
      "cell_type": "code",
      "source": [
        "#전처리 패키지\n",
        "import pandas as pd\n",
        "import numpy as np\n",
        "from datetime import datetime\n",
        "import re\n",
        "from nltk.corpus import stopwords\n",
        "from sklearn.feature_extraction._stop_words import ENGLISH_STOP_WORDS\n",
        "import spacy\n",
        "import string\n",
        "\n",
        "#토픽 모델링 패키지\n",
        "from bertopic import BERTopic\n",
        "import tensorflow_hub\n",
        "from umap import UMAP\n",
        "import hdbscan\n",
        "import sklearn\n",
        "from sklearn.feature_extraction.text import CountVectorizer, TfidfVectorizer\n",
        "\n",
        "#그 외\n",
        "import warnings\n"
      ],
      "metadata": {
        "id": "FoIfoaCtxmBD"
      },
      "execution_count": null,
      "outputs": []
    },
    {
      "cell_type": "code",
      "source": [
        "#MyDrive data경로에 뉴스 파일을 업로드 해줘야함\n",
        "cnbc=pd.read_csv('./data/US_topics_tagged.csv')"
      ],
      "metadata": {
        "id": "gMO3nQiNx_Qx"
      },
      "execution_count": null,
      "outputs": []
    },
    {
      "cell_type": "code",
      "source": [
        "#중복제거 후 데이터 생성\n",
        "#BERTopic의 경우 텍스트 전처리를 사전에 진행하는 것보다 후에 처리하는 것이 더 좋은 결과를 뽑아낼 수 있습니다.\n",
        "\n",
        "filter_cnbc=cnbc.drop_duplicates(['date','contents'],keep='first') # 중복 제거 \n",
        "\n",
        "filter_cnbc['date']=filter_cnbc.date.astype(str) \n",
        "filter_cnbc['date']=filter_cnbc['date'].apply(lambda x : x[:8]) \n",
        "filter_cnbc['date']=pd.to_datetime(filter_cnbc['date']) #datetime 변환\n",
        "\n",
        "filter_cnbc[filter_cnbc['contents']=='nan'] = np.nan\n",
        "filter_cnbc.dropna(subset=['contents'],how='any',axis=0,inplace=True) #결측치 제거\n",
        "\n",
        "#filter_cnbc.contents=filter_cnbc.contents.apply(lambda x : text_preprocessing(x))    \n",
        "\n",
        "week_cnbc=filter_cnbc[filter_cnbc.date.between('2022-08-18','2022-08-29')].sort_values('date') #원하는 날짜 조정 (주간 단위)\n",
        "week_CNBC=week_cnbc.reset_index(drop=True)\n",
        "\n"
      ],
      "metadata": {
        "id": "MSE0vtXHyo10"
      },
      "execution_count": null,
      "outputs": []
    },
    {
      "cell_type": "code",
      "source": [
        "#뉴스 문서 테마 라벨링을 위한 sub_news data생성\n",
        "cnbc['date']=cnbc.date.astype(str) \n",
        "cnbc['date']=cnbc['date'].apply(lambda x : x[:8]) \n",
        "cnbc['date']=pd.to_datetime(cnbc['date']) #datetime 변환\n",
        "\n",
        "cnbc[cnbc['contents']=='nan'] = np.nan\n",
        "cnbc.dropna(subset=['contents'],how='any',axis=0,inplace=True) #결측치 제거\n",
        "\n",
        "#cnbc.contents=cnbc.contents.apply(lambda x : text_preprocessing(x))   \n",
        "\n",
        "all_week_cnbc=cnbc[cnbc.date.between('2022-08-18','2022-08-29')].sort_values('date') #원하는 날짜 조정 (주간 단위)\n",
        "all_week_cnbc=all_week_cnbc.reset_index(drop=True)\n",
        "\n"
      ],
      "metadata": {
        "id": "7bOUJQMO_9hF"
      },
      "execution_count": null,
      "outputs": []
    },
    {
      "cell_type": "code",
      "source": [
        "#형태소 분석 모델 다운로드\n",
        "!python -m spacy download en_core_web_lg"
      ],
      "metadata": {
        "id": "uez-d7OUQzKq"
      },
      "execution_count": null,
      "outputs": []
    },
    {
      "cell_type": "code",
      "source": [
        "#형태소 분석 모델 정의 (spacy)\n",
        "nlp = spacy.load(\"en_core_web_lg\")#trf 모델로 변경가능\n",
        "spacy_stopwords_list = list(nlp.Defaults.stop_words)\n",
        "nlp.max_length = 40000000\n",
        "\n",
        "nlp.get_pipe('attribute_ruler').add([[{\"TEXT\":\"Russias\"}]],{\"LEMMA\":\"Russia\"}) #굳이 안써도 됨.\n",
        "nlp.get_pipe('attribute_ruler').add([[{\"TEXT\":\"Ukraines\"}]],{\"LEMMA\":\"Ukraine\"})\n",
        "nlp.get_pipe('attribute_ruler').add([[{\"TEXT\":\"Russians\"}]],{\"LEMMA\":\"Russian\"})\n",
        "nlp.get_pipe('attribute_ruler').add([[{\"TEXT\":\"Ukrainians\"}]],{\"LEMMA\":\"Ukrainian\"})\n",
        "\n",
        "#추가 불용어리스트 정의하고자 하면 사용\n",
        "stop_words_list=[\"year\",\"u\",\"cnbc\",\"cnbcs\",\"investor\",\"s\",\"t\",\"p\",\"m\",\"c\",\"k\",\"cramer\",\"cramers\",\"jim\",\"inc\",\"q\",\"fy\",\"b\",\"yahoo\",\"bloomberg\"]\n",
        "for word in stop_words_list:\n",
        "    spacy_stopwords_list.append(word)"
      ],
      "metadata": {
        "id": "k_oEpJ1TQveZ"
      },
      "execution_count": null,
      "outputs": []
    },
    {
      "cell_type": "code",
      "source": [
        "#vectorizer_model = CountVectorizer(stop_words=stopwords) \n",
        "#vectorizer_model = TfidfVectorizer(max_df=0.9)# countvectorizer과 선택해서 사용\n",
        "\n",
        "umap_model = UMAP(n_neighbors=10, min_dist=0.1, n_components=4,random_state=42,metric='cosine') #umap_model 정의 \n",
        "hdbscan_model=hdbscan.HDBSCAN(min_cluster_size=4, metric='euclidean',cluster_selection_method='eom', prediction_data=True)#hdbscan_model 정의\n",
        "\n",
        "embedding_model = tensorflow_hub.load(\"https://tfhub.dev/google/universal-sentence-encoder/4\")\n",
        "# nr_topics ='auto' auto 제거시 더 많은 토픽을 볼 수 있음 (auto시 자동으로 유사도가 높은 토픽끼리 합침)\n",
        "topic_model = BERTopic(verbose=True, embedding_model=embedding_model,top_n_words=15,min_topic_size=5,umap_model=umap_model,hdbscan_model=hdbscan_model)\n",
        "#데이터 좀 많을 떄 min_topic_size=10 , min_cluster_Size=6 등으로 조절"
      ],
      "metadata": {
        "id": "_0gOOCEqQxhA"
      },
      "execution_count": null,
      "outputs": []
    },
    {
      "cell_type": "code",
      "source": [
        "# False로 할시 속도 향상\n",
        "topic_model.calculate_probabilities = True  "
      ],
      "metadata": {
        "id": "3umNBLYxSN51"
      },
      "execution_count": null,
      "outputs": []
    },
    {
      "cell_type": "code",
      "source": [
        "topics, probabillities= topic_model.fit_transform(week_CNBC.contents)"
      ],
      "metadata": {
        "id": "cKbANHA3SUkT"
      },
      "execution_count": null,
      "outputs": []
    },
    {
      "cell_type": "code",
      "source": [
        "#(spacy) tag_ N으로 시작하고 정의한 불용어 사전에 포함되지 않고 entity에서 TIME, CARDINAL, DATE, PERSON은 제거 \n",
        "#그리고 소문자로 변환해서 조건을 만족하는 값만 반환\n",
        "#output을 뽑아낸 topics 변수에서 사후 텍스트 전처리 진행 \n",
        "def tokenizer(text):\n",
        "    words=[]\n",
        "    doc=nlp(text)\n",
        "    for token in doc:\n",
        "        if token.tag_[0] in ['N','V'] and token.lemma_.lower() not in ENGLISH_STOP_WORDS and token.ent_type_ not in ['TIME','CARDINAL','DATE','PERSON']:\n",
        "                if len(token.lemma_.lower())>1:\n",
        "                    words.append(token.lemma_.lower())\n",
        "                \n",
        "    return words\n"
      ],
      "metadata": {
        "id": "OSWnxY20SVaI"
      },
      "execution_count": null,
      "outputs": []
    },
    {
      "cell_type": "code",
      "source": [
        "vectorizer_model = TfidfVectorizer(tokenizer=tokenizer,stop_words=\"english\", ngram_range=(1, 2),min_df=2)\n",
        "topic_model.update_topics(week_CNBC.contents, topics, vectorizer_model=vectorizer_model)#위에서 정의한 사용자 정의 tokenzier를 활용해 불용어 제거"
      ],
      "metadata": {
        "id": "62KemPbjSXYT"
      },
      "execution_count": null,
      "outputs": []
    },
    {
      "cell_type": "markdown",
      "source": [],
      "metadata": {
        "id": "5Txh6PI0DGgt"
      }
    },
    {
      "cell_type": "code",
      "source": [
        "topic_model.get_topic_info() #전체 정보"
      ],
      "metadata": {
        "id": "v80hvKIJSas0"
      },
      "execution_count": null,
      "outputs": []
    },
    {
      "cell_type": "code",
      "source": [
        "topic_model.get_topic(9)# 토픽 하나씩 뽑아서 키워드 체크"
      ],
      "metadata": {
        "id": "zOY2IeeaUsZk"
      },
      "execution_count": null,
      "outputs": []
    },
    {
      "cell_type": "code",
      "source": [
        "similar_topics, similarity = topic_model.find_topics(\"moderna\", top_n=5); similar_topics # 특정단어와 가장 연관성 높은 토픽 찾기 "
      ],
      "metadata": {
        "id": "fP6sjbIjDQ2o"
      },
      "execution_count": null,
      "outputs": []
    },
    {
      "cell_type": "code",
      "source": [
        "topic_model.get_representative_docs(14)[2] # 토픽에 속한 문서 내용 최대 3개까지 볼 수 잇음"
      ],
      "metadata": {
        "id": "d3aGC5hsDSDx"
      },
      "execution_count": null,
      "outputs": []
    },
    {
      "cell_type": "code",
      "source": [
        "#bertopic 새로운 기능 hierarchical_topics를 활용해 비슷한 topic끼리는 묶어주자!\n",
        "from scipy.cluster import hierarchy as sch"
      ],
      "metadata": {
        "id": "TAVLUJcuScZ2"
      },
      "execution_count": null,
      "outputs": []
    },
    {
      "cell_type": "code",
      "source": [
        "linkage_function = lambda x: sch.linkage(x, 'single', optimal_ordering=True)"
      ],
      "metadata": {
        "id": "K1Gjy_n3ShTF"
      },
      "execution_count": null,
      "outputs": []
    },
    {
      "cell_type": "code",
      "source": [
        "hierarchical_topics = topic_model.hierarchical_topics(week_CNBC.contents, topics,linkage_function=linkage_function)"
      ],
      "metadata": {
        "id": "MRrkEHJ3SjLN"
      },
      "execution_count": null,
      "outputs": []
    },
    {
      "cell_type": "code",
      "source": [
        "tree = topic_model.get_topic_tree(hierarchical_topics)"
      ],
      "metadata": {
        "id": "Au3jA-_4SlhI"
      },
      "execution_count": null,
      "outputs": []
    },
    {
      "cell_type": "code",
      "source": [
        "print(tree)"
      ],
      "metadata": {
        "id": "eAxF56pcTlJH"
      },
      "execution_count": null,
      "outputs": []
    },
    {
      "cell_type": "code",
      "source": [
        "topic_model.visualize_hierarchy(hierarchical_topics=hierarchical_topics)"
      ],
      "metadata": {
        "id": "n3RhZSWHTsko"
      },
      "execution_count": null,
      "outputs": []
    },
    {
      "cell_type": "code",
      "source": [
        "#토픽 merge\n",
        "topics_to_merge = [32, 33]\n",
        "topic_model.merge_topics(week_CNBC.contents, topics, topics_to_merge)"
      ],
      "metadata": {
        "id": "FyUgMXArTKms"
      },
      "execution_count": null,
      "outputs": []
    },
    {
      "cell_type": "code",
      "source": [
        "#32,33번 토픽인 트위터가 하나로 합쳐진 것을 볼 수 있다.\n",
        "topic_model.get_topic_info() #전체 정보"
      ],
      "metadata": {
        "id": "yWCOXB4HGsq-"
      },
      "execution_count": null,
      "outputs": []
    },
    {
      "cell_type": "code",
      "source": [
        "topics_to_merge = [[1, 2]\n",
        "                   [3, 4]]\n",
        "topic_model.merge_topics(docs, topics, topics_to_merge)"
      ],
      "metadata": {
        "id": "-94NGClRTdep"
      },
      "execution_count": null,
      "outputs": []
    },
    {
      "cell_type": "code",
      "source": [
        "#calculate_probabilities =True 로 계산시 활용가능 -1로 분류된 문서들을 가장 연관있는 토픽으로 재분류\n",
        "import numpy as np\n",
        "probability_threshold = 0.01\n",
        "new_topics = [np.argmax(prob) if max(prob) >= probability_threshold else -1 for prob in probabillities]"
      ],
      "metadata": {
        "id": "jk_0b-_LAwIX"
      },
      "execution_count": null,
      "outputs": []
    },
    {
      "cell_type": "code",
      "source": [
        "week_CNBC['topics']=new_topics\n",
        "topic_df=topic_model.get_topic_info() #전체 정보"
      ],
      "metadata": {
        "id": "aekyPXtVAw9X"
      },
      "execution_count": null,
      "outputs": []
    },
    {
      "cell_type": "code",
      "source": [
        "small_cnbc=week_CNBC.loc[:,['link','contents','topics']]"
      ],
      "metadata": {
        "id": "iE8g5MfLAyQY"
      },
      "execution_count": null,
      "outputs": []
    },
    {
      "cell_type": "code",
      "source": [
        "topic_first=pd.merge(all_week_cnbc,small_cnbc,how='left',left_on=['link','contents'],right_on=['link','contents'])"
      ],
      "metadata": {
        "id": "8oz2Lsf7AzEF"
      },
      "execution_count": null,
      "outputs": []
    },
    {
      "cell_type": "code",
      "source": [
        "last=pd.merge(topic_first,topic_df,how='left',left_on='topics',right_on='Topic')"
      ],
      "metadata": {
        "id": "dTTh5jBVAz1M"
      },
      "execution_count": null,
      "outputs": []
    },
    {
      "cell_type": "code",
      "source": [
        "save=pd.merge(week_CNBC,topic_df,how='left',left_on='topics',right_on='Topic')"
      ],
      "metadata": {
        "id": "JATg3EM-A1Hf"
      },
      "execution_count": null,
      "outputs": []
    },
    {
      "cell_type": "code",
      "source": [
        "last.to_csv('0825_topics.csv',encoding='utf-8-sig')"
      ],
      "metadata": {
        "id": "5Wo0OdnEA3RE"
      },
      "execution_count": null,
      "outputs": []
    },
    {
      "cell_type": "code",
      "source": [],
      "metadata": {
        "id": "NkrgvmLbBD8U"
      },
      "execution_count": null,
      "outputs": []
    }
  ]
}